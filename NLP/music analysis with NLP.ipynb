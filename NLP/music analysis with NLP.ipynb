{
 "cells": [
  {
   "cell_type": "markdown",
   "metadata": {},
   "source": [
    "## Carregando os pacotes"
   ]
  },
  {
   "cell_type": "code",
   "execution_count": 6,
   "metadata": {},
   "outputs": [],
   "source": [
    "library(dplyr) # manipulação dos dados\n",
    "library(ggplot2) # visualização\n",
    "library(gridExtra) # visualizar vários gráficos juntos\n",
    "library(tidytext) # mineração de texto\n",
    "library(wordcloud2) # criação de núvem de palavras"
   ]
  },
  {
   "cell_type": "markdown",
   "metadata": {},
   "source": [
    "## Lendo os dados"
   ]
  },
  {
   "cell_type": "code",
   "execution_count": 2,
   "metadata": {},
   "outputs": [],
   "source": [
    "prince_orig <- read.csv(\"data/prince_raw_data.csv\", stringsAsFactors = FALSE)"
   ]
  },
  {
   "cell_type": "code",
   "execution_count": 3,
   "metadata": {},
   "outputs": [
    {
     "data": {
      "text/html": [
       "<ol class=list-inline>\n",
       "\t<li>'X'</li>\n",
       "\t<li>'text'</li>\n",
       "\t<li>'artist'</li>\n",
       "\t<li>'song'</li>\n",
       "\t<li>'year'</li>\n",
       "\t<li>'album'</li>\n",
       "\t<li>'Release.Date'</li>\n",
       "\t<li>'US.Pop'</li>\n",
       "\t<li>'US.R.B'</li>\n",
       "\t<li>'CA'</li>\n",
       "\t<li>'UK'</li>\n",
       "\t<li>'IR'</li>\n",
       "\t<li>'NL'</li>\n",
       "\t<li>'DE'</li>\n",
       "\t<li>'AT'</li>\n",
       "\t<li>'FR'</li>\n",
       "\t<li>'JP'</li>\n",
       "\t<li>'AU'</li>\n",
       "\t<li>'NZ'</li>\n",
       "\t<li>'peak'</li>\n",
       "</ol>\n"
      ],
      "text/latex": [
       "\\begin{enumerate*}\n",
       "\\item 'X'\n",
       "\\item 'text'\n",
       "\\item 'artist'\n",
       "\\item 'song'\n",
       "\\item 'year'\n",
       "\\item 'album'\n",
       "\\item 'Release.Date'\n",
       "\\item 'US.Pop'\n",
       "\\item 'US.R.B'\n",
       "\\item 'CA'\n",
       "\\item 'UK'\n",
       "\\item 'IR'\n",
       "\\item 'NL'\n",
       "\\item 'DE'\n",
       "\\item 'AT'\n",
       "\\item 'FR'\n",
       "\\item 'JP'\n",
       "\\item 'AU'\n",
       "\\item 'NZ'\n",
       "\\item 'peak'\n",
       "\\end{enumerate*}\n"
      ],
      "text/markdown": [
       "1. 'X'\n",
       "2. 'text'\n",
       "3. 'artist'\n",
       "4. 'song'\n",
       "5. 'year'\n",
       "6. 'album'\n",
       "7. 'Release.Date'\n",
       "8. 'US.Pop'\n",
       "9. 'US.R.B'\n",
       "10. 'CA'\n",
       "11. 'UK'\n",
       "12. 'IR'\n",
       "13. 'NL'\n",
       "14. 'DE'\n",
       "15. 'AT'\n",
       "16. 'FR'\n",
       "17. 'JP'\n",
       "18. 'AU'\n",
       "19. 'NZ'\n",
       "20. 'peak'\n",
       "\n",
       "\n"
      ],
      "text/plain": [
       " [1] \"X\"            \"text\"         \"artist\"       \"song\"         \"year\"        \n",
       " [6] \"album\"        \"Release.Date\" \"US.Pop\"       \"US.R.B\"       \"CA\"          \n",
       "[11] \"UK\"           \"IR\"           \"NL\"           \"DE\"           \"AT\"          \n",
       "[16] \"FR\"           \"JP\"           \"AU\"           \"NZ\"           \"peak\"        "
      ]
     },
     "metadata": {},
     "output_type": "display_data"
    }
   ],
   "source": [
    "# Colunas da base de dados\n",
    "names(prince_orig)"
   ]
  },
  {
   "cell_type": "code",
   "execution_count": 7,
   "metadata": {},
   "outputs": [
    {
     "name": "stdout",
     "output_type": "stream",
     "text": [
      "Observations: 1\n",
      "Variables: 7\n",
      "$ lyrics <chr> \"I just can't believe all the things people say, controversy\\n…\n",
      "$ song   <chr> \"controversy\"\n",
      "$ year   <int> 1981\n",
      "$ album  <chr> \"Controversy\"\n",
      "$ peak   <int> 3\n",
      "$ us_pop <chr> \"70\"\n",
      "$ us_rnb <chr> \"3\"\n"
     ]
    }
   ],
   "source": [
    "# Selecionando algumas colunas \n",
    "prince <- prince_orig  %>% \n",
    "    select(lyrics = text, song, year, album, peak, us_pop = US.Pop, us_rnb = US.R.B)\n",
    "\n",
    "glimpse(prince[139,])"
   ]
  },
  {
   "cell_type": "code",
   "execution_count": 8,
   "metadata": {},
   "outputs": [
    {
     "data": {
      "text/html": [
       "<ol class=list-inline>\n",
       "\t<li>824</li>\n",
       "\t<li>7</li>\n",
       "</ol>\n"
      ],
      "text/latex": [
       "\\begin{enumerate*}\n",
       "\\item 824\n",
       "\\item 7\n",
       "\\end{enumerate*}\n"
      ],
      "text/markdown": [
       "1. 824\n",
       "2. 7\n",
       "\n",
       "\n"
      ],
      "text/plain": [
       "[1] 824   7"
      ]
     },
     "metadata": {},
     "output_type": "display_data"
    }
   ],
   "source": [
    "dim(prince)"
   ]
  },
  {
   "cell_type": "code",
   "execution_count": 9,
   "metadata": {},
   "outputs": [
    {
     "name": "stdout",
     "output_type": "stream",
     "text": [
      " chr \"I just can't believe all the things people say, controversy\\nAm I Black or White? Am I straight or gay? Controversy\\nDo I believe in God? Do I believe in me? Controversy\\nControversy, controversy\\nI can't understand human curiosity, controversy\\nWas it good for you? Was I what you w\"| __truncated__\n"
     ]
    }
   ],
   "source": [
    "str(prince[139,]$lyrics, nchar.max = 300)"
   ]
  },
  {
   "cell_type": "markdown",
   "metadata": {},
   "source": [
    "## Limpeza básica"
   ]
  },
  {
   "cell_type": "code",
   "execution_count": 10,
   "metadata": {},
   "outputs": [],
   "source": [
    "# Função responsável por remover as contrações da língua inglesa\n",
    "fix.contractions <- function(doc) {\n",
    "    doc <- gsub(\"won't\", \"will not\", doc)\n",
    "    doc <- gsub(\"can't\", \"can not\", doc)\n",
    "    doc <- gsub(\"n't\", \" not\", doc)\n",
    "    doc <- gsub(\"'ll\", \"will\", doc)\n",
    "    doc <- gsub(\"'re\", \" are\", doc)\n",
    "    doc <- gsub(\"'ve\", \" have\", doc)\n",
    "    doc <- gsub(\"'m\", \" am\", doc)\n",
    "    doc <- gsub(\"'d\", \" would\", doc)\n",
    "    doc <- gsub(\"'s\", \"\", doc)\n",
    "    return(doc)\n",
    "}"
   ]
  },
  {
   "cell_type": "code",
   "execution_count": 11,
   "metadata": {},
   "outputs": [],
   "source": [
    "prince$lyrics <- sapply(prince$lyrics, fix.contractions)"
   ]
  },
  {
   "cell_type": "code",
   "execution_count": 12,
   "metadata": {},
   "outputs": [],
   "source": [
    "# Função responsável por remover caracteres especiais\n",
    "removeSpecialChars <- function(x) gsub(\"[^a-zA-Z0-9 ]\", \" \", x)\n",
    "\n",
    "# Removendo os caracteres especiais\n",
    "prince$lyrics <- sapply(prince$lyrics, removeSpecialChars)"
   ]
  },
  {
   "cell_type": "code",
   "execution_count": 13,
   "metadata": {},
   "outputs": [],
   "source": [
    "# Convertendo todas as letras para minúsculo\n",
    "prince$lyrics <- sapply(prince$lyrics, tolower)"
   ]
  },
  {
   "cell_type": "code",
   "execution_count": 15,
   "metadata": {},
   "outputs": [
    {
     "name": "stdout",
     "output_type": "stream",
     "text": [
      " chr \"i just can not believe all the things people say  controversy am i black or white  am i straight or gay  controversy do i believe in god  do i believe in me  controversy controversy  controversy i can not understand human curiosity  controversy was it good for you  was i what you wa\"| __truncated__\n"
     ]
    }
   ],
   "source": [
    "str(prince[139,]$lyrics, nchar.max = 300)"
   ]
  },
  {
   "cell_type": "code",
   "execution_count": 16,
   "metadata": {},
   "outputs": [
    {
     "data": {
      "text/plain": [
       "    lyrics              song                year         album          \n",
       " Length:824         Length:824         Min.   :1978   Length:824        \n",
       " Class :character   Class :character   1st Qu.:1989   Class :character  \n",
       " Mode  :character   Mode  :character   Median :1996   Mode  :character  \n",
       "                                       Mean   :1995                     \n",
       "                                       3rd Qu.:1999                     \n",
       "                                       Max.   :2015                     \n",
       "                                       NA's   :495                      \n",
       "      peak          us_pop             us_rnb         \n",
       " Min.   : 0.00   Length:824         Length:824        \n",
       " 1st Qu.: 2.00   Class :character   Class :character  \n",
       " Median : 7.00   Mode  :character   Mode  :character  \n",
       " Mean   :15.48                                        \n",
       " 3rd Qu.:19.00                                        \n",
       " Max.   :88.00                                        \n",
       " NA's   :751                                          "
      ]
     },
     "metadata": {},
     "output_type": "display_data"
    }
   ],
   "source": [
    "summary(prince)"
   ]
  },
  {
   "cell_type": "code",
   "execution_count": 18,
   "metadata": {},
   "outputs": [
    {
     "data": {
      "text/html": [
       "<ol class=list-inline>\n",
       "\t<li>1978</li>\n",
       "\t<li>1979</li>\n",
       "\t<li>1980</li>\n",
       "\t<li>1981</li>\n",
       "\t<li>1982</li>\n",
       "\t<li>1984</li>\n",
       "\t<li>1985</li>\n",
       "\t<li>1986</li>\n",
       "\t<li>1987</li>\n",
       "\t<li>1988</li>\n",
       "\t<li>1989</li>\n",
       "\t<li>1990</li>\n",
       "\t<li>1991</li>\n",
       "\t<li>1992</li>\n",
       "\t<li>1993</li>\n",
       "\t<li>1994</li>\n",
       "\t<li>1995</li>\n",
       "\t<li>1996</li>\n",
       "\t<li>1998</li>\n",
       "\t<li>1999</li>\n",
       "\t<li>2001</li>\n",
       "\t<li>2002</li>\n",
       "\t<li>2004</li>\n",
       "\t<li>2006</li>\n",
       "\t<li>2007</li>\n",
       "\t<li>2009</li>\n",
       "\t<li>2010</li>\n",
       "\t<li>2015</li>\n",
       "</ol>\n"
      ],
      "text/latex": [
       "\\begin{enumerate*}\n",
       "\\item 1978\n",
       "\\item 1979\n",
       "\\item 1980\n",
       "\\item 1981\n",
       "\\item 1982\n",
       "\\item 1984\n",
       "\\item 1985\n",
       "\\item 1986\n",
       "\\item 1987\n",
       "\\item 1988\n",
       "\\item 1989\n",
       "\\item 1990\n",
       "\\item 1991\n",
       "\\item 1992\n",
       "\\item 1993\n",
       "\\item 1994\n",
       "\\item 1995\n",
       "\\item 1996\n",
       "\\item 1998\n",
       "\\item 1999\n",
       "\\item 2001\n",
       "\\item 2002\n",
       "\\item 2004\n",
       "\\item 2006\n",
       "\\item 2007\n",
       "\\item 2009\n",
       "\\item 2010\n",
       "\\item 2015\n",
       "\\end{enumerate*}\n"
      ],
      "text/markdown": [
       "1. 1978\n",
       "2. 1979\n",
       "3. 1980\n",
       "4. 1981\n",
       "5. 1982\n",
       "6. 1984\n",
       "7. 1985\n",
       "8. 1986\n",
       "9. 1987\n",
       "10. 1988\n",
       "11. 1989\n",
       "12. 1990\n",
       "13. 1991\n",
       "14. 1992\n",
       "15. 1993\n",
       "16. 1994\n",
       "17. 1995\n",
       "18. 1996\n",
       "19. 1998\n",
       "20. 1999\n",
       "21. 2001\n",
       "22. 2002\n",
       "23. 2004\n",
       "24. 2006\n",
       "25. 2007\n",
       "26. 2009\n",
       "27. 2010\n",
       "28. 2015\n",
       "\n",
       "\n"
      ],
      "text/plain": [
       " [1] 1978 1979 1980 1981 1982 1984 1985 1986 1987 1988 1989 1990 1991 1992 1993\n",
       "[16] 1994 1995 1996 1998 1999 2001 2002 2004 2006 2007 2009 2010 2015"
      ]
     },
     "metadata": {},
     "output_type": "display_data"
    }
   ],
   "source": [
    "# Anos dos dados\n",
    "unique(prince$year)  %>% sort()"
   ]
  },
  {
   "cell_type": "markdown",
   "metadata": {},
   "source": [
    "## Adicionando novas colunas"
   ]
  },
  {
   "cell_type": "code",
   "execution_count": 20,
   "metadata": {},
   "outputs": [],
   "source": [
    "prince <- prince  %>% \n",
    "    mutate(decade =\n",
    "                ifelse(prince$year %in% 1978:1979, \"1970s\",\n",
    "                ifelse(prince$year %in% 1980:1989, \"1980s\",\n",
    "                ifelse(prince$year %in% 1990:1999, \"1990s\",\n",
    "                ifelse(prince$year %in% 2000:2009, \"2000s\",\n",
    "                ifelse(prince$year %in% 2010:2019, \"2010s\",\n",
    "                       \"NA\")))))\n",
    "          )"
   ]
  },
  {
   "cell_type": "code",
   "execution_count": 21,
   "metadata": {},
   "outputs": [],
   "source": [
    "prince <- prince  %>% \n",
    "    mutate(chart_level = \n",
    "           ifelse(prince$peak %in% 1:10, 'Top 10',\n",
    "                 ifelse(prince$peak %in% 11:100, 'Top 100', 'Uncharted'))\n",
    "    )"
   ]
  },
  {
   "cell_type": "code",
   "execution_count": 22,
   "metadata": {},
   "outputs": [],
   "source": [
    "prince <- prince  %>% \n",
    "    mutate(charted = ifelse(prince$peak %in% 1:100, 'Charted', 'Uncharted'))\n",
    "\n",
    "# Salvando o novo DataFrame - Para utilizar\n",
    "write.csv(prince, file = 'prince_new.csv')"
   ]
  },
  {
   "cell_type": "code",
   "execution_count": null,
   "metadata": {},
   "outputs": [],
   "source": []
  }
 ],
 "metadata": {
  "kernelspec": {
   "display_name": "R",
   "language": "R",
   "name": "ir"
  },
  "language_info": {
   "codemirror_mode": "r",
   "file_extension": ".r",
   "mimetype": "text/x-r-source",
   "name": "R",
   "pygments_lexer": "r",
   "version": "3.5.0"
  }
 },
 "nbformat": 4,
 "nbformat_minor": 2
}
