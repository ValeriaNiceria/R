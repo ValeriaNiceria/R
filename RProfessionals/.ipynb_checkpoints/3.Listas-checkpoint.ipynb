{
 "cells": [
  {
   "cell_type": "markdown",
   "metadata": {},
   "source": [
    "## Listas"
   ]
  },
  {
   "cell_type": "code",
   "execution_count": 2,
   "metadata": {},
   "outputs": [
    {
     "data": {
      "text/html": [
       "<ol>\n",
       "\t<li>'tennis'</li>\n",
       "\t<li>'film'</li>\n",
       "\t<li>'outdoors'</li>\n",
       "</ol>\n"
      ],
      "text/latex": [
       "\\begin{enumerate}\n",
       "\\item 'tennis'\n",
       "\\item 'film'\n",
       "\\item 'outdoors'\n",
       "\\end{enumerate}\n"
      ],
      "text/markdown": [
       "1. 'tennis'\n",
       "2. 'film'\n",
       "3. 'outdoors'\n",
       "\n",
       "\n"
      ],
      "text/plain": [
       "[[1]]\n",
       "[1] \"tennis\"\n",
       "\n",
       "[[2]]\n",
       "[1] \"film\"\n",
       "\n",
       "[[3]]\n",
       "[1] \"outdoors\"\n"
      ]
     },
     "metadata": {},
     "output_type": "display_data"
    }
   ],
   "source": [
    "clubs <- list('tennis', 'film', 'outdoors')\n",
    "clubs"
   ]
  },
  {
   "cell_type": "code",
   "execution_count": 3,
   "metadata": {},
   "outputs": [
    {
     "data": {
      "text/html": [
       "<ol>\n",
       "\t<li>'dança de salão'</li>\n",
       "\t<li>'rugby'</li>\n",
       "\t<li>'observatório de pássaros'</li>\n",
       "\t<li>'cerâmica'</li>\n",
       "</ol>\n"
      ],
      "text/latex": [
       "\\begin{enumerate}\n",
       "\\item 'dança de salão'\n",
       "\\item 'rugby'\n",
       "\\item 'observatório de pássaros'\n",
       "\\item 'cerâmica'\n",
       "\\end{enumerate}\n"
      ],
      "text/markdown": [
       "1. 'dança de salão'\n",
       "2. 'rugby'\n",
       "3. 'observatório de pássaros'\n",
       "4. 'cerâmica'\n",
       "\n",
       "\n"
      ],
      "text/plain": [
       "[[1]]\n",
       "[1] \"dança de salão\"\n",
       "\n",
       "[[2]]\n",
       "[1] \"rugby\"\n",
       "\n",
       "[[3]]\n",
       "[1] \"observatório de pássaros\"\n",
       "\n",
       "[[4]]\n",
       "[1] \"cerâmica\"\n"
      ]
     },
     "metadata": {},
     "output_type": "display_data"
    }
   ],
   "source": [
    "uni_clubs <- list('dança de salão', 'rugby', 'observatório de pássaros', 'cerâmica')\n",
    "uni_clubs"
   ]
  },
  {
   "cell_type": "code",
   "execution_count": 4,
   "metadata": {},
   "outputs": [
    {
     "data": {
      "text/html": [
       "'dança de salão'"
      ],
      "text/latex": [
       "'dança de salão'"
      ],
      "text/markdown": [
       "'dança de salão'"
      ],
      "text/plain": [
       "[1] \"dança de salão\""
      ]
     },
     "metadata": {},
     "output_type": "display_data"
    }
   ],
   "source": [
    "uni_clubs[[1]]"
   ]
  },
  {
   "cell_type": "code",
   "execution_count": null,
   "metadata": {},
   "outputs": [],
   "source": []
  }
 ],
 "metadata": {
  "kernelspec": {
   "display_name": "R",
   "language": "R",
   "name": "ir"
  },
  "language_info": {
   "codemirror_mode": "r",
   "file_extension": ".r",
   "mimetype": "text/x-r-source",
   "name": "R",
   "pygments_lexer": "r",
   "version": "3.6.0"
  }
 },
 "nbformat": 4,
 "nbformat_minor": 2
}
