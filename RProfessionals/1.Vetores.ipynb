{
 "cells": [
  {
   "cell_type": "markdown",
   "metadata": {},
   "source": [
    "## Vetores"
   ]
  },
  {
   "cell_type": "code",
   "execution_count": 1,
   "metadata": {},
   "outputs": [],
   "source": [
    "# atribuindo as notas\n",
    "matematica  <- 88\n",
    "quimica <- 87.66667\n",
    "redacao <- 86\n",
    "arte <- 91.33333\n",
    "historia <- 84\n",
    "musica <- 91\n",
    "educacao_fisica <- 89.33333"
   ]
  },
  {
   "cell_type": "code",
   "execution_count": 2,
   "metadata": {},
   "outputs": [],
   "source": [
    "# Criando um vetor com as notas\n",
    "notas_final <- c(matematica, quimica, redacao, arte, historia, musica, educacao_fisica)"
   ]
  },
  {
   "cell_type": "code",
   "execution_count": 3,
   "metadata": {},
   "outputs": [
    {
     "data": {
      "text/html": [
       "88.1904757142857"
      ],
      "text/latex": [
       "88.1904757142857"
      ],
      "text/markdown": [
       "88.1904757142857"
      ],
      "text/plain": [
       "[1] 88.19048"
      ]
     },
     "metadata": {},
     "output_type": "display_data"
    }
   ],
   "source": [
    "# Calculando a média das notas\n",
    "mean( notas_final )"
   ]
  },
  {
   "cell_type": "code",
   "execution_count": 4,
   "metadata": {},
   "outputs": [
    {
     "data": {
      "text/html": [
       "86"
      ],
      "text/latex": [
       "86"
      ],
      "text/markdown": [
       "86"
      ],
      "text/plain": [
       "[1] 86"
      ]
     },
     "metadata": {},
     "output_type": "display_data"
    }
   ],
   "source": [
    "# Obtendo o dado de um elemento do vetor\n",
    "notas_final[3]"
   ]
  },
  {
   "cell_type": "code",
   "execution_count": 5,
   "metadata": {},
   "outputs": [
    {
     "data": {
      "text/html": [
       "<ol class=list-inline>\n",
       "\t<li>88</li>\n",
       "\t<li>87.66667</li>\n",
       "\t<li>86</li>\n",
       "\t<li>91.33333</li>\n",
       "</ol>\n"
      ],
      "text/latex": [
       "\\begin{enumerate*}\n",
       "\\item 88\n",
       "\\item 87.66667\n",
       "\\item 86\n",
       "\\item 91.33333\n",
       "\\end{enumerate*}\n"
      ],
      "text/markdown": [
       "1. 88\n",
       "2. 87.66667\n",
       "3. 86\n",
       "4. 91.33333\n",
       "\n",
       "\n"
      ],
      "text/plain": [
       "[1] 88.00000 87.66667 86.00000 91.33333"
      ]
     },
     "metadata": {},
     "output_type": "display_data"
    }
   ],
   "source": [
    "# Extraindo os elementos com indice de 1 à 4\n",
    "notas_final[ 1:4]"
   ]
  },
  {
   "cell_type": "code",
   "execution_count": 6,
   "metadata": {},
   "outputs": [
    {
     "data": {
      "text/html": [
       "<ol class=list-inline>\n",
       "\t<li>88</li>\n",
       "\t<li>86</li>\n",
       "\t<li>89.33333</li>\n",
       "</ol>\n"
      ],
      "text/latex": [
       "\\begin{enumerate*}\n",
       "\\item 88\n",
       "\\item 86\n",
       "\\item 89.33333\n",
       "\\end{enumerate*}\n"
      ],
      "text/markdown": [
       "1. 88\n",
       "2. 86\n",
       "3. 89.33333\n",
       "\n",
       "\n"
      ],
      "text/plain": [
       "[1] 88.00000 86.00000 89.33333"
      ]
     },
     "metadata": {},
     "output_type": "display_data"
    }
   ],
   "source": [
    "# Obtendo os valores da posição 1, 3 e 7\n",
    "notas_final[c(1, 3, 7)]"
   ]
  },
  {
   "cell_type": "code",
   "execution_count": 10,
   "metadata": {},
   "outputs": [],
   "source": [
    "stem <- notas_final[c(1, 2)]"
   ]
  },
  {
   "cell_type": "code",
   "execution_count": 14,
   "metadata": {},
   "outputs": [],
   "source": [
    "nstem <- notas_final[c(3:7)]"
   ]
  },
  {
   "cell_type": "code",
   "execution_count": 15,
   "metadata": {},
   "outputs": [],
   "source": [
    "avg_stem <- mean(stem)\n",
    "avg_nstem <- mean(nstem)"
   ]
  },
  {
   "cell_type": "code",
   "execution_count": 16,
   "metadata": {},
   "outputs": [
    {
     "data": {
      "text/html": [
       "'double'"
      ],
      "text/latex": [
       "'double'"
      ],
      "text/markdown": [
       "'double'"
      ],
      "text/plain": [
       "[1] \"double\""
      ]
     },
     "metadata": {},
     "output_type": "display_data"
    }
   ],
   "source": [
    "# Tipo do dado\n",
    "typeof(notas_final)"
   ]
  },
  {
   "cell_type": "code",
   "execution_count": 17,
   "metadata": {},
   "outputs": [
    {
     "data": {
      "text/html": [
       "'character'"
      ],
      "text/latex": [
       "'character'"
      ],
      "text/markdown": [
       "'character'"
      ],
      "text/plain": [
       "[1] \"character\""
      ]
     },
     "metadata": {},
     "output_type": "display_data"
    }
   ],
   "source": [
    "# Criando um vetor de caractere\n",
    "matem_quim <- c('matematica', 'quimica')\n",
    "\n",
    "# Tipo do dado\n",
    "typeof(matem_quim)"
   ]
  },
  {
   "cell_type": "code",
   "execution_count": 19,
   "metadata": {},
   "outputs": [
    {
     "data": {
      "text/html": [
       "<ol class=list-inline>\n",
       "\t<li>'matemática'</li>\n",
       "\t<li>'quimica'</li>\n",
       "\t<li>'redação'</li>\n",
       "\t<li>'arte'</li>\n",
       "\t<li>'história'</li>\n",
       "\t<li>'música'</li>\n",
       "\t<li>'educação física'</li>\n",
       "</ol>\n"
      ],
      "text/latex": [
       "\\begin{enumerate*}\n",
       "\\item 'matemática'\n",
       "\\item 'quimica'\n",
       "\\item 'redação'\n",
       "\\item 'arte'\n",
       "\\item 'história'\n",
       "\\item 'música'\n",
       "\\item 'educação física'\n",
       "\\end{enumerate*}\n"
      ],
      "text/markdown": [
       "1. 'matemática'\n",
       "2. 'quimica'\n",
       "3. 'redação'\n",
       "4. 'arte'\n",
       "5. 'história'\n",
       "6. 'música'\n",
       "7. 'educação física'\n",
       "\n",
       "\n"
      ],
      "text/plain": [
       "[1] \"matemática\"      \"quimica\"         \"redação\"         \"arte\"           \n",
       "[5] \"história\"        \"música\"          \"educação física\""
      ]
     },
     "metadata": {},
     "output_type": "display_data"
    }
   ],
   "source": [
    "disciplinas <- c(\"matemática\", \"quimica\", \"redação\", \"arte\", \"história\", \"música\", \"educação física\")\n",
    "disciplinas"
   ]
  },
  {
   "cell_type": "code",
   "execution_count": 22,
   "metadata": {},
   "outputs": [],
   "source": [
    "notas_mat_qui <- notas_final[c(1,2)]"
   ]
  },
  {
   "cell_type": "code",
   "execution_count": 23,
   "metadata": {},
   "outputs": [
    {
     "data": {
      "text/html": [
       "<dl class=dl-horizontal>\n",
       "\t<dt>matematica</dt>\n",
       "\t\t<dd>88</dd>\n",
       "\t<dt>quimica</dt>\n",
       "\t\t<dd>87.66667</dd>\n",
       "</dl>\n"
      ],
      "text/latex": [
       "\\begin{description*}\n",
       "\\item[matematica] 88\n",
       "\\item[quimica] 87.66667\n",
       "\\end{description*}\n"
      ],
      "text/markdown": [
       "matematica\n",
       ":   88quimica\n",
       ":   87.66667\n",
       "\n"
      ],
      "text/plain": [
       "matematica    quimica \n",
       "  88.00000   87.66667 "
      ]
     },
     "metadata": {},
     "output_type": "display_data"
    }
   ],
   "source": [
    "# adicionando names ao vetor\n",
    "names(notas_mat_qui) <- matem_quim\n",
    "\n",
    "notas_mat_qui"
   ]
  },
  {
   "cell_type": "code",
   "execution_count": 24,
   "metadata": {},
   "outputs": [
    {
     "data": {
      "text/html": [
       "<ol class=list-inline>\n",
       "\t<li>'matematica'</li>\n",
       "\t<li>'quimica'</li>\n",
       "</ol>\n"
      ],
      "text/latex": [
       "\\begin{enumerate*}\n",
       "\\item 'matematica'\n",
       "\\item 'quimica'\n",
       "\\end{enumerate*}\n"
      ],
      "text/markdown": [
       "1. 'matematica'\n",
       "2. 'quimica'\n",
       "\n",
       "\n"
      ],
      "text/plain": [
       "[1] \"matematica\" \"quimica\"   "
      ]
     },
     "metadata": {},
     "output_type": "display_data"
    }
   ],
   "source": [
    "# Retorna os nomes\n",
    "names(notas_mat_qui)"
   ]
  },
  {
   "cell_type": "code",
   "execution_count": 25,
   "metadata": {},
   "outputs": [
    {
     "data": {
      "text/html": [
       "<dl class=dl-horizontal>\n",
       "\t<dt>matemática</dt>\n",
       "\t\t<dd>88</dd>\n",
       "\t<dt>quimica</dt>\n",
       "\t\t<dd>87.66667</dd>\n",
       "\t<dt>redação</dt>\n",
       "\t\t<dd>86</dd>\n",
       "\t<dt>arte</dt>\n",
       "\t\t<dd>91.33333</dd>\n",
       "\t<dt>história</dt>\n",
       "\t\t<dd>84</dd>\n",
       "\t<dt>música</dt>\n",
       "\t\t<dd>91</dd>\n",
       "\t<dt>educação física</dt>\n",
       "\t\t<dd>89.33333</dd>\n",
       "</dl>\n"
      ],
      "text/latex": [
       "\\begin{description*}\n",
       "\\item[matemática] 88\n",
       "\\item[quimica] 87.66667\n",
       "\\item[redação] 86\n",
       "\\item[arte] 91.33333\n",
       "\\item[história] 84\n",
       "\\item[música] 91\n",
       "\\item[educação física] 89.33333\n",
       "\\end{description*}\n"
      ],
      "text/markdown": [
       "matemática\n",
       ":   88quimica\n",
       ":   87.66667redação\n",
       ":   86arte\n",
       ":   91.33333história\n",
       ":   84música\n",
       ":   91educação física\n",
       ":   89.33333\n",
       "\n"
      ],
      "text/plain": [
       "     matemática         quimica         redação            arte        história \n",
       "       88.00000        87.66667        86.00000        91.33333        84.00000 \n",
       "         música educação física \n",
       "       91.00000        89.33333 "
      ]
     },
     "metadata": {},
     "output_type": "display_data"
    }
   ],
   "source": [
    "names(notas_final) <- disciplinas\n",
    "\n",
    "notas_final"
   ]
  },
  {
   "cell_type": "code",
   "execution_count": 26,
   "metadata": {},
   "outputs": [
    {
     "data": {
      "text/html": [
       "<strong>arte:</strong> 91.33333"
      ],
      "text/latex": [
       "\\textbf{arte:} 91.33333"
      ],
      "text/markdown": [
       "**arte:** 91.33333"
      ],
      "text/plain": [
       "    arte \n",
       "91.33333 "
      ]
     },
     "metadata": {},
     "output_type": "display_data"
    }
   ],
   "source": [
    "# Pegando a nota de 'arte'\n",
    "notas_final['arte']"
   ]
  },
  {
   "cell_type": "code",
   "execution_count": 27,
   "metadata": {},
   "outputs": [
    {
     "data": {
      "text/html": [
       "<dl class=dl-horizontal>\n",
       "\t<dt>matemática</dt>\n",
       "\t\t<dd>88</dd>\n",
       "\t<dt>redação</dt>\n",
       "\t\t<dd>86</dd>\n",
       "\t<dt>música</dt>\n",
       "\t\t<dd>91</dd>\n",
       "</dl>\n"
      ],
      "text/latex": [
       "\\begin{description*}\n",
       "\\item[matemática] 88\n",
       "\\item[redação] 86\n",
       "\\item[música] 91\n",
       "\\end{description*}\n"
      ],
      "text/markdown": [
       "matemática\n",
       ":   88redação\n",
       ":   86música\n",
       ":   91\n",
       "\n"
      ],
      "text/plain": [
       "matemática    redação     música \n",
       "        88         86         91 "
      ]
     },
     "metadata": {},
     "output_type": "display_data"
    }
   ],
   "source": [
    "# Obtendo notas de matérias especificas\n",
    "notas_final[ c('matemática', 'redação', 'música') ]"
   ]
  },
  {
   "cell_type": "code",
   "execution_count": 28,
   "metadata": {},
   "outputs": [
    {
     "data": {
      "text/html": [
       "85"
      ],
      "text/latex": [
       "85"
      ],
      "text/markdown": [
       "85"
      ],
      "text/plain": [
       "[1] 85"
      ]
     },
     "metadata": {},
     "output_type": "display_data"
    },
    {
     "data": {
      "text/html": [
       "91.166665"
      ],
      "text/latex": [
       "91.166665"
      ],
      "text/markdown": [
       "91.166665"
      ],
      "text/plain": [
       "[1] 91.16666"
      ]
     },
     "metadata": {},
     "output_type": "display_data"
    }
   ],
   "source": [
    "artes_liberais <- notas_final[ c('redação', 'história') ]\n",
    "artes_plasticas <- notas_final[ c('arte', 'música') ]\n",
    "\n",
    "mean(artes_liberais)\n",
    "mean(artes_plasticas)"
   ]
  },
  {
   "cell_type": "code",
   "execution_count": 29,
   "metadata": {},
   "outputs": [
    {
     "data": {
      "text/html": [
       "<strong>quimica:</strong> FALSE"
      ],
      "text/latex": [
       "\\textbf{quimica:} FALSE"
      ],
      "text/markdown": [
       "**quimica:** FALSE"
      ],
      "text/plain": [
       "quimica \n",
       "  FALSE "
      ]
     },
     "metadata": {},
     "output_type": "display_data"
    }
   ],
   "source": [
    "# A nota de química foi melhor do que a de matemática?\n",
    "notas_final['quimica'] > notas_final['matemática']"
   ]
  },
  {
   "cell_type": "code",
   "execution_count": 30,
   "metadata": {},
   "outputs": [
    {
     "data": {
      "text/html": [
       "FALSE"
      ],
      "text/latex": [
       "FALSE"
      ],
      "text/markdown": [
       "FALSE"
      ],
      "text/plain": [
       "[1] FALSE"
      ]
     },
     "metadata": {},
     "output_type": "display_data"
    }
   ],
   "source": [
    "# A média da notas de artes liberais é maior que a média das notas de artes plásticas?\n",
    "mean(artes_liberais) > mean(artes_plasticas)"
   ]
  },
  {
   "cell_type": "code",
   "execution_count": 32,
   "metadata": {},
   "outputs": [
    {
     "data": {
      "text/html": [
       "<dl class=dl-horizontal>\n",
       "\t<dt>matemática</dt>\n",
       "\t\t<dd>FALSE</dd>\n",
       "\t<dt>quimica</dt>\n",
       "\t\t<dd>TRUE</dd>\n",
       "\t<dt>redação</dt>\n",
       "\t\t<dd>TRUE</dd>\n",
       "\t<dt>arte</dt>\n",
       "\t\t<dd>FALSE</dd>\n",
       "\t<dt>história</dt>\n",
       "\t\t<dd>TRUE</dd>\n",
       "\t<dt>música</dt>\n",
       "\t\t<dd>FALSE</dd>\n",
       "\t<dt>educação física</dt>\n",
       "\t\t<dd>FALSE</dd>\n",
       "</dl>\n"
      ],
      "text/latex": [
       "\\begin{description*}\n",
       "\\item[matemática] FALSE\n",
       "\\item[quimica] TRUE\n",
       "\\item[redação] TRUE\n",
       "\\item[arte] FALSE\n",
       "\\item[história] TRUE\n",
       "\\item[música] FALSE\n",
       "\\item[educação física] FALSE\n",
       "\\end{description*}\n"
      ],
      "text/markdown": [
       "matemática\n",
       ":   FALSEquimica\n",
       ":   TRUEredação\n",
       ":   TRUEarte\n",
       ":   FALSEhistória\n",
       ":   TRUEmúsica\n",
       ":   FALSEeducação física\n",
       ":   FALSE\n",
       "\n"
      ],
      "text/plain": [
       "     matemática         quimica         redação            arte        história \n",
       "          FALSE            TRUE            TRUE           FALSE            TRUE \n",
       "         música educação física \n",
       "          FALSE           FALSE "
      ]
     },
     "metadata": {},
     "output_type": "display_data"
    }
   ],
   "source": [
    "notas_final['matemática'] > notas_final"
   ]
  },
  {
   "cell_type": "code",
   "execution_count": 33,
   "metadata": {},
   "outputs": [],
   "source": [
    "comparacao_mat <- notas_final['matemática'] > notas_final"
   ]
  },
  {
   "cell_type": "code",
   "execution_count": 34,
   "metadata": {},
   "outputs": [
    {
     "data": {
      "text/html": [
       "<dl class=dl-horizontal>\n",
       "\t<dt>matemática</dt>\n",
       "\t\t<dd>FALSE</dd>\n",
       "\t<dt>quimica</dt>\n",
       "\t\t<dd>TRUE</dd>\n",
       "\t<dt>redação</dt>\n",
       "\t\t<dd>TRUE</dd>\n",
       "\t<dt>arte</dt>\n",
       "\t\t<dd>FALSE</dd>\n",
       "\t<dt>história</dt>\n",
       "\t\t<dd>TRUE</dd>\n",
       "\t<dt>música</dt>\n",
       "\t\t<dd>FALSE</dd>\n",
       "\t<dt>educação física</dt>\n",
       "\t\t<dd>FALSE</dd>\n",
       "</dl>\n"
      ],
      "text/latex": [
       "\\begin{description*}\n",
       "\\item[matemática] FALSE\n",
       "\\item[quimica] TRUE\n",
       "\\item[redação] TRUE\n",
       "\\item[arte] FALSE\n",
       "\\item[história] TRUE\n",
       "\\item[música] FALSE\n",
       "\\item[educação física] FALSE\n",
       "\\end{description*}\n"
      ],
      "text/markdown": [
       "matemática\n",
       ":   FALSEquimica\n",
       ":   TRUEredação\n",
       ":   TRUEarte\n",
       ":   FALSEhistória\n",
       ":   TRUEmúsica\n",
       ":   FALSEeducação física\n",
       ":   FALSE\n",
       "\n"
      ],
      "text/plain": [
       "     matemática         quimica         redação            arte        história \n",
       "          FALSE            TRUE            TRUE           FALSE            TRUE \n",
       "         música educação física \n",
       "          FALSE           FALSE "
      ]
     },
     "metadata": {},
     "output_type": "display_data"
    }
   ],
   "source": [
    "comparacao_mat"
   ]
  },
  {
   "cell_type": "code",
   "execution_count": 35,
   "metadata": {},
   "outputs": [
    {
     "data": {
      "text/html": [
       "'logical'"
      ],
      "text/latex": [
       "'logical'"
      ],
      "text/markdown": [
       "'logical'"
      ],
      "text/plain": [
       "[1] \"logical\""
      ]
     },
     "metadata": {},
     "output_type": "display_data"
    }
   ],
   "source": [
    "typeof(comparacao_mat)"
   ]
  },
  {
   "cell_type": "code",
   "execution_count": 36,
   "metadata": {},
   "outputs": [
    {
     "data": {
      "text/html": [
       "<dl class=dl-horizontal>\n",
       "\t<dt>matemática</dt>\n",
       "\t\t<dd>FALSE</dd>\n",
       "\t<dt>quimica</dt>\n",
       "\t\t<dd>FALSE</dd>\n",
       "\t<dt>redação</dt>\n",
       "\t\t<dd>FALSE</dd>\n",
       "\t<dt>arte</dt>\n",
       "\t\t<dd>TRUE</dd>\n",
       "\t<dt>história</dt>\n",
       "\t\t<dd>FALSE</dd>\n",
       "\t<dt>música</dt>\n",
       "\t\t<dd>TRUE</dd>\n",
       "\t<dt>educação física</dt>\n",
       "\t\t<dd>TRUE</dd>\n",
       "</dl>\n"
      ],
      "text/latex": [
       "\\begin{description*}\n",
       "\\item[matemática] FALSE\n",
       "\\item[quimica] FALSE\n",
       "\\item[redação] FALSE\n",
       "\\item[arte] TRUE\n",
       "\\item[história] FALSE\n",
       "\\item[música] TRUE\n",
       "\\item[educação física] TRUE\n",
       "\\end{description*}\n"
      ],
      "text/markdown": [
       "matemática\n",
       ":   FALSEquimica\n",
       ":   FALSEredação\n",
       ":   FALSEarte\n",
       ":   TRUEhistória\n",
       ":   FALSEmúsica\n",
       ":   TRUEeducação física\n",
       ":   TRUE\n",
       "\n"
      ],
      "text/plain": [
       "     matemática         quimica         redação            arte        história \n",
       "          FALSE           FALSE           FALSE            TRUE           FALSE \n",
       "         música educação física \n",
       "           TRUE            TRUE "
      ]
     },
     "metadata": {},
     "output_type": "display_data"
    }
   ],
   "source": [
    "gpa <- mean(notas_final)\n",
    "\n",
    "maior_que_avg <- notas_final > gpa\n",
    "\n",
    "maior_que_avg"
   ]
  },
  {
   "cell_type": "code",
   "execution_count": 37,
   "metadata": {},
   "outputs": [
    {
     "data": {
      "text/html": [
       "<dl class=dl-horizontal>\n",
       "\t<dt>quimica</dt>\n",
       "\t\t<dd>87.66667</dd>\n",
       "\t<dt>redação</dt>\n",
       "\t\t<dd>86</dd>\n",
       "\t<dt>história</dt>\n",
       "\t\t<dd>84</dd>\n",
       "</dl>\n"
      ],
      "text/latex": [
       "\\begin{description*}\n",
       "\\item[quimica] 87.66667\n",
       "\\item[redação] 86\n",
       "\\item[história] 84\n",
       "\\end{description*}\n"
      ],
      "text/markdown": [
       "quimica\n",
       ":   87.66667redação\n",
       ":   86história\n",
       ":   84\n",
       "\n"
      ],
      "text/plain": [
       " quimica  redação história \n",
       "87.66667 86.00000 84.00000 "
      ]
     },
     "metadata": {},
     "output_type": "display_data"
    }
   ],
   "source": [
    "notas_final[ comparacao_mat ]"
   ]
  },
  {
   "cell_type": "code",
   "execution_count": 38,
   "metadata": {},
   "outputs": [
    {
     "data": {
      "text/html": [
       "<dl class=dl-horizontal>\n",
       "\t<dt>arte</dt>\n",
       "\t\t<dd>91.33333</dd>\n",
       "\t<dt>música</dt>\n",
       "\t\t<dd>91</dd>\n",
       "\t<dt>educação física</dt>\n",
       "\t\t<dd>89.33333</dd>\n",
       "</dl>\n"
      ],
      "text/latex": [
       "\\begin{description*}\n",
       "\\item[arte] 91.33333\n",
       "\\item[música] 91\n",
       "\\item[educação física] 89.33333\n",
       "\\end{description*}\n"
      ],
      "text/markdown": [
       "arte\n",
       ":   91.33333música\n",
       ":   91educação física\n",
       ":   89.33333\n",
       "\n"
      ],
      "text/plain": [
       "           arte          música educação física \n",
       "       91.33333        91.00000        89.33333 "
      ]
     },
     "metadata": {},
     "output_type": "display_data"
    }
   ],
   "source": [
    "the_best <- notas_final[ maior_que_avg ]\n",
    "\n",
    "the_best"
   ]
  },
  {
   "cell_type": "code",
   "execution_count": 39,
   "metadata": {},
   "outputs": [],
   "source": [
    "provas <- c(76, 89, 78, 88, 79, 93, 89)\n",
    "exercicios <- c(85, 90, 88, 79, 88, 95, 74)\n",
    "projetos <- c(77, 93, 87, 90, 77, 82, 80)\n",
    "\n",
    "materias <- c('matemática', 'química', 'redação', 'arte', 'história', 'música', 'educação.física')"
   ]
  },
  {
   "cell_type": "code",
   "execution_count": 43,
   "metadata": {},
   "outputs": [
    {
     "data": {
      "text/html": [
       "<ol class=list-inline>\n",
       "\t<li>161</li>\n",
       "\t<li>179</li>\n",
       "\t<li>166</li>\n",
       "\t<li>167</li>\n",
       "\t<li>167</li>\n",
       "\t<li>188</li>\n",
       "\t<li>163</li>\n",
       "</ol>\n"
      ],
      "text/latex": [
       "\\begin{enumerate*}\n",
       "\\item 161\n",
       "\\item 179\n",
       "\\item 166\n",
       "\\item 167\n",
       "\\item 167\n",
       "\\item 188\n",
       "\\item 163\n",
       "\\end{enumerate*}\n"
      ],
      "text/markdown": [
       "1. 161\n",
       "2. 179\n",
       "3. 166\n",
       "4. 167\n",
       "5. 167\n",
       "6. 188\n",
       "7. 163\n",
       "\n",
       "\n"
      ],
      "text/plain": [
       "[1] 161 179 166 167 167 188 163"
      ]
     },
     "metadata": {},
     "output_type": "display_data"
    }
   ],
   "source": [
    "# Aritmética vetoria\n",
    "\n",
    "soma <- provas + exercicios\n",
    "\n",
    "soma"
   ]
  },
  {
   "cell_type": "code",
   "execution_count": 44,
   "metadata": {},
   "outputs": [
    {
     "data": {
      "text/html": [
       "<dl class=dl-horizontal>\n",
       "\t<dt>matemática</dt>\n",
       "\t\t<dd>79.3333333333333</dd>\n",
       "\t<dt>química</dt>\n",
       "\t\t<dd>90.6666666666667</dd>\n",
       "\t<dt>redação</dt>\n",
       "\t\t<dd>84.3333333333333</dd>\n",
       "\t<dt>arte</dt>\n",
       "\t\t<dd>85.6666666666667</dd>\n",
       "\t<dt>história</dt>\n",
       "\t\t<dd>81.3333333333333</dd>\n",
       "\t<dt>música</dt>\n",
       "\t\t<dd>90</dd>\n",
       "\t<dt>educação.física</dt>\n",
       "\t\t<dd>81</dd>\n",
       "</dl>\n"
      ],
      "text/latex": [
       "\\begin{description*}\n",
       "\\item[matemática] 79.3333333333333\n",
       "\\item[química] 90.6666666666667\n",
       "\\item[redação] 84.3333333333333\n",
       "\\item[arte] 85.6666666666667\n",
       "\\item[história] 81.3333333333333\n",
       "\\item[música] 90\n",
       "\\item[educação.física] 81\n",
       "\\end{description*}\n"
      ],
      "text/markdown": [
       "matemática\n",
       ":   79.3333333333333química\n",
       ":   90.6666666666667redação\n",
       ":   84.3333333333333arte\n",
       ":   85.6666666666667história\n",
       ":   81.3333333333333música\n",
       ":   90educação.física\n",
       ":   81\n",
       "\n"
      ],
      "text/plain": [
       "     matemática         química         redação            arte        história \n",
       "       79.33333        90.66667        84.33333        85.66667        81.33333 \n",
       "         música educação.física \n",
       "       90.00000        81.00000 "
      ]
     },
     "metadata": {},
     "output_type": "display_data"
    }
   ],
   "source": [
    "notas_maria <- (provas + exercicios + projetos) / 3\n",
    "\n",
    "names(notas_maria) <- materias\n",
    "\n",
    "notas_maria"
   ]
  },
  {
   "cell_type": "code",
   "execution_count": 45,
   "metadata": {},
   "outputs": [
    {
     "data": {
      "text/html": [
       "84.6190476190476"
      ],
      "text/latex": [
       "84.6190476190476"
      ],
      "text/markdown": [
       "84.6190476190476"
      ],
      "text/plain": [
       "[1] 84.61905"
      ]
     },
     "metadata": {},
     "output_type": "display_data"
    }
   ],
   "source": [
    "mean(notas_maria)"
   ]
  },
  {
   "cell_type": "code",
   "execution_count": 46,
   "metadata": {},
   "outputs": [
    {
     "name": "stderr",
     "output_type": "stream",
     "text": [
      "Warning message in provas + exercicios:\n",
      "\"comprimento do objeto maior não é múltiplo do comprimento do objeto menor\""
     ]
    },
    {
     "data": {
      "text/html": [
       "<ol class=list-inline>\n",
       "\t<li>161</li>\n",
       "\t<li>179</li>\n",
       "\t<li>163</li>\n",
       "\t<li>178</li>\n",
       "\t<li>164</li>\n",
       "\t<li>183</li>\n",
       "\t<li>174</li>\n",
       "</ol>\n"
      ],
      "text/latex": [
       "\\begin{enumerate*}\n",
       "\\item 161\n",
       "\\item 179\n",
       "\\item 163\n",
       "\\item 178\n",
       "\\item 164\n",
       "\\item 183\n",
       "\\item 174\n",
       "\\end{enumerate*}\n"
      ],
      "text/markdown": [
       "1. 161\n",
       "2. 179\n",
       "3. 163\n",
       "4. 178\n",
       "5. 164\n",
       "6. 183\n",
       "7. 174\n",
       "\n",
       "\n"
      ],
      "text/plain": [
       "[1] 161 179 163 178 164 183 174"
      ]
     },
     "metadata": {},
     "output_type": "display_data"
    }
   ],
   "source": [
    "provas <- c(76, 89, 78, 88, 79, 93, 89)\n",
    "exercicios <- c(85, 90)\n",
    "\n",
    "soma <- provas + exercicios\n",
    "\n",
    "soma"
   ]
  },
  {
   "cell_type": "code",
   "execution_count": 59,
   "metadata": {},
   "outputs": [
    {
     "name": "stderr",
     "output_type": "stream",
     "text": [
      "Warning message in provas + exercicios:\n",
      "\"comprimento do objeto maior não é múltiplo do comprimento do objeto menor\""
     ]
    },
    {
     "data": {
      "text/html": [
       "<ol class=list-inline>\n",
       "\t<li>238</li>\n",
       "\t<li>272</li>\n",
       "\t<li>253</li>\n",
       "\t<li>245</li>\n",
       "\t<li>254</li>\n",
       "\t<li>255</li>\n",
       "\t<li>230</li>\n",
       "</ol>\n"
      ],
      "text/latex": [
       "\\begin{enumerate*}\n",
       "\\item 238\n",
       "\\item 272\n",
       "\\item 253\n",
       "\\item 245\n",
       "\\item 254\n",
       "\\item 255\n",
       "\\item 230\n",
       "\\end{enumerate*}\n"
      ],
      "text/markdown": [
       "1. 238\n",
       "2. 272\n",
       "3. 253\n",
       "4. 245\n",
       "5. 254\n",
       "6. 255\n",
       "7. 230\n",
       "\n",
       "\n"
      ],
      "text/plain": [
       "[1] 238 272 253 245 254 255 230"
      ]
     },
     "metadata": {},
     "output_type": "display_data"
    },
    {
     "data": {
      "text/html": [
       "<ol class=list-inline>\n",
       "\t<li>76</li>\n",
       "\t<li>89</li>\n",
       "\t<li>78</li>\n",
       "</ol>\n"
      ],
      "text/latex": [
       "\\begin{enumerate*}\n",
       "\\item 76\n",
       "\\item 89\n",
       "\\item 78\n",
       "\\end{enumerate*}\n"
      ],
      "text/markdown": [
       "1. 76\n",
       "2. 89\n",
       "3. 78\n",
       "\n",
       "\n"
      ],
      "text/plain": [
       "[1] 76 89 78"
      ]
     },
     "metadata": {},
     "output_type": "display_data"
    }
   ],
   "source": [
    "provas <- c(76, 89, 78)\n",
    "exercicios <- c(85, 90, 88, 79, 88, 95, 74)\n",
    "projetos <- c(77, 93, 87, 90, 77, 82, 80)\n",
    "\n",
    "soma_notas_kate <- provas + exercicios + projetos\n",
    "\n",
    "soma_notas_kate\n",
    "\n",
    "provas"
   ]
  },
  {
   "cell_type": "code",
   "execution_count": 60,
   "metadata": {},
   "outputs": [
    {
     "data": {
      "text/html": [
       "<ol class=list-inline>\n",
       "\t<li>76</li>\n",
       "\t<li>89</li>\n",
       "\t<li>78</li>\n",
       "\t<li>76</li>\n",
       "\t<li>89</li>\n",
       "\t<li>78</li>\n",
       "\t<li>99</li>\n",
       "</ol>\n"
      ],
      "text/latex": [
       "\\begin{enumerate*}\n",
       "\\item 76\n",
       "\\item 89\n",
       "\\item 78\n",
       "\\item 76\n",
       "\\item 89\n",
       "\\item 78\n",
       "\\item 99\n",
       "\\end{enumerate*}\n"
      ],
      "text/markdown": [
       "1. 76\n",
       "2. 89\n",
       "3. 78\n",
       "4. 76\n",
       "5. 89\n",
       "6. 78\n",
       "7. 99\n",
       "\n",
       "\n"
      ],
      "text/plain": [
       "[1] 76 89 78 76 89 78 99"
      ]
     },
     "metadata": {},
     "output_type": "display_data"
    },
    {
     "data": {
      "text/html": [
       "<ol class=list-inline>\n",
       "\t<li>85</li>\n",
       "\t<li>90</li>\n",
       "\t<li>88</li>\n",
       "\t<li>79</li>\n",
       "\t<li>88</li>\n",
       "\t<li>95</li>\n",
       "\t<li>74</li>\n",
       "</ol>\n"
      ],
      "text/latex": [
       "\\begin{enumerate*}\n",
       "\\item 85\n",
       "\\item 90\n",
       "\\item 88\n",
       "\\item 79\n",
       "\\item 88\n",
       "\\item 95\n",
       "\\item 74\n",
       "\\end{enumerate*}\n"
      ],
      "text/markdown": [
       "1. 85\n",
       "2. 90\n",
       "3. 88\n",
       "4. 79\n",
       "5. 88\n",
       "6. 95\n",
       "7. 74\n",
       "\n",
       "\n"
      ],
      "text/plain": [
       "[1] 85 90 88 79 88 95 74"
      ]
     },
     "metadata": {},
     "output_type": "display_data"
    },
    {
     "data": {
      "text/html": [
       "<ol class=list-inline>\n",
       "\t<li>77</li>\n",
       "\t<li>93</li>\n",
       "\t<li>87</li>\n",
       "\t<li>90</li>\n",
       "\t<li>77</li>\n",
       "\t<li>82</li>\n",
       "\t<li>80</li>\n",
       "</ol>\n"
      ],
      "text/latex": [
       "\\begin{enumerate*}\n",
       "\\item 77\n",
       "\\item 93\n",
       "\\item 87\n",
       "\\item 90\n",
       "\\item 77\n",
       "\\item 82\n",
       "\\item 80\n",
       "\\end{enumerate*}\n"
      ],
      "text/markdown": [
       "1. 77\n",
       "2. 93\n",
       "3. 87\n",
       "4. 90\n",
       "5. 77\n",
       "6. 82\n",
       "7. 80\n",
       "\n",
       "\n"
      ],
      "text/plain": [
       "[1] 77 93 87 90 77 82 80"
      ]
     },
     "metadata": {},
     "output_type": "display_data"
    }
   ],
   "source": [
    "provas <- c(provas, 76, 89, 78, 99)\n",
    "provas\n",
    "exercicios\n",
    "projetos"
   ]
  },
  {
   "cell_type": "code",
   "execution_count": 61,
   "metadata": {},
   "outputs": [
    {
     "data": {
      "text/html": [
       "<ol class=list-inline>\n",
       "\t<li>238</li>\n",
       "\t<li>272</li>\n",
       "\t<li>253</li>\n",
       "\t<li>245</li>\n",
       "\t<li>254</li>\n",
       "\t<li>255</li>\n",
       "\t<li>253</li>\n",
       "</ol>\n"
      ],
      "text/latex": [
       "\\begin{enumerate*}\n",
       "\\item 238\n",
       "\\item 272\n",
       "\\item 253\n",
       "\\item 245\n",
       "\\item 254\n",
       "\\item 255\n",
       "\\item 253\n",
       "\\end{enumerate*}\n"
      ],
      "text/markdown": [
       "1. 238\n",
       "2. 272\n",
       "3. 253\n",
       "4. 245\n",
       "5. 254\n",
       "6. 255\n",
       "7. 253\n",
       "\n",
       "\n"
      ],
      "text/plain": [
       "[1] 238 272 253 245 254 255 253"
      ]
     },
     "metadata": {},
     "output_type": "display_data"
    }
   ],
   "source": [
    "soma_notas_kate <- provas + exercicios + projetos\n",
    "\n",
    "soma_notas_kate"
   ]
  },
  {
   "cell_type": "code",
   "execution_count": 63,
   "metadata": {},
   "outputs": [
    {
     "data": {
      "text/html": [
       "<ol class=list-inline>\n",
       "\t<li>79.3333333333333</li>\n",
       "\t<li>90.6666666666667</li>\n",
       "\t<li>84.3333333333333</li>\n",
       "\t<li>81.6666666666667</li>\n",
       "\t<li>84.6666666666667</li>\n",
       "\t<li>85</li>\n",
       "\t<li>84.3333333333333</li>\n",
       "</ol>\n"
      ],
      "text/latex": [
       "\\begin{enumerate*}\n",
       "\\item 79.3333333333333\n",
       "\\item 90.6666666666667\n",
       "\\item 84.3333333333333\n",
       "\\item 81.6666666666667\n",
       "\\item 84.6666666666667\n",
       "\\item 85\n",
       "\\item 84.3333333333333\n",
       "\\end{enumerate*}\n"
      ],
      "text/markdown": [
       "1. 79.3333333333333\n",
       "2. 90.6666666666667\n",
       "3. 84.3333333333333\n",
       "4. 81.6666666666667\n",
       "5. 84.6666666666667\n",
       "6. 85\n",
       "7. 84.3333333333333\n",
       "\n",
       "\n"
      ],
      "text/plain": [
       "[1] 79.33333 90.66667 84.33333 81.66667 84.66667 85.00000 84.33333"
      ]
     },
     "metadata": {},
     "output_type": "display_data"
    }
   ],
   "source": [
    "notas_kate <- (soma_notas_kate) / 3\n",
    "\n",
    "notas_kate"
   ]
  },
  {
   "cell_type": "code",
   "execution_count": 64,
   "metadata": {},
   "outputs": [
    {
     "data": {
      "text/html": [
       "<dl class=dl-horizontal>\n",
       "\t<dt>matemática</dt>\n",
       "\t\t<dd>79.3333333333333</dd>\n",
       "\t<dt>química</dt>\n",
       "\t\t<dd>90.6666666666667</dd>\n",
       "\t<dt>redação</dt>\n",
       "\t\t<dd>84.3333333333333</dd>\n",
       "\t<dt>arte</dt>\n",
       "\t\t<dd>81.6666666666667</dd>\n",
       "\t<dt>história</dt>\n",
       "\t\t<dd>84.6666666666667</dd>\n",
       "\t<dt>música</dt>\n",
       "\t\t<dd>85</dd>\n",
       "\t<dt>educação.física</dt>\n",
       "\t\t<dd>84.3333333333333</dd>\n",
       "</dl>\n"
      ],
      "text/latex": [
       "\\begin{description*}\n",
       "\\item[matemática] 79.3333333333333\n",
       "\\item[química] 90.6666666666667\n",
       "\\item[redação] 84.3333333333333\n",
       "\\item[arte] 81.6666666666667\n",
       "\\item[história] 84.6666666666667\n",
       "\\item[música] 85\n",
       "\\item[educação.física] 84.3333333333333\n",
       "\\end{description*}\n"
      ],
      "text/markdown": [
       "matemática\n",
       ":   79.3333333333333química\n",
       ":   90.6666666666667redação\n",
       ":   84.3333333333333arte\n",
       ":   81.6666666666667história\n",
       ":   84.6666666666667música\n",
       ":   85educação.física\n",
       ":   84.3333333333333\n",
       "\n"
      ],
      "text/plain": [
       "     matemática         química         redação            arte        história \n",
       "       79.33333        90.66667        84.33333        81.66667        84.66667 \n",
       "         música educação.física \n",
       "       85.00000        84.33333 "
      ]
     },
     "metadata": {},
     "output_type": "display_data"
    }
   ],
   "source": [
    "names(notas_kate) <- materias\n",
    "\n",
    "notas_kate"
   ]
  },
  {
   "cell_type": "code",
   "execution_count": 66,
   "metadata": {},
   "outputs": [
    {
     "data": {
      "text/html": [
       "84.2857142857143"
      ],
      "text/latex": [
       "84.2857142857143"
      ],
      "text/markdown": [
       "84.2857142857143"
      ],
      "text/plain": [
       "[1] 84.28571"
      ]
     },
     "metadata": {},
     "output_type": "display_data"
    }
   ],
   "source": [
    "kate_gpa <- mean(notas_kate)\n",
    "kate_gpa"
   ]
  },
  {
   "cell_type": "code",
   "execution_count": 67,
   "metadata": {},
   "outputs": [
    {
     "data": {
      "text/html": [
       "<dl class=dl-horizontal>\n",
       "\t<dt>matemática</dt>\n",
       "\t\t<dd>79.3333333333333</dd>\n",
       "\t<dt>arte</dt>\n",
       "\t\t<dd>81.6666666666667</dd>\n",
       "</dl>\n"
      ],
      "text/latex": [
       "\\begin{description*}\n",
       "\\item[matemática] 79.3333333333333\n",
       "\\item[arte] 81.6666666666667\n",
       "\\end{description*}\n"
      ],
      "text/markdown": [
       "matemática\n",
       ":   79.3333333333333arte\n",
       ":   81.6666666666667\n",
       "\n"
      ],
      "text/plain": [
       "matemática       arte \n",
       "  79.33333   81.66667 "
      ]
     },
     "metadata": {},
     "output_type": "display_data"
    }
   ],
   "source": [
    "notas_kate[notas_kate < kate_gpa]"
   ]
  },
  {
   "cell_type": "code",
   "execution_count": null,
   "metadata": {},
   "outputs": [],
   "source": []
  }
 ],
 "metadata": {
  "kernelspec": {
   "display_name": "R",
   "language": "R",
   "name": "ir"
  },
  "language_info": {
   "codemirror_mode": "r",
   "file_extension": ".r",
   "mimetype": "text/x-r-source",
   "name": "R",
   "pygments_lexer": "r",
   "version": "3.6.0"
  }
 },
 "nbformat": 4,
 "nbformat_minor": 2
}
