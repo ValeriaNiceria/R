{
 "cells": [
  {
   "cell_type": "markdown",
   "metadata": {},
   "source": [
    "## Matrizes"
   ]
  },
  {
   "cell_type": "code",
   "execution_count": 1,
   "metadata": {},
   "outputs": [],
   "source": [
    "harvard <- c(1, 1, 1, 1, 3)\n",
    "stanford <- c(2, 9, 3, 4, 10)\n",
    "mit <- c(3, 3, 2, 2, 1)\n",
    "cambridge <- c(4, 2, 6, 13, 48)\n",
    "oxford <- c(5, 7, 12, 9, 15)\n",
    "columbia <- c(6, 13, 13, 12, 5)"
   ]
  },
  {
   "cell_type": "code",
   "execution_count": 2,
   "metadata": {},
   "outputs": [
    {
     "data": {
      "text/html": [
       "<table>\n",
       "<tbody>\n",
       "\t<tr><th scope=row>harvard</th><td>1 </td><td>1 </td><td>1 </td><td>1 </td><td> 3</td></tr>\n",
       "\t<tr><th scope=row>stanford</th><td>2 </td><td>9 </td><td>3 </td><td>4 </td><td>10</td></tr>\n",
       "</tbody>\n",
       "</table>\n"
      ],
      "text/latex": [
       "\\begin{tabular}{r|lllll}\n",
       "\tharvard & 1  & 1  & 1  & 1  &  3\\\\\n",
       "\tstanford & 2  & 9  & 3  & 4  & 10\\\\\n",
       "\\end{tabular}\n"
      ],
      "text/markdown": [
       "\n",
       "| harvard | 1  | 1  | 1  | 1  |  3 |\n",
       "| stanford | 2  | 9  | 3  | 4  | 10 |\n",
       "\n"
      ],
      "text/plain": [
       "         [,1] [,2] [,3] [,4] [,5]\n",
       "harvard  1    1    1    1     3  \n",
       "stanford 2    9    3    4    10  "
      ]
     },
     "metadata": {},
     "output_type": "display_data"
    }
   ],
   "source": [
    "# Combinando vários vetores por linha - rbind\n",
    "harv_stan <- rbind( harvard, stanford )\n",
    "\n",
    "harv_stan"
   ]
  },
  {
   "cell_type": "code",
   "execution_count": 3,
   "metadata": {},
   "outputs": [
    {
     "data": {
      "text/html": [
       "<table>\n",
       "<tbody>\n",
       "\t<tr><th scope=row>harvard</th><td>1 </td><td>1 </td><td>1 </td><td>1 </td><td> 3</td></tr>\n",
       "\t<tr><th scope=row>stanford</th><td>2 </td><td>9 </td><td>3 </td><td>4 </td><td>10</td></tr>\n",
       "\t<tr><th scope=row>mit</th><td>3 </td><td>3 </td><td>2 </td><td>2 </td><td> 1</td></tr>\n",
       "</tbody>\n",
       "</table>\n"
      ],
      "text/latex": [
       "\\begin{tabular}{r|lllll}\n",
       "\tharvard & 1  & 1  & 1  & 1  &  3\\\\\n",
       "\tstanford & 2  & 9  & 3  & 4  & 10\\\\\n",
       "\tmit & 3  & 3  & 2  & 2  &  1\\\\\n",
       "\\end{tabular}\n"
      ],
      "text/markdown": [
       "\n",
       "| harvard | 1  | 1  | 1  | 1  |  3 |\n",
       "| stanford | 2  | 9  | 3  | 4  | 10 |\n",
       "| mit | 3  | 3  | 2  | 2  |  1 |\n",
       "\n"
      ],
      "text/plain": [
       "         [,1] [,2] [,3] [,4] [,5]\n",
       "harvard  1    1    1    1     3  \n",
       "stanford 2    9    3    4    10  \n",
       "mit      3    3    2    2     1  "
      ]
     },
     "metadata": {},
     "output_type": "display_data"
    }
   ],
   "source": [
    "rbind(harv_stan, mit)"
   ]
  },
  {
   "cell_type": "code",
   "execution_count": 4,
   "metadata": {},
   "outputs": [
    {
     "data": {
      "text/html": [
       "<table>\n",
       "<tbody>\n",
       "\t<tr><th scope=row>harvard</th><td>1 </td><td> 1</td><td> 1</td><td> 1</td><td> 3</td></tr>\n",
       "\t<tr><th scope=row>stanford</th><td>2 </td><td> 9</td><td> 3</td><td> 4</td><td>10</td></tr>\n",
       "\t<tr><th scope=row>mit</th><td>3 </td><td> 3</td><td> 2</td><td> 2</td><td> 1</td></tr>\n",
       "\t<tr><th scope=row>cambridge</th><td>4 </td><td> 2</td><td> 6</td><td>13</td><td>48</td></tr>\n",
       "\t<tr><th scope=row>oxford</th><td>5 </td><td> 7</td><td>12</td><td> 9</td><td>15</td></tr>\n",
       "\t<tr><th scope=row>columbia</th><td>6 </td><td>13</td><td>13</td><td>12</td><td> 5</td></tr>\n",
       "</tbody>\n",
       "</table>\n"
      ],
      "text/latex": [
       "\\begin{tabular}{r|lllll}\n",
       "\tharvard & 1  &  1 &  1 &  1 &  3\\\\\n",
       "\tstanford & 2  &  9 &  3 &  4 & 10\\\\\n",
       "\tmit & 3  &  3 &  2 &  2 &  1\\\\\n",
       "\tcambridge & 4  &  2 &  6 & 13 & 48\\\\\n",
       "\toxford & 5  &  7 & 12 &  9 & 15\\\\\n",
       "\tcolumbia & 6  & 13 & 13 & 12 &  5\\\\\n",
       "\\end{tabular}\n"
      ],
      "text/markdown": [
       "\n",
       "| harvard | 1  |  1 |  1 |  1 |  3 |\n",
       "| stanford | 2  |  9 |  3 |  4 | 10 |\n",
       "| mit | 3  |  3 |  2 |  2 |  1 |\n",
       "| cambridge | 4  |  2 |  6 | 13 | 48 |\n",
       "| oxford | 5  |  7 | 12 |  9 | 15 |\n",
       "| columbia | 6  | 13 | 13 | 12 |  5 |\n",
       "\n"
      ],
      "text/plain": [
       "          [,1] [,2] [,3] [,4] [,5]\n",
       "harvard   1     1    1    1    3  \n",
       "stanford  2     9    3    4   10  \n",
       "mit       3     3    2    2    1  \n",
       "cambridge 4     2    6   13   48  \n",
       "oxford    5     7   12    9   15  \n",
       "columbia  6    13   13   12    5  "
      ]
     },
     "metadata": {},
     "output_type": "display_data"
    }
   ],
   "source": [
    "uni_matrix <- rbind(harv_stan, mit, cambridge, oxford, columbia)\n",
    "\n",
    "uni_matrix"
   ]
  },
  {
   "cell_type": "code",
   "execution_count": 5,
   "metadata": {},
   "outputs": [],
   "source": [
    "# Adicionar nomes\n",
    "# Linhas = rownames()\n",
    "# Colunas = colnames()"
   ]
  },
  {
   "cell_type": "code",
   "execution_count": 8,
   "metadata": {},
   "outputs": [
    {
     "data": {
      "text/html": [
       "<table>\n",
       "<thead><tr><th></th><th scope=col>world.rank</th><th scope=col>quality.of.education</th><th scope=col>influence</th><th scope=col>broad.impact</th><th scope=col>patents</th></tr></thead>\n",
       "<tbody>\n",
       "\t<tr><th scope=row>harvard</th><td>1 </td><td>1 </td><td>1 </td><td>1 </td><td> 3</td></tr>\n",
       "\t<tr><th scope=row>stanford</th><td>2 </td><td>9 </td><td>3 </td><td>4 </td><td>10</td></tr>\n",
       "</tbody>\n",
       "</table>\n"
      ],
      "text/latex": [
       "\\begin{tabular}{r|lllll}\n",
       "  & world.rank & quality.of.education & influence & broad.impact & patents\\\\\n",
       "\\hline\n",
       "\tharvard & 1  & 1  & 1  & 1  &  3\\\\\n",
       "\tstanford & 2  & 9  & 3  & 4  & 10\\\\\n",
       "\\end{tabular}\n"
      ],
      "text/markdown": [
       "\n",
       "| <!--/--> | world.rank | quality.of.education | influence | broad.impact | patents |\n",
       "|---|---|---|---|---|---|\n",
       "| harvard | 1  | 1  | 1  | 1  |  3 |\n",
       "| stanford | 2  | 9  | 3  | 4  | 10 |\n",
       "\n"
      ],
      "text/plain": [
       "         world.rank quality.of.education influence broad.impact patents\n",
       "harvard  1          1                    1         1             3     \n",
       "stanford 2          9                    3         4            10     "
      ]
     },
     "metadata": {},
     "output_type": "display_data"
    }
   ],
   "source": [
    "colunas <- c('world.rank', 'quality.of.education', 'influence', 'broad.impact', 'patents')\n",
    "colnames(harv_stan) <- colunas\n",
    "\n",
    "harv_stan"
   ]
  },
  {
   "cell_type": "code",
   "execution_count": 9,
   "metadata": {},
   "outputs": [
    {
     "data": {
      "text/html": [
       "<ol class=list-inline>\n",
       "\t<li>'harvard'</li>\n",
       "\t<li>'stanford'</li>\n",
       "</ol>\n"
      ],
      "text/latex": [
       "\\begin{enumerate*}\n",
       "\\item 'harvard'\n",
       "\\item 'stanford'\n",
       "\\end{enumerate*}\n"
      ],
      "text/markdown": [
       "1. 'harvard'\n",
       "2. 'stanford'\n",
       "\n",
       "\n"
      ],
      "text/plain": [
       "[1] \"harvard\"  \"stanford\""
      ]
     },
     "metadata": {},
     "output_type": "display_data"
    }
   ],
   "source": [
    "rownames(harv_stan)"
   ]
  },
  {
   "cell_type": "code",
   "execution_count": 11,
   "metadata": {},
   "outputs": [
    {
     "data": {
      "text/html": [
       "<table>\n",
       "<thead><tr><th></th><th scope=col>world.rank</th><th scope=col>quality.of.education</th><th scope=col>influence</th><th scope=col>broad.impact</th><th scope=col>patents</th></tr></thead>\n",
       "<tbody>\n",
       "\t<tr><th scope=row>harvard</th><td>1 </td><td> 1</td><td> 1</td><td> 1</td><td> 3</td></tr>\n",
       "\t<tr><th scope=row>stanford</th><td>2 </td><td> 9</td><td> 3</td><td> 4</td><td>10</td></tr>\n",
       "\t<tr><th scope=row>mit</th><td>3 </td><td> 3</td><td> 2</td><td> 2</td><td> 1</td></tr>\n",
       "\t<tr><th scope=row>cambridge</th><td>4 </td><td> 2</td><td> 6</td><td>13</td><td>48</td></tr>\n",
       "\t<tr><th scope=row>oxford</th><td>5 </td><td> 7</td><td>12</td><td> 9</td><td>15</td></tr>\n",
       "\t<tr><th scope=row>columbia</th><td>6 </td><td>13</td><td>13</td><td>12</td><td> 5</td></tr>\n",
       "</tbody>\n",
       "</table>\n"
      ],
      "text/latex": [
       "\\begin{tabular}{r|lllll}\n",
       "  & world.rank & quality.of.education & influence & broad.impact & patents\\\\\n",
       "\\hline\n",
       "\tharvard & 1  &  1 &  1 &  1 &  3\\\\\n",
       "\tstanford & 2  &  9 &  3 &  4 & 10\\\\\n",
       "\tmit & 3  &  3 &  2 &  2 &  1\\\\\n",
       "\tcambridge & 4  &  2 &  6 & 13 & 48\\\\\n",
       "\toxford & 5  &  7 & 12 &  9 & 15\\\\\n",
       "\tcolumbia & 6  & 13 & 13 & 12 &  5\\\\\n",
       "\\end{tabular}\n"
      ],
      "text/markdown": [
       "\n",
       "| <!--/--> | world.rank | quality.of.education | influence | broad.impact | patents |\n",
       "|---|---|---|---|---|---|\n",
       "| harvard | 1  |  1 |  1 |  1 |  3 |\n",
       "| stanford | 2  |  9 |  3 |  4 | 10 |\n",
       "| mit | 3  |  3 |  2 |  2 |  1 |\n",
       "| cambridge | 4  |  2 |  6 | 13 | 48 |\n",
       "| oxford | 5  |  7 | 12 |  9 | 15 |\n",
       "| columbia | 6  | 13 | 13 | 12 |  5 |\n",
       "\n"
      ],
      "text/plain": [
       "          world.rank quality.of.education influence broad.impact patents\n",
       "harvard   1           1                    1         1            3     \n",
       "stanford  2           9                    3         4           10     \n",
       "mit       3           3                    2         2            1     \n",
       "cambridge 4           2                    6        13           48     \n",
       "oxford    5           7                   12         9           15     \n",
       "columbia  6          13                   13        12            5     "
      ]
     },
     "metadata": {},
     "output_type": "display_data"
    }
   ],
   "source": [
    "colnames(uni_matrix) <- colunas\n",
    "uni_matrix"
   ]
  },
  {
   "cell_type": "code",
   "execution_count": 12,
   "metadata": {},
   "outputs": [],
   "source": [
    "valor_anual <- c(43280, 45000, 45016, 49350, 28450, 55161)"
   ]
  },
  {
   "cell_type": "code",
   "execution_count": 13,
   "metadata": {},
   "outputs": [
    {
     "data": {
      "text/html": [
       "<ol class=list-inline>\n",
       "\t<li>6</li>\n",
       "\t<li>5</li>\n",
       "</ol>\n"
      ],
      "text/latex": [
       "\\begin{enumerate*}\n",
       "\\item 6\n",
       "\\item 5\n",
       "\\end{enumerate*}\n"
      ],
      "text/markdown": [
       "1. 6\n",
       "2. 5\n",
       "\n",
       "\n"
      ],
      "text/plain": [
       "[1] 6 5"
      ]
     },
     "metadata": {},
     "output_type": "display_data"
    }
   ],
   "source": [
    "# Tamanho da matriz\n",
    "dim(uni_matrix)"
   ]
  },
  {
   "cell_type": "code",
   "execution_count": 14,
   "metadata": {},
   "outputs": [
    {
     "data": {
      "text/html": [
       "6"
      ],
      "text/latex": [
       "6"
      ],
      "text/markdown": [
       "6"
      ],
      "text/plain": [
       "[1] 6"
      ]
     },
     "metadata": {},
     "output_type": "display_data"
    }
   ],
   "source": [
    "# Número de linhas\n",
    "dim(uni_matrix)[1]"
   ]
  },
  {
   "cell_type": "code",
   "execution_count": 15,
   "metadata": {},
   "outputs": [
    {
     "data": {
      "text/html": [
       "TRUE"
      ],
      "text/latex": [
       "TRUE"
      ],
      "text/markdown": [
       "TRUE"
      ],
      "text/plain": [
       "[1] TRUE"
      ]
     },
     "metadata": {},
     "output_type": "display_data"
    }
   ],
   "source": [
    "# Verificando se possuem o mesmo tamanho\n",
    "dim(uni_matrix)[1] == length(valor_anual)"
   ]
  },
  {
   "cell_type": "code",
   "execution_count": 16,
   "metadata": {},
   "outputs": [
    {
     "data": {
      "text/html": [
       "<table>\n",
       "<thead><tr><th></th><th scope=col>world.rank</th><th scope=col>quality.of.education</th><th scope=col>influence</th><th scope=col>broad.impact</th><th scope=col>patents</th><th scope=col>valor_anual</th></tr></thead>\n",
       "<tbody>\n",
       "\t<tr><th scope=row>harvard</th><td>1    </td><td> 1   </td><td> 1   </td><td> 1   </td><td> 3   </td><td>43280</td></tr>\n",
       "\t<tr><th scope=row>stanford</th><td>2    </td><td> 9   </td><td> 3   </td><td> 4   </td><td>10   </td><td>45000</td></tr>\n",
       "\t<tr><th scope=row>mit</th><td>3    </td><td> 3   </td><td> 2   </td><td> 2   </td><td> 1   </td><td>45016</td></tr>\n",
       "\t<tr><th scope=row>cambridge</th><td>4    </td><td> 2   </td><td> 6   </td><td>13   </td><td>48   </td><td>49350</td></tr>\n",
       "\t<tr><th scope=row>oxford</th><td>5    </td><td> 7   </td><td>12   </td><td> 9   </td><td>15   </td><td>28450</td></tr>\n",
       "\t<tr><th scope=row>columbia</th><td>6    </td><td>13   </td><td>13   </td><td>12   </td><td> 5   </td><td>55161</td></tr>\n",
       "</tbody>\n",
       "</table>\n"
      ],
      "text/latex": [
       "\\begin{tabular}{r|llllll}\n",
       "  & world.rank & quality.of.education & influence & broad.impact & patents & valor\\_anual\\\\\n",
       "\\hline\n",
       "\tharvard & 1     &  1    &  1    &  1    &  3    & 43280\\\\\n",
       "\tstanford & 2     &  9    &  3    &  4    & 10    & 45000\\\\\n",
       "\tmit & 3     &  3    &  2    &  2    &  1    & 45016\\\\\n",
       "\tcambridge & 4     &  2    &  6    & 13    & 48    & 49350\\\\\n",
       "\toxford & 5     &  7    & 12    &  9    & 15    & 28450\\\\\n",
       "\tcolumbia & 6     & 13    & 13    & 12    &  5    & 55161\\\\\n",
       "\\end{tabular}\n"
      ],
      "text/markdown": [
       "\n",
       "| <!--/--> | world.rank | quality.of.education | influence | broad.impact | patents | valor_anual |\n",
       "|---|---|---|---|---|---|---|\n",
       "| harvard | 1     |  1    |  1    |  1    |  3    | 43280 |\n",
       "| stanford | 2     |  9    |  3    |  4    | 10    | 45000 |\n",
       "| mit | 3     |  3    |  2    |  2    |  1    | 45016 |\n",
       "| cambridge | 4     |  2    |  6    | 13    | 48    | 49350 |\n",
       "| oxford | 5     |  7    | 12    |  9    | 15    | 28450 |\n",
       "| columbia | 6     | 13    | 13    | 12    |  5    | 55161 |\n",
       "\n"
      ],
      "text/plain": [
       "          world.rank quality.of.education influence broad.impact patents\n",
       "harvard   1           1                    1         1            3     \n",
       "stanford  2           9                    3         4           10     \n",
       "mit       3           3                    2         2            1     \n",
       "cambridge 4           2                    6        13           48     \n",
       "oxford    5           7                   12         9           15     \n",
       "columbia  6          13                   13        12            5     \n",
       "          valor_anual\n",
       "harvard   43280      \n",
       "stanford  45000      \n",
       "mit       45016      \n",
       "cambridge 49350      \n",
       "oxford    28450      \n",
       "columbia  55161      "
      ]
     },
     "metadata": {},
     "output_type": "display_data"
    }
   ],
   "source": [
    "# Combinando vetores por coluna - cbind\n",
    "uni_matrix <- cbind(uni_matrix, valor_anual)\n",
    "\n",
    "uni_matrix"
   ]
  },
  {
   "cell_type": "code",
   "execution_count": 18,
   "metadata": {},
   "outputs": [
    {
     "data": {
      "text/html": [
       "10"
      ],
      "text/latex": [
       "10"
      ],
      "text/markdown": [
       "10"
      ],
      "text/plain": [
       "[1] 10"
      ]
     },
     "metadata": {},
     "output_type": "display_data"
    }
   ],
   "source": [
    "# Extraindo valor da matriz\n",
    "patents_stanford <- uni_matrix[2, 5]\n",
    "\n",
    "patents_stanford"
   ]
  },
  {
   "cell_type": "code",
   "execution_count": 19,
   "metadata": {},
   "outputs": [
    {
     "data": {
      "text/html": [
       "10"
      ],
      "text/latex": [
       "10"
      ],
      "text/markdown": [
       "10"
      ],
      "text/plain": [
       "[1] 10"
      ]
     },
     "metadata": {},
     "output_type": "display_data"
    }
   ],
   "source": [
    "patents_stanford <- uni_matrix['stanford', 'patents']\n",
    "\n",
    "patents_stanford"
   ]
  },
  {
   "cell_type": "code",
   "execution_count": 20,
   "metadata": {},
   "outputs": [
    {
     "data": {
      "text/html": [
       "<dl class=dl-horizontal>\n",
       "\t<dt>influence</dt>\n",
       "\t\t<dd>3</dd>\n",
       "\t<dt>broad.impact</dt>\n",
       "\t\t<dd>4</dd>\n",
       "\t<dt>patents</dt>\n",
       "\t\t<dd>10</dd>\n",
       "</dl>\n"
      ],
      "text/latex": [
       "\\begin{description*}\n",
       "\\item[influence] 3\n",
       "\\item[broad.impact] 4\n",
       "\\item[patents] 10\n",
       "\\end{description*}\n"
      ],
      "text/markdown": [
       "influence\n",
       ":   3broad.impact\n",
       ":   4patents\n",
       ":   10\n",
       "\n"
      ],
      "text/plain": [
       "   influence broad.impact      patents \n",
       "           3            4           10 "
      ]
     },
     "metadata": {},
     "output_type": "display_data"
    }
   ],
   "source": [
    "stanford <- uni_matrix['stanford', 3:5]\n",
    "\n",
    "stanford"
   ]
  },
  {
   "cell_type": "code",
   "execution_count": 22,
   "metadata": {},
   "outputs": [
    {
     "data": {
      "text/html": [
       "<table>\n",
       "<thead><tr><th></th><th scope=col>quality.of.education</th><th scope=col>valor_anual</th></tr></thead>\n",
       "<tbody>\n",
       "\t<tr><th scope=row>oxford</th><td>7    </td><td>28450</td></tr>\n",
       "\t<tr><th scope=row>harvard</th><td>1    </td><td>43280</td></tr>\n",
       "</tbody>\n",
       "</table>\n"
      ],
      "text/latex": [
       "\\begin{tabular}{r|ll}\n",
       "  & quality.of.education & valor\\_anual\\\\\n",
       "\\hline\n",
       "\toxford & 7     & 28450\\\\\n",
       "\tharvard & 1     & 43280\\\\\n",
       "\\end{tabular}\n"
      ],
      "text/markdown": [
       "\n",
       "| <!--/--> | quality.of.education | valor_anual |\n",
       "|---|---|---|\n",
       "| oxford | 7     | 28450 |\n",
       "| harvard | 1     | 43280 |\n",
       "\n"
      ],
      "text/plain": [
       "        quality.of.education valor_anual\n",
       "oxford  7                    28450      \n",
       "harvard 1                    43280      "
      ]
     },
     "metadata": {},
     "output_type": "display_data"
    }
   ],
   "source": [
    "uni_matrix[c('oxford', 'harvard'), c('quality.of.education', 'valor_anual')]"
   ]
  },
  {
   "cell_type": "code",
   "execution_count": 23,
   "metadata": {},
   "outputs": [
    {
     "data": {
      "text/html": [
       "12"
      ],
      "text/latex": [
       "12"
      ],
      "text/markdown": [
       "12"
      ],
      "text/plain": [
       "[1] 12"
      ]
     },
     "metadata": {},
     "output_type": "display_data"
    }
   ],
   "source": [
    "oxford_influence <- uni_matrix['oxford', 'influence']\n",
    "oxford_influence"
   ]
  },
  {
   "cell_type": "code",
   "execution_count": 24,
   "metadata": {},
   "outputs": [
    {
     "data": {
      "text/html": [
       "<dl class=dl-horizontal>\n",
       "\t<dt>cambridge</dt>\n",
       "\t\t<dd>48</dd>\n",
       "\t<dt>stanford</dt>\n",
       "\t\t<dd>10</dd>\n",
       "</dl>\n"
      ],
      "text/latex": [
       "\\begin{description*}\n",
       "\\item[cambridge] 48\n",
       "\\item[stanford] 10\n",
       "\\end{description*}\n"
      ],
      "text/markdown": [
       "cambridge\n",
       ":   48stanford\n",
       ":   10\n",
       "\n"
      ],
      "text/plain": [
       "cambridge  stanford \n",
       "       48        10 "
      ]
     },
     "metadata": {},
     "output_type": "display_data"
    }
   ],
   "source": [
    "cam_stan_patents <- uni_matrix[c('cambridge', 'stanford'), 'patents']\n",
    "\n",
    "cam_stan_patents"
   ]
  },
  {
   "cell_type": "code",
   "execution_count": 25,
   "metadata": {},
   "outputs": [
    {
     "data": {
      "text/html": [
       "<dl class=dl-horizontal>\n",
       "\t<dt>world.rank</dt>\n",
       "\t\t<dd>1</dd>\n",
       "\t<dt>quality.of.education</dt>\n",
       "\t\t<dd>1</dd>\n",
       "\t<dt>influence</dt>\n",
       "\t\t<dd>1</dd>\n",
       "\t<dt>broad.impact</dt>\n",
       "\t\t<dd>1</dd>\n",
       "\t<dt>patents</dt>\n",
       "\t\t<dd>3</dd>\n",
       "\t<dt>valor_anual</dt>\n",
       "\t\t<dd>43280</dd>\n",
       "</dl>\n"
      ],
      "text/latex": [
       "\\begin{description*}\n",
       "\\item[world.rank] 1\n",
       "\\item[quality.of.education] 1\n",
       "\\item[influence] 1\n",
       "\\item[broad.impact] 1\n",
       "\\item[patents] 3\n",
       "\\item[valor\\textbackslash{}\\_anual] 43280\n",
       "\\end{description*}\n"
      ],
      "text/markdown": [
       "world.rank\n",
       ":   1quality.of.education\n",
       ":   1influence\n",
       ":   1broad.impact\n",
       ":   1patents\n",
       ":   3valor_anual\n",
       ":   43280\n",
       "\n"
      ],
      "text/plain": [
       "          world.rank quality.of.education            influence \n",
       "                   1                    1                    1 \n",
       "        broad.impact              patents          valor_anual \n",
       "                   1                    3                43280 "
      ]
     },
     "metadata": {},
     "output_type": "display_data"
    }
   ],
   "source": [
    "uni_matrix['harvard',]"
   ]
  },
  {
   "cell_type": "code",
   "execution_count": 26,
   "metadata": {},
   "outputs": [
    {
     "data": {
      "text/html": [
       "<dl class=dl-horizontal>\n",
       "\t<dt>harvard</dt>\n",
       "\t\t<dd>43280</dd>\n",
       "\t<dt>stanford</dt>\n",
       "\t\t<dd>45000</dd>\n",
       "\t<dt>mit</dt>\n",
       "\t\t<dd>45016</dd>\n",
       "\t<dt>cambridge</dt>\n",
       "\t\t<dd>49350</dd>\n",
       "\t<dt>oxford</dt>\n",
       "\t\t<dd>28450</dd>\n",
       "\t<dt>columbia</dt>\n",
       "\t\t<dd>55161</dd>\n",
       "</dl>\n"
      ],
      "text/latex": [
       "\\begin{description*}\n",
       "\\item[harvard] 43280\n",
       "\\item[stanford] 45000\n",
       "\\item[mit] 45016\n",
       "\\item[cambridge] 49350\n",
       "\\item[oxford] 28450\n",
       "\\item[columbia] 55161\n",
       "\\end{description*}\n"
      ],
      "text/markdown": [
       "harvard\n",
       ":   43280stanford\n",
       ":   45000mit\n",
       ":   45016cambridge\n",
       ":   49350oxford\n",
       ":   28450columbia\n",
       ":   55161\n",
       "\n"
      ],
      "text/plain": [
       "  harvard  stanford       mit cambridge    oxford  columbia \n",
       "    43280     45000     45016     49350     28450     55161 "
      ]
     },
     "metadata": {},
     "output_type": "display_data"
    }
   ],
   "source": [
    "uni_matrix[, 'valor_anual']"
   ]
  },
  {
   "cell_type": "code",
   "execution_count": 27,
   "metadata": {},
   "outputs": [
    {
     "data": {
      "text/html": [
       "<table>\n",
       "<thead><tr><th></th><th scope=col>influence</th><th scope=col>broad.impact</th></tr></thead>\n",
       "<tbody>\n",
       "\t<tr><th scope=row>harvard</th><td> 1</td><td> 1</td></tr>\n",
       "\t<tr><th scope=row>stanford</th><td> 3</td><td> 4</td></tr>\n",
       "\t<tr><th scope=row>mit</th><td> 2</td><td> 2</td></tr>\n",
       "\t<tr><th scope=row>cambridge</th><td> 6</td><td>13</td></tr>\n",
       "\t<tr><th scope=row>oxford</th><td>12</td><td> 9</td></tr>\n",
       "\t<tr><th scope=row>columbia</th><td>13</td><td>12</td></tr>\n",
       "</tbody>\n",
       "</table>\n"
      ],
      "text/latex": [
       "\\begin{tabular}{r|ll}\n",
       "  & influence & broad.impact\\\\\n",
       "\\hline\n",
       "\tharvard &  1 &  1\\\\\n",
       "\tstanford &  3 &  4\\\\\n",
       "\tmit &  2 &  2\\\\\n",
       "\tcambridge &  6 & 13\\\\\n",
       "\toxford & 12 &  9\\\\\n",
       "\tcolumbia & 13 & 12\\\\\n",
       "\\end{tabular}\n"
      ],
      "text/markdown": [
       "\n",
       "| <!--/--> | influence | broad.impact |\n",
       "|---|---|---|\n",
       "| harvard |  1 |  1 |\n",
       "| stanford |  3 |  4 |\n",
       "| mit |  2 |  2 |\n",
       "| cambridge |  6 | 13 |\n",
       "| oxford | 12 |  9 |\n",
       "| columbia | 13 | 12 |\n",
       "\n"
      ],
      "text/plain": [
       "          influence broad.impact\n",
       "harvard    1         1          \n",
       "stanford   3         4          \n",
       "mit        2         2          \n",
       "cambridge  6        13          \n",
       "oxford    12         9          \n",
       "columbia  13        12          "
      ]
     },
     "metadata": {},
     "output_type": "display_data"
    }
   ],
   "source": [
    "uni_matrix[, c('influence', 'broad.impact')]"
   ]
  },
  {
   "cell_type": "code",
   "execution_count": 28,
   "metadata": {},
   "outputs": [
    {
     "data": {
      "text/html": [
       "<dl class=dl-horizontal>\n",
       "\t<dt>world.rank</dt>\n",
       "\t\t<dd>5</dd>\n",
       "\t<dt>quality.of.education</dt>\n",
       "\t\t<dd>7</dd>\n",
       "\t<dt>influence</dt>\n",
       "\t\t<dd>12</dd>\n",
       "\t<dt>broad.impact</dt>\n",
       "\t\t<dd>9</dd>\n",
       "\t<dt>patents</dt>\n",
       "\t\t<dd>15</dd>\n",
       "\t<dt>valor_anual</dt>\n",
       "\t\t<dd>28450</dd>\n",
       "</dl>\n"
      ],
      "text/latex": [
       "\\begin{description*}\n",
       "\\item[world.rank] 5\n",
       "\\item[quality.of.education] 7\n",
       "\\item[influence] 12\n",
       "\\item[broad.impact] 9\n",
       "\\item[patents] 15\n",
       "\\item[valor\\textbackslash{}\\_anual] 28450\n",
       "\\end{description*}\n"
      ],
      "text/markdown": [
       "world.rank\n",
       ":   5quality.of.education\n",
       ":   7influence\n",
       ":   12broad.impact\n",
       ":   9patents\n",
       ":   15valor_anual\n",
       ":   28450\n",
       "\n"
      ],
      "text/plain": [
       "          world.rank quality.of.education            influence \n",
       "                   5                    7                   12 \n",
       "        broad.impact              patents          valor_anual \n",
       "                   9                   15                28450 "
      ]
     },
     "metadata": {},
     "output_type": "display_data"
    }
   ],
   "source": [
    "oxford_rank <- uni_matrix['oxford',]\n",
    "oxford_rank"
   ]
  },
  {
   "cell_type": "code",
   "execution_count": 29,
   "metadata": {},
   "outputs": [
    {
     "data": {
      "text/html": [
       "<dl class=dl-horizontal>\n",
       "\t<dt>harvard</dt>\n",
       "\t\t<dd>1</dd>\n",
       "\t<dt>stanford</dt>\n",
       "\t\t<dd>3</dd>\n",
       "\t<dt>mit</dt>\n",
       "\t\t<dd>2</dd>\n",
       "\t<dt>cambridge</dt>\n",
       "\t\t<dd>6</dd>\n",
       "\t<dt>oxford</dt>\n",
       "\t\t<dd>12</dd>\n",
       "\t<dt>columbia</dt>\n",
       "\t\t<dd>13</dd>\n",
       "</dl>\n"
      ],
      "text/latex": [
       "\\begin{description*}\n",
       "\\item[harvard] 1\n",
       "\\item[stanford] 3\n",
       "\\item[mit] 2\n",
       "\\item[cambridge] 6\n",
       "\\item[oxford] 12\n",
       "\\item[columbia] 13\n",
       "\\end{description*}\n"
      ],
      "text/markdown": [
       "harvard\n",
       ":   1stanford\n",
       ":   3mit\n",
       ":   2cambridge\n",
       ":   6oxford\n",
       ":   12columbia\n",
       ":   13\n",
       "\n"
      ],
      "text/plain": [
       "  harvard  stanford       mit cambridge    oxford  columbia \n",
       "        1         3         2         6        12        13 "
      ]
     },
     "metadata": {},
     "output_type": "display_data"
    }
   ],
   "source": [
    "influence <- uni_matrix[, 'influence']\n",
    "influence"
   ]
  },
  {
   "cell_type": "code",
   "execution_count": 31,
   "metadata": {},
   "outputs": [
    {
     "data": {
      "text/html": [
       "<table>\n",
       "<thead><tr><th></th><th scope=col>world.rank</th><th scope=col>quality.of.education</th><th scope=col>influence</th><th scope=col>broad.impact</th><th scope=col>patents</th><th scope=col>valor_anual</th></tr></thead>\n",
       "<tbody>\n",
       "\t<tr><th scope=row>harvard</th><td>1    </td><td>1    </td><td>1    </td><td>1    </td><td>3    </td><td>43280</td></tr>\n",
       "\t<tr><th scope=row>mit</th><td>3    </td><td>3    </td><td>2    </td><td>2    </td><td>1    </td><td>45016</td></tr>\n",
       "</tbody>\n",
       "</table>\n"
      ],
      "text/latex": [
       "\\begin{tabular}{r|llllll}\n",
       "  & world.rank & quality.of.education & influence & broad.impact & patents & valor\\_anual\\\\\n",
       "\\hline\n",
       "\tharvard & 1     & 1     & 1     & 1     & 3     & 43280\\\\\n",
       "\tmit & 3     & 3     & 2     & 2     & 1     & 45016\\\\\n",
       "\\end{tabular}\n"
      ],
      "text/markdown": [
       "\n",
       "| <!--/--> | world.rank | quality.of.education | influence | broad.impact | patents | valor_anual |\n",
       "|---|---|---|---|---|---|---|\n",
       "| harvard | 1     | 1     | 1     | 1     | 3     | 43280 |\n",
       "| mit | 3     | 3     | 2     | 2     | 1     | 45016 |\n",
       "\n"
      ],
      "text/plain": [
       "        world.rank quality.of.education influence broad.impact patents\n",
       "harvard 1          1                    1         1            3      \n",
       "mit     3          3                    2         2            1      \n",
       "        valor_anual\n",
       "harvard 43280      \n",
       "mit     45016      "
      ]
     },
     "metadata": {},
     "output_type": "display_data"
    }
   ],
   "source": [
    "harv_mit_rank <- uni_matrix[c('harvard', 'mit'),]\n",
    "harv_mit_rank"
   ]
  },
  {
   "cell_type": "code",
   "execution_count": 32,
   "metadata": {},
   "outputs": [
    {
     "data": {
      "text/html": [
       "<table>\n",
       "<thead><tr><th></th><th scope=col>influence</th><th scope=col>patents</th></tr></thead>\n",
       "<tbody>\n",
       "\t<tr><th scope=row>harvard</th><td> 1</td><td> 3</td></tr>\n",
       "\t<tr><th scope=row>stanford</th><td> 3</td><td>10</td></tr>\n",
       "\t<tr><th scope=row>mit</th><td> 2</td><td> 1</td></tr>\n",
       "\t<tr><th scope=row>cambridge</th><td> 6</td><td>48</td></tr>\n",
       "\t<tr><th scope=row>oxford</th><td>12</td><td>15</td></tr>\n",
       "\t<tr><th scope=row>columbia</th><td>13</td><td> 5</td></tr>\n",
       "</tbody>\n",
       "</table>\n"
      ],
      "text/latex": [
       "\\begin{tabular}{r|ll}\n",
       "  & influence & patents\\\\\n",
       "\\hline\n",
       "\tharvard &  1 &  3\\\\\n",
       "\tstanford &  3 & 10\\\\\n",
       "\tmit &  2 &  1\\\\\n",
       "\tcambridge &  6 & 48\\\\\n",
       "\toxford & 12 & 15\\\\\n",
       "\tcolumbia & 13 &  5\\\\\n",
       "\\end{tabular}\n"
      ],
      "text/markdown": [
       "\n",
       "| <!--/--> | influence | patents |\n",
       "|---|---|---|\n",
       "| harvard |  1 |  3 |\n",
       "| stanford |  3 | 10 |\n",
       "| mit |  2 |  1 |\n",
       "| cambridge |  6 | 48 |\n",
       "| oxford | 12 | 15 |\n",
       "| columbia | 13 |  5 |\n",
       "\n"
      ],
      "text/plain": [
       "          influence patents\n",
       "harvard    1         3     \n",
       "stanford   3        10     \n",
       "mit        2         1     \n",
       "cambridge  6        48     \n",
       "oxford    12        15     \n",
       "columbia  13         5     "
      ]
     },
     "metadata": {},
     "output_type": "display_data"
    }
   ],
   "source": [
    "influence_patents <- uni_matrix[, c('influence', 'patents')]\n",
    "influence_patents"
   ]
  },
  {
   "cell_type": "code",
   "execution_count": 33,
   "metadata": {},
   "outputs": [
    {
     "data": {
      "text/html": [
       "<dl class=dl-horizontal>\n",
       "\t<dt>harvard</dt>\n",
       "\t\t<dd>1</dd>\n",
       "\t<dt>stanford</dt>\n",
       "\t\t<dd>5</dd>\n",
       "\t<dt>mit</dt>\n",
       "\t\t<dd>3</dd>\n",
       "\t<dt>cambridge</dt>\n",
       "\t\t<dd>2</dd>\n",
       "\t<dt>oxford</dt>\n",
       "\t\t<dd>4</dd>\n",
       "\t<dt>columbia</dt>\n",
       "\t\t<dd>6</dd>\n",
       "</dl>\n"
      ],
      "text/latex": [
       "\\begin{description*}\n",
       "\\item[harvard] 1\n",
       "\\item[stanford] 5\n",
       "\\item[mit] 3\n",
       "\\item[cambridge] 2\n",
       "\\item[oxford] 4\n",
       "\\item[columbia] 6\n",
       "\\end{description*}\n"
      ],
      "text/markdown": [
       "harvard\n",
       ":   1stanford\n",
       ":   5mit\n",
       ":   3cambridge\n",
       ":   2oxford\n",
       ":   4columbia\n",
       ":   6\n",
       "\n"
      ],
      "text/plain": [
       "  harvard  stanford       mit cambridge    oxford  columbia \n",
       "        1         5         3         2         4         6 "
      ]
     },
     "metadata": {},
     "output_type": "display_data"
    }
   ],
   "source": [
    "rank( uni_matrix[, 'quality.of.education'] )"
   ]
  },
  {
   "cell_type": "code",
   "execution_count": null,
   "metadata": {},
   "outputs": [],
   "source": []
  }
 ],
 "metadata": {
  "kernelspec": {
   "display_name": "R",
   "language": "R",
   "name": "ir"
  },
  "language_info": {
   "codemirror_mode": "r",
   "file_extension": ".r",
   "mimetype": "text/x-r-source",
   "name": "R",
   "pygments_lexer": "r",
   "version": "3.6.0"
  }
 },
 "nbformat": 4,
 "nbformat_minor": 2
}
