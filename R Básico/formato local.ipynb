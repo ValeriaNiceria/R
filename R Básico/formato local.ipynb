{
 "cells": [
  {
   "cell_type": "code",
   "execution_count": 1,
   "metadata": {},
   "outputs": [
    {
     "data": {
      "text/html": [
       "<dl class=dl-horizontal>\n",
       "\t<dt>decimal_point</dt>\n",
       "\t\t<dd>'.'</dd>\n",
       "\t<dt>thousands_sep</dt>\n",
       "\t\t<dd>''</dd>\n",
       "\t<dt>grouping</dt>\n",
       "\t\t<dd>''</dd>\n",
       "\t<dt>int_curr_symbol</dt>\n",
       "\t\t<dd>'BRL'</dd>\n",
       "\t<dt>currency_symbol</dt>\n",
       "\t\t<dd>'R$'</dd>\n",
       "\t<dt>mon_decimal_point</dt>\n",
       "\t\t<dd>','</dd>\n",
       "\t<dt>mon_thousands_sep</dt>\n",
       "\t\t<dd>'.'</dd>\n",
       "\t<dt>mon_grouping</dt>\n",
       "\t\t<dd>'\\003'</dd>\n",
       "\t<dt>positive_sign</dt>\n",
       "\t\t<dd>''</dd>\n",
       "\t<dt>negative_sign</dt>\n",
       "\t\t<dd>'-'</dd>\n",
       "\t<dt>int_frac_digits</dt>\n",
       "\t\t<dd>'2'</dd>\n",
       "\t<dt>frac_digits</dt>\n",
       "\t\t<dd>'2'</dd>\n",
       "\t<dt>p_cs_precedes</dt>\n",
       "\t\t<dd>'1'</dd>\n",
       "\t<dt>p_sep_by_space</dt>\n",
       "\t\t<dd>'1'</dd>\n",
       "\t<dt>n_cs_precedes</dt>\n",
       "\t\t<dd>'1'</dd>\n",
       "\t<dt>n_sep_by_space</dt>\n",
       "\t\t<dd>'1'</dd>\n",
       "\t<dt>p_sign_posn</dt>\n",
       "\t\t<dd>'3'</dd>\n",
       "\t<dt>n_sign_posn</dt>\n",
       "\t\t<dd>'3'</dd>\n",
       "</dl>\n"
      ],
      "text/latex": [
       "\\begin{description*}\n",
       "\\item[decimal\\textbackslash{}\\_point] '.'\n",
       "\\item[thousands\\textbackslash{}\\_sep] ''\n",
       "\\item[grouping] ''\n",
       "\\item[int\\textbackslash{}\\_curr\\textbackslash{}\\_symbol] 'BRL'\n",
       "\\item[currency\\textbackslash{}\\_symbol] 'R\\$'\n",
       "\\item[mon\\textbackslash{}\\_decimal\\textbackslash{}\\_point] ','\n",
       "\\item[mon\\textbackslash{}\\_thousands\\textbackslash{}\\_sep] '.'\n",
       "\\item[mon\\textbackslash{}\\_grouping] '\\textbackslash{}003'\n",
       "\\item[positive\\textbackslash{}\\_sign] ''\n",
       "\\item[negative\\textbackslash{}\\_sign] '-'\n",
       "\\item[int\\textbackslash{}\\_frac\\textbackslash{}\\_digits] '2'\n",
       "\\item[frac\\textbackslash{}\\_digits] '2'\n",
       "\\item[p\\textbackslash{}\\_cs\\textbackslash{}\\_precedes] '1'\n",
       "\\item[p\\textbackslash{}\\_sep\\textbackslash{}\\_by\\textbackslash{}\\_space] '1'\n",
       "\\item[n\\textbackslash{}\\_cs\\textbackslash{}\\_precedes] '1'\n",
       "\\item[n\\textbackslash{}\\_sep\\textbackslash{}\\_by\\textbackslash{}\\_space] '1'\n",
       "\\item[p\\textbackslash{}\\_sign\\textbackslash{}\\_posn] '3'\n",
       "\\item[n\\textbackslash{}\\_sign\\textbackslash{}\\_posn] '3'\n",
       "\\end{description*}\n"
      ],
      "text/markdown": [
       "decimal_point\n",
       ":   '.'thousands_sep\n",
       ":   ''grouping\n",
       ":   ''int_curr_symbol\n",
       ":   'BRL'currency_symbol\n",
       ":   'R$'mon_decimal_point\n",
       ":   ','mon_thousands_sep\n",
       ":   '.'mon_grouping\n",
       ":   '\\003'positive_sign\n",
       ":   ''negative_sign\n",
       ":   '-'int_frac_digits\n",
       ":   '2'frac_digits\n",
       ":   '2'p_cs_precedes\n",
       ":   '1'p_sep_by_space\n",
       ":   '1'n_cs_precedes\n",
       ":   '1'n_sep_by_space\n",
       ":   '1'p_sign_posn\n",
       ":   '3'n_sign_posn\n",
       ":   '3'\n",
       "\n"
      ],
      "text/plain": [
       "    decimal_point     thousands_sep          grouping   int_curr_symbol \n",
       "              \".\"                \"\"                \"\"             \"BRL\" \n",
       "  currency_symbol mon_decimal_point mon_thousands_sep      mon_grouping \n",
       "             \"R$\"               \",\"               \".\"            \"\\003\" \n",
       "    positive_sign     negative_sign   int_frac_digits       frac_digits \n",
       "               \"\"               \"-\"               \"2\"               \"2\" \n",
       "    p_cs_precedes    p_sep_by_space     n_cs_precedes    n_sep_by_space \n",
       "              \"1\"               \"1\"               \"1\"               \"1\" \n",
       "      p_sign_posn       n_sign_posn \n",
       "              \"3\"               \"3\" "
      ]
     },
     "metadata": {},
     "output_type": "display_data"
    }
   ],
   "source": [
    "# pegando o formato local\n",
    "Sys.localeconv()"
   ]
  },
  {
   "cell_type": "code",
   "execution_count": 2,
   "metadata": {},
   "outputs": [
    {
     "data": {
      "text/html": [
       "'LC_COLLATE=English_United States.1252;LC_CTYPE=English_United States.1252;LC_MONETARY=English_United States.1252;LC_NUMERIC=C;LC_TIME=English_United States.1252'"
      ],
      "text/latex": [
       "'LC\\_COLLATE=English\\_United States.1252;LC\\_CTYPE=English\\_United States.1252;LC\\_MONETARY=English\\_United States.1252;LC\\_NUMERIC=C;LC\\_TIME=English\\_United States.1252'"
      ],
      "text/markdown": [
       "'LC_COLLATE=English_United States.1252;LC_CTYPE=English_United States.1252;LC_MONETARY=English_United States.1252;LC_NUMERIC=C;LC_TIME=English_United States.1252'"
      ],
      "text/plain": [
       "[1] \"LC_COLLATE=English_United States.1252;LC_CTYPE=English_United States.1252;LC_MONETARY=English_United States.1252;LC_NUMERIC=C;LC_TIME=English_United States.1252\""
      ]
     },
     "metadata": {},
     "output_type": "display_data"
    }
   ],
   "source": [
    "# Alterando o formato local para inglês\n",
    "Sys.setlocale(\"LC_ALL\", \"English\")"
   ]
  },
  {
   "cell_type": "code",
   "execution_count": 3,
   "metadata": {},
   "outputs": [
    {
     "data": {
      "text/html": [
       "<dl class=dl-horizontal>\n",
       "\t<dt>decimal_point</dt>\n",
       "\t\t<dd>'.'</dd>\n",
       "\t<dt>thousands_sep</dt>\n",
       "\t\t<dd>''</dd>\n",
       "\t<dt>grouping</dt>\n",
       "\t\t<dd>''</dd>\n",
       "\t<dt>int_curr_symbol</dt>\n",
       "\t\t<dd>'USD'</dd>\n",
       "\t<dt>currency_symbol</dt>\n",
       "\t\t<dd>'$'</dd>\n",
       "\t<dt>mon_decimal_point</dt>\n",
       "\t\t<dd>'.'</dd>\n",
       "\t<dt>mon_thousands_sep</dt>\n",
       "\t\t<dd>','</dd>\n",
       "\t<dt>mon_grouping</dt>\n",
       "\t\t<dd>'\\003'</dd>\n",
       "\t<dt>positive_sign</dt>\n",
       "\t\t<dd>''</dd>\n",
       "\t<dt>negative_sign</dt>\n",
       "\t\t<dd>'-'</dd>\n",
       "\t<dt>int_frac_digits</dt>\n",
       "\t\t<dd>'2'</dd>\n",
       "\t<dt>frac_digits</dt>\n",
       "\t\t<dd>'2'</dd>\n",
       "\t<dt>p_cs_precedes</dt>\n",
       "\t\t<dd>'1'</dd>\n",
       "\t<dt>p_sep_by_space</dt>\n",
       "\t\t<dd>'0'</dd>\n",
       "\t<dt>n_cs_precedes</dt>\n",
       "\t\t<dd>'1'</dd>\n",
       "\t<dt>n_sep_by_space</dt>\n",
       "\t\t<dd>'0'</dd>\n",
       "\t<dt>p_sign_posn</dt>\n",
       "\t\t<dd>'3'</dd>\n",
       "\t<dt>n_sign_posn</dt>\n",
       "\t\t<dd>'0'</dd>\n",
       "</dl>\n"
      ],
      "text/latex": [
       "\\begin{description*}\n",
       "\\item[decimal\\textbackslash{}\\_point] '.'\n",
       "\\item[thousands\\textbackslash{}\\_sep] ''\n",
       "\\item[grouping] ''\n",
       "\\item[int\\textbackslash{}\\_curr\\textbackslash{}\\_symbol] 'USD'\n",
       "\\item[currency\\textbackslash{}\\_symbol] '\\$'\n",
       "\\item[mon\\textbackslash{}\\_decimal\\textbackslash{}\\_point] '.'\n",
       "\\item[mon\\textbackslash{}\\_thousands\\textbackslash{}\\_sep] ','\n",
       "\\item[mon\\textbackslash{}\\_grouping] '\\textbackslash{}003'\n",
       "\\item[positive\\textbackslash{}\\_sign] ''\n",
       "\\item[negative\\textbackslash{}\\_sign] '-'\n",
       "\\item[int\\textbackslash{}\\_frac\\textbackslash{}\\_digits] '2'\n",
       "\\item[frac\\textbackslash{}\\_digits] '2'\n",
       "\\item[p\\textbackslash{}\\_cs\\textbackslash{}\\_precedes] '1'\n",
       "\\item[p\\textbackslash{}\\_sep\\textbackslash{}\\_by\\textbackslash{}\\_space] '0'\n",
       "\\item[n\\textbackslash{}\\_cs\\textbackslash{}\\_precedes] '1'\n",
       "\\item[n\\textbackslash{}\\_sep\\textbackslash{}\\_by\\textbackslash{}\\_space] '0'\n",
       "\\item[p\\textbackslash{}\\_sign\\textbackslash{}\\_posn] '3'\n",
       "\\item[n\\textbackslash{}\\_sign\\textbackslash{}\\_posn] '0'\n",
       "\\end{description*}\n"
      ],
      "text/markdown": [
       "decimal_point\n",
       ":   '.'thousands_sep\n",
       ":   ''grouping\n",
       ":   ''int_curr_symbol\n",
       ":   'USD'currency_symbol\n",
       ":   '$'mon_decimal_point\n",
       ":   '.'mon_thousands_sep\n",
       ":   ','mon_grouping\n",
       ":   '\\003'positive_sign\n",
       ":   ''negative_sign\n",
       ":   '-'int_frac_digits\n",
       ":   '2'frac_digits\n",
       ":   '2'p_cs_precedes\n",
       ":   '1'p_sep_by_space\n",
       ":   '0'n_cs_precedes\n",
       ":   '1'n_sep_by_space\n",
       ":   '0'p_sign_posn\n",
       ":   '3'n_sign_posn\n",
       ":   '0'\n",
       "\n"
      ],
      "text/plain": [
       "    decimal_point     thousands_sep          grouping   int_curr_symbol \n",
       "              \".\"                \"\"                \"\"             \"USD\" \n",
       "  currency_symbol mon_decimal_point mon_thousands_sep      mon_grouping \n",
       "              \"$\"               \".\"               \",\"            \"\\003\" \n",
       "    positive_sign     negative_sign   int_frac_digits       frac_digits \n",
       "               \"\"               \"-\"               \"2\"               \"2\" \n",
       "    p_cs_precedes    p_sep_by_space     n_cs_precedes    n_sep_by_space \n",
       "              \"1\"               \"0\"               \"1\"               \"0\" \n",
       "      p_sign_posn       n_sign_posn \n",
       "              \"3\"               \"0\" "
      ]
     },
     "metadata": {},
     "output_type": "display_data"
    }
   ],
   "source": [
    "# pegando o formato local\n",
    "Sys.localeconv()"
   ]
  },
  {
   "cell_type": "code",
   "execution_count": null,
   "metadata": {},
   "outputs": [],
   "source": []
  }
 ],
 "metadata": {
  "kernelspec": {
   "display_name": "R",
   "language": "R",
   "name": "ir"
  },
  "language_info": {
   "codemirror_mode": "r",
   "file_extension": ".r",
   "mimetype": "text/x-r-source",
   "name": "R",
   "pygments_lexer": "r",
   "version": "3.6.0"
  }
 },
 "nbformat": 4,
 "nbformat_minor": 2
}
