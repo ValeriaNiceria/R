{
 "cells": [
  {
   "cell_type": "markdown",
   "metadata": {},
   "source": [
    "# Selecionando Elementos de um Vetor Atômico"
   ]
  },
  {
   "cell_type": "code",
   "execution_count": 1,
   "metadata": {},
   "outputs": [],
   "source": [
    "my.x <- c(1, 5, 4, 3, 2, 7, 3.5, 4.3)"
   ]
  },
  {
   "cell_type": "code",
   "execution_count": 2,
   "metadata": {},
   "outputs": [
    {
     "name": "stdout",
     "output_type": "stream",
     "text": [
      "[1] 4\n"
     ]
    }
   ],
   "source": [
    "elem.x <- my.x[3]\n",
    "print(elem.x)"
   ]
  },
  {
   "cell_type": "code",
   "execution_count": 3,
   "metadata": {},
   "outputs": [
    {
     "name": "stdout",
     "output_type": "stream",
     "text": [
      "[1] 4.3\n"
     ]
    }
   ],
   "source": [
    "last.elem <- my.x[length(my.x)]\n",
    "print(last.elem)"
   ]
  },
  {
   "cell_type": "code",
   "execution_count": 4,
   "metadata": {},
   "outputs": [
    {
     "name": "stdout",
     "output_type": "stream",
     "text": [
      "[1] 3.5 4.3\n"
     ]
    }
   ],
   "source": [
    "piece.x.1 <- my.x[ (length(my.x)-1):length(my.x) ]\n",
    "print(piece.x.1)"
   ]
  },
  {
   "cell_type": "code",
   "execution_count": 6,
   "metadata": {},
   "outputs": [
    {
     "name": "stdout",
     "output_type": "stream",
     "text": [
      "[1] NA\n"
     ]
    }
   ],
   "source": [
    "my.vec <- c(1, 2, 3)\n",
    "print(my.vec[4])"
   ]
  },
  {
   "cell_type": "code",
   "execution_count": 7,
   "metadata": {},
   "outputs": [
    {
     "name": "stdout",
     "output_type": "stream",
     "text": [
      "[1] 5.0 4.0 7.0 3.5 4.3\n"
     ]
    }
   ],
   "source": [
    "piece.x.2 <- my.x[my.x>3]\n",
    "print(piece.x.2)"
   ]
  },
  {
   "cell_type": "code",
   "execution_count": 8,
   "metadata": {},
   "outputs": [
    {
     "name": "stdout",
     "output_type": "stream",
     "text": [
      "[1] 3.0 3.5\n"
     ]
    }
   ],
   "source": [
    "piece.x.3 <- my.x[ (my.x>2) & (my.x<4) ]\n",
    "print(piece.x.3)"
   ]
  },
  {
   "cell_type": "code",
   "execution_count": 9,
   "metadata": {},
   "outputs": [
    {
     "name": "stdout",
     "output_type": "stream",
     "text": [
      "[1]  6  8 12\n"
     ]
    }
   ],
   "source": [
    "my.x <- c(1, 4, 6, 8, 12)\n",
    "my.y <- c(-2, -3, 4, 10, 14)\n",
    "\n",
    "my.piece.x <- my.x[ my.y > 0 ]\n",
    "\n",
    "print(my.piece.x)"
   ]
  },
  {
   "cell_type": "code",
   "execution_count": 10,
   "metadata": {},
   "outputs": [
    {
     "name": "stdout",
     "output_type": "stream",
     "text": [
      "[1] FALSE FALSE  TRUE  TRUE  TRUE\n"
     ]
    }
   ],
   "source": [
    "my.logical <- my.y > 0\n",
    "print(my.logical)"
   ]
  },
  {
   "cell_type": "code",
   "execution_count": 11,
   "metadata": {},
   "outputs": [
    {
     "data": {
      "text/html": [
       "'logical'"
      ],
      "text/latex": [
       "'logical'"
      ],
      "text/markdown": [
       "'logical'"
      ],
      "text/plain": [
       "[1] \"logical\""
      ]
     },
     "metadata": {},
     "output_type": "display_data"
    }
   ],
   "source": [
    "class(my.logical)"
   ]
  }
 ],
 "metadata": {
  "kernelspec": {
   "display_name": "R",
   "language": "R",
   "name": "ir"
  },
  "language_info": {
   "codemirror_mode": "r",
   "file_extension": ".r",
   "mimetype": "text/x-r-source",
   "name": "R",
   "pygments_lexer": "r",
   "version": "3.6.0"
  }
 },
 "nbformat": 4,
 "nbformat_minor": 2
}
