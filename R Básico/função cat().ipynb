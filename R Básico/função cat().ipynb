{
 "cells": [
  {
   "cell_type": "markdown",
   "metadata": {},
   "source": [
    "# Formatando informações"
   ]
  },
  {
   "cell_type": "code",
   "execution_count": 1,
   "metadata": {},
   "outputs": [],
   "source": [
    "x <- 2"
   ]
  },
  {
   "cell_type": "code",
   "execution_count": 2,
   "metadata": {},
   "outputs": [
    {
     "name": "stdout",
     "output_type": "stream",
     "text": [
      "O valor de x é: 2"
     ]
    }
   ],
   "source": [
    "# imprimindo o valor usando a função cat()\n",
    "cat('O valor de x é:', x)"
   ]
  },
  {
   "cell_type": "code",
   "execution_count": 3,
   "metadata": {},
   "outputs": [],
   "source": [
    "x <- 2:5"
   ]
  },
  {
   "cell_type": "code",
   "execution_count": 4,
   "metadata": {},
   "outputs": [
    {
     "name": "stdout",
     "output_type": "stream",
     "text": [
      "Os valores em x são: 2 3 4 5"
     ]
    }
   ],
   "source": [
    "# Imprimindo o vetor de x usando a função cat()\n",
    "cat('Os valores em x são:', x)"
   ]
  },
  {
   "cell_type": "code",
   "execution_count": 7,
   "metadata": {},
   "outputs": [
    {
     "name": "stdout",
     "output_type": "stream",
     "text": [
      "Primeira linha, \n",
      "Segunda linha, \n",
      "Terceira linha."
     ]
    }
   ],
   "source": [
    "# Para se quebrar linha, utiliza-se o caracter \\n\n",
    "my.text <- 'Primeira linha, \\nSegunda linha, \\nTerceira linha.'\n",
    "\n",
    "# Imprimindo a varíavel usando a função cat\n",
    "cat(my.text)"
   ]
  },
  {
   "cell_type": "code",
   "execution_count": 8,
   "metadata": {},
   "outputs": [
    {
     "name": "stdout",
     "output_type": "stream",
     "text": [
      "[1] \"Primeira linha, \\nSegunda linha, \\nTerceira linha.\"\n"
     ]
    }
   ],
   "source": [
    "# Imprimindo a varíavel 'my.text' usando a função print\n",
    "print(my.text)"
   ]
  },
  {
   "cell_type": "code",
   "execution_count": 9,
   "metadata": {},
   "outputs": [
    {
     "name": "stdout",
     "output_type": "stream",
     "text": [
      "A->\t<-B"
     ]
    }
   ],
   "source": [
    "# Adicionando 'tab' ao texto - usando o símbolo \\t\n",
    "my.text <- 'A->\\t<-B'\n",
    "\n",
    "cat(my.text)"
   ]
  },
  {
   "cell_type": "code",
   "execution_count": null,
   "metadata": {},
   "outputs": [],
   "source": []
  }
 ],
 "metadata": {
  "kernelspec": {
   "display_name": "R",
   "language": "R",
   "name": "ir"
  },
  "language_info": {
   "codemirror_mode": "r",
   "file_extension": ".r",
   "mimetype": "text/x-r-source",
   "name": "R",
   "pygments_lexer": "r",
   "version": "3.6.0"
  }
 },
 "nbformat": 4,
 "nbformat_minor": 2
}
