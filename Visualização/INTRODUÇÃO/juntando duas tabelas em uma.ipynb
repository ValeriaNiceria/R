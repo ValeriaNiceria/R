{
 "cells": [
  {
   "cell_type": "markdown",
   "metadata": {},
   "source": [
    "## Juntando duas tabelas em uma"
   ]
  },
  {
   "cell_type": "code",
   "execution_count": 2,
   "metadata": {},
   "outputs": [
    {
     "name": "stderr",
     "output_type": "stream",
     "text": [
      "Installing package into 'C:/Users/valeria/Documents/R/win-library/3.6'\n",
      "(as 'lib' is unspecified)\n"
     ]
    },
    {
     "name": "stdout",
     "output_type": "stream",
     "text": [
      "package 'tibble' successfully unpacked and MD5 sums checked\n",
      "\n",
      "The downloaded binary packages are in\n",
      "\tC:\\Users\\valeria\\AppData\\Local\\Temp\\RtmpaI4ncD\\downloaded_packages\n"
     ]
    },
    {
     "name": "stderr",
     "output_type": "stream",
     "text": [
      "Warning message:\n",
      "\"package 'tibble' was built under R version 3.6.1\""
     ]
    }
   ],
   "source": [
    "# Instalando o pacote\n",
    "# install.packages(\"tibble\")\n",
    "\n",
    "# Carregando o pacote\n",
    "library(tibble)"
   ]
  },
  {
   "cell_type": "code",
   "execution_count": 3,
   "metadata": {},
   "outputs": [
    {
     "data": {
      "text/html": [
       "<table>\n",
       "<thead><tr><th scope=col>id</th><th scope=col>regiao</th><th scope=col>experiencia</th></tr></thead>\n",
       "<tbody>\n",
       "\t<tr><td>A12    </td><td>Sul    </td><td> 5     </td></tr>\n",
       "\t<tr><td>A13    </td><td>Sudeste</td><td> 2     </td></tr>\n",
       "\t<tr><td>A14    </td><td>Oeste  </td><td>12     </td></tr>\n",
       "\t<tr><td>A15    </td><td>Norte  </td><td> 8     </td></tr>\n",
       "</tbody>\n",
       "</table>\n"
      ],
      "text/latex": [
       "\\begin{tabular}{r|lll}\n",
       " id & regiao & experiencia\\\\\n",
       "\\hline\n",
       "\t A12     & Sul     &  5     \\\\\n",
       "\t A13     & Sudeste &  2     \\\\\n",
       "\t A14     & Oeste   & 12     \\\\\n",
       "\t A15     & Norte   &  8     \\\\\n",
       "\\end{tabular}\n"
      ],
      "text/markdown": [
       "\n",
       "| id | regiao | experiencia |\n",
       "|---|---|---|\n",
       "| A12     | Sul     |  5      |\n",
       "| A13     | Sudeste |  2      |\n",
       "| A14     | Oeste   | 12      |\n",
       "| A15     | Norte   |  8      |\n",
       "\n"
      ],
      "text/plain": [
       "  id  regiao  experiencia\n",
       "1 A12 Sul      5         \n",
       "2 A13 Sudeste  2         \n",
       "3 A14 Oeste   12         \n",
       "4 A15 Norte    8         "
      ]
     },
     "metadata": {},
     "output_type": "display_data"
    },
    {
     "data": {
      "text/html": [
       "<table>\n",
       "<thead><tr><th scope=col>id</th><th scope=col>vendas</th></tr></thead>\n",
       "<tbody>\n",
       "\t<tr><td>A13 </td><td>1200</td></tr>\n",
       "\t<tr><td>A14 </td><td>2500</td></tr>\n",
       "\t<tr><td>A12 </td><td> 350</td></tr>\n",
       "\t<tr><td>A11 </td><td>1000</td></tr>\n",
       "</tbody>\n",
       "</table>\n"
      ],
      "text/latex": [
       "\\begin{tabular}{r|ll}\n",
       " id & vendas\\\\\n",
       "\\hline\n",
       "\t A13  & 1200\\\\\n",
       "\t A14  & 2500\\\\\n",
       "\t A12  &  350\\\\\n",
       "\t A11  & 1000\\\\\n",
       "\\end{tabular}\n"
      ],
      "text/markdown": [
       "\n",
       "| id | vendas |\n",
       "|---|---|\n",
       "| A13  | 1200 |\n",
       "| A14  | 2500 |\n",
       "| A12  |  350 |\n",
       "| A11  | 1000 |\n",
       "\n"
      ],
      "text/plain": [
       "  id  vendas\n",
       "1 A13 1200  \n",
       "2 A14 2500  \n",
       "3 A12  350  \n",
       "4 A11 1000  "
      ]
     },
     "metadata": {},
     "output_type": "display_data"
    }
   ],
   "source": [
    "vendedor <- tibble(\n",
    "    id = c(\"A12\", \"A13\", \"A14\", \"A15\"),\n",
    "    regiao = c(\"Sul\", \"Sudeste\", \"Oeste\", \"Norte\"),\n",
    "    experiencia = c(5, 2, 12, 8)\n",
    ")\n",
    "\n",
    "vendas = tibble(\n",
    "    id = c(\"A13\", \"A14\", \"A12\", \"A11\"),\n",
    "    vendas = c(1200, 2500, 350, 1000)\n",
    ")\n",
    "\n",
    "vendedor\n",
    "\n",
    "vendas"
   ]
  },
  {
   "cell_type": "code",
   "execution_count": 5,
   "metadata": {},
   "outputs": [
    {
     "name": "stderr",
     "output_type": "stream",
     "text": [
      "\n",
      "Attaching package: 'dplyr'\n",
      "\n",
      "The following objects are masked from 'package:stats':\n",
      "\n",
      "    filter, lag\n",
      "\n",
      "The following objects are masked from 'package:base':\n",
      "\n",
      "    intersect, setdiff, setequal, union\n",
      "\n"
     ]
    }
   ],
   "source": [
    "# Carregando o pacote\n",
    "library(dplyr)"
   ]
  },
  {
   "cell_type": "code",
   "execution_count": 6,
   "metadata": {},
   "outputs": [
    {
     "data": {
      "text/html": [
       "<table>\n",
       "<thead><tr><th scope=col>id</th><th scope=col>regiao</th><th scope=col>experiencia</th><th scope=col>vendas</th></tr></thead>\n",
       "<tbody>\n",
       "\t<tr><td>A12    </td><td>Sul    </td><td> 5     </td><td> 350   </td></tr>\n",
       "\t<tr><td>A13    </td><td>Sudeste</td><td> 2     </td><td>1200   </td></tr>\n",
       "\t<tr><td>A14    </td><td>Oeste  </td><td>12     </td><td>2500   </td></tr>\n",
       "\t<tr><td>A15    </td><td>Norte  </td><td> 8     </td><td>  NA   </td></tr>\n",
       "</tbody>\n",
       "</table>\n"
      ],
      "text/latex": [
       "\\begin{tabular}{r|llll}\n",
       " id & regiao & experiencia & vendas\\\\\n",
       "\\hline\n",
       "\t A12     & Sul     &  5      &  350   \\\\\n",
       "\t A13     & Sudeste &  2      & 1200   \\\\\n",
       "\t A14     & Oeste   & 12      & 2500   \\\\\n",
       "\t A15     & Norte   &  8      &   NA   \\\\\n",
       "\\end{tabular}\n"
      ],
      "text/markdown": [
       "\n",
       "| id | regiao | experiencia | vendas |\n",
       "|---|---|---|---|\n",
       "| A12     | Sul     |  5      |  350    |\n",
       "| A13     | Sudeste |  2      | 1200    |\n",
       "| A14     | Oeste   | 12      | 2500    |\n",
       "| A15     | Norte   |  8      |   NA    |\n",
       "\n"
      ],
      "text/plain": [
       "  id  regiao  experiencia vendas\n",
       "1 A12 Sul      5           350  \n",
       "2 A13 Sudeste  2          1200  \n",
       "3 A14 Oeste   12          2500  \n",
       "4 A15 Norte    8            NA  "
      ]
     },
     "metadata": {},
     "output_type": "display_data"
    }
   ],
   "source": [
    "# left_join(x, y)\n",
    "left_join(vendedor, vendas, by = \"id\")"
   ]
  },
  {
   "cell_type": "code",
   "execution_count": 7,
   "metadata": {},
   "outputs": [
    {
     "data": {
      "text/html": [
       "<table>\n",
       "<thead><tr><th scope=col>id</th><th scope=col>regiao</th><th scope=col>experiencia</th><th scope=col>vendas</th></tr></thead>\n",
       "<tbody>\n",
       "\t<tr><td>A12    </td><td>Sul    </td><td> 5     </td><td> 350   </td></tr>\n",
       "\t<tr><td>A13    </td><td>Sudeste</td><td> 2     </td><td>1200   </td></tr>\n",
       "\t<tr><td>A14    </td><td>Oeste  </td><td>12     </td><td>2500   </td></tr>\n",
       "</tbody>\n",
       "</table>\n"
      ],
      "text/latex": [
       "\\begin{tabular}{r|llll}\n",
       " id & regiao & experiencia & vendas\\\\\n",
       "\\hline\n",
       "\t A12     & Sul     &  5      &  350   \\\\\n",
       "\t A13     & Sudeste &  2      & 1200   \\\\\n",
       "\t A14     & Oeste   & 12      & 2500   \\\\\n",
       "\\end{tabular}\n"
      ],
      "text/markdown": [
       "\n",
       "| id | regiao | experiencia | vendas |\n",
       "|---|---|---|---|\n",
       "| A12     | Sul     |  5      |  350    |\n",
       "| A13     | Sudeste |  2      | 1200    |\n",
       "| A14     | Oeste   | 12      | 2500    |\n",
       "\n"
      ],
      "text/plain": [
       "  id  regiao  experiencia vendas\n",
       "1 A12 Sul      5           350  \n",
       "2 A13 Sudeste  2          1200  \n",
       "3 A14 Oeste   12          2500  "
      ]
     },
     "metadata": {},
     "output_type": "display_data"
    }
   ],
   "source": [
    "# inner_join(x, y)\n",
    "inner_join(vendedor, vendas, by = \"id\")"
   ]
  },
  {
   "cell_type": "code",
   "execution_count": 8,
   "metadata": {},
   "outputs": [
    {
     "data": {
      "text/html": [
       "<table>\n",
       "<thead><tr><th scope=col>id</th><th scope=col>regiao</th><th scope=col>experiencia</th><th scope=col>vendas</th></tr></thead>\n",
       "<tbody>\n",
       "\t<tr><td>A12    </td><td>Sul    </td><td> 5     </td><td> 350   </td></tr>\n",
       "\t<tr><td>A13    </td><td>Sudeste</td><td> 2     </td><td>1200   </td></tr>\n",
       "\t<tr><td>A14    </td><td>Oeste  </td><td>12     </td><td>2500   </td></tr>\n",
       "\t<tr><td>A15    </td><td>Norte  </td><td> 8     </td><td>  NA   </td></tr>\n",
       "\t<tr><td>A11    </td><td>NA     </td><td>NA     </td><td>1000   </td></tr>\n",
       "</tbody>\n",
       "</table>\n"
      ],
      "text/latex": [
       "\\begin{tabular}{r|llll}\n",
       " id & regiao & experiencia & vendas\\\\\n",
       "\\hline\n",
       "\t A12     & Sul     &  5      &  350   \\\\\n",
       "\t A13     & Sudeste &  2      & 1200   \\\\\n",
       "\t A14     & Oeste   & 12      & 2500   \\\\\n",
       "\t A15     & Norte   &  8      &   NA   \\\\\n",
       "\t A11     & NA      & NA      & 1000   \\\\\n",
       "\\end{tabular}\n"
      ],
      "text/markdown": [
       "\n",
       "| id | regiao | experiencia | vendas |\n",
       "|---|---|---|---|\n",
       "| A12     | Sul     |  5      |  350    |\n",
       "| A13     | Sudeste |  2      | 1200    |\n",
       "| A14     | Oeste   | 12      | 2500    |\n",
       "| A15     | Norte   |  8      |   NA    |\n",
       "| A11     | NA      | NA      | 1000    |\n",
       "\n"
      ],
      "text/plain": [
       "  id  regiao  experiencia vendas\n",
       "1 A12 Sul      5           350  \n",
       "2 A13 Sudeste  2          1200  \n",
       "3 A14 Oeste   12          2500  \n",
       "4 A15 Norte    8            NA  \n",
       "5 A11 NA      NA          1000  "
      ]
     },
     "metadata": {},
     "output_type": "display_data"
    }
   ],
   "source": [
    "# full_join(x, y)\n",
    "full_join(vendedor, vendas, by = \"id\")"
   ]
  },
  {
   "cell_type": "code",
   "execution_count": null,
   "metadata": {},
   "outputs": [],
   "source": []
  }
 ],
 "metadata": {
  "kernelspec": {
   "display_name": "R",
   "language": "R",
   "name": "ir"
  },
  "language_info": {
   "codemirror_mode": "r",
   "file_extension": ".r",
   "mimetype": "text/x-r-source",
   "name": "R",
   "pygments_lexer": "r",
   "version": "3.6.0"
  }
 },
 "nbformat": 4,
 "nbformat_minor": 2
}
