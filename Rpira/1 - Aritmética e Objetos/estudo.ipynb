{
 "cells": [
  {
   "cell_type": "code",
   "execution_count": 1,
   "metadata": {},
   "outputs": [
    {
     "data": {
      "text/html": [
       "<ol class=list-inline>\n",
       "\t<li>-0.351036046302965</li>\n",
       "\t<li>1.51395271060619</li>\n",
       "\t<li>1.25950979048209</li>\n",
       "\t<li>1.42395034758624</li>\n",
       "\t<li>1.34174660871791</li>\n",
       "</ol>\n"
      ],
      "text/latex": [
       "\\begin{enumerate*}\n",
       "\\item -0.351036046302965\n",
       "\\item 1.51395271060619\n",
       "\\item 1.25950979048209\n",
       "\\item 1.42395034758624\n",
       "\\item 1.34174660871791\n",
       "\\end{enumerate*}\n"
      ],
      "text/markdown": [
       "1. -0.351036046302965\n",
       "2. 1.51395271060619\n",
       "3. 1.25950979048209\n",
       "4. 1.42395034758624\n",
       "5. 1.34174660871791\n",
       "\n",
       "\n"
      ],
      "text/plain": [
       "[1] -0.351036  1.513953  1.259510  1.423950  1.341747"
      ]
     },
     "metadata": {},
     "output_type": "display_data"
    }
   ],
   "source": [
    "# gerando dois vetores de números pseudo-aleatórios\n",
    "x <- rnorm(5)\n",
    "x"
   ]
  },
  {
   "cell_type": "code",
   "execution_count": 2,
   "metadata": {},
   "outputs": [
    {
     "data": {
      "text/html": [
       "<ol class=list-inline>\n",
       "\t<li>-0.27155266919364</li>\n",
       "\t<li>1.19323952914349</li>\n",
       "\t<li>0.0648412863106206</li>\n",
       "\t<li>-0.215385425551106</li>\n",
       "\t<li>-0.745339247242319</li>\n",
       "</ol>\n"
      ],
      "text/latex": [
       "\\begin{enumerate*}\n",
       "\\item -0.27155266919364\n",
       "\\item 1.19323952914349\n",
       "\\item 0.0648412863106206\n",
       "\\item -0.215385425551106\n",
       "\\item -0.745339247242319\n",
       "\\end{enumerate*}\n"
      ],
      "text/markdown": [
       "1. -0.27155266919364\n",
       "2. 1.19323952914349\n",
       "3. 0.0648412863106206\n",
       "4. -0.215385425551106\n",
       "5. -0.745339247242319\n",
       "\n",
       "\n"
      ],
      "text/plain": [
       "[1] -0.27155267  1.19323953  0.06484129 -0.21538543 -0.74533925"
      ]
     },
     "metadata": {},
     "output_type": "display_data"
    }
   ],
   "source": [
    "y <- rnorm(x)\n",
    "y"
   ]
  },
  {
   "cell_type": "code",
   "execution_count": 3,
   "metadata": {},
   "outputs": [
    {
     "data": {
      "image/png": "[encoded data removed]",
      "text/plain": [
       "plot without title"
      ]
     },
     "metadata": {},
     "output_type": "display_data"
    }
   ],
   "source": [
    "# Colocando os pontos em um gráfico\n",
    "plot(x, y)"
   ]
  },
  {
   "cell_type": "code",
   "execution_count": 4,
   "metadata": {},
   "outputs": [
    {
     "data": {
      "text/html": [
       "<ol class=list-inline>\n",
       "\t<li>'x'</li>\n",
       "\t<li>'y'</li>\n",
       "</ol>\n"
      ],
      "text/latex": [
       "\\begin{enumerate*}\n",
       "\\item 'x'\n",
       "\\item 'y'\n",
       "\\end{enumerate*}\n"
      ],
      "text/markdown": [
       "1. 'x'\n",
       "2. 'y'\n",
       "\n",
       "\n"
      ],
      "text/plain": [
       "[1] \"x\" \"y\""
      ]
     },
     "metadata": {},
     "output_type": "display_data"
    }
   ],
   "source": [
    "# Verificando os objetos existentes na área de trabalho\n",
    "ls()"
   ]
  },
  {
   "cell_type": "code",
   "execution_count": 5,
   "metadata": {},
   "outputs": [],
   "source": [
    "# removendo objetos que não são mais necessários\n",
    "rm(x, y)"
   ]
  },
  {
   "cell_type": "code",
   "execution_count": 6,
   "metadata": {},
   "outputs": [
    {
     "data": {
      "text/html": [],
      "text/latex": [],
      "text/markdown": [],
      "text/plain": [
       "character(0)"
      ]
     },
     "metadata": {},
     "output_type": "display_data"
    }
   ],
   "source": [
    "# Verificando os objetos existentes na área de trabalho\n",
    "ls()"
   ]
  },
  {
   "cell_type": "code",
   "execution_count": 7,
   "metadata": {},
   "outputs": [
    {
     "data": {
      "text/html": [
       "<ol class=list-inline>\n",
       "\t<li>1</li>\n",
       "\t<li>2</li>\n",
       "\t<li>3</li>\n",
       "\t<li>4</li>\n",
       "\t<li>5</li>\n",
       "\t<li>6</li>\n",
       "\t<li>7</li>\n",
       "\t<li>8</li>\n",
       "\t<li>9</li>\n",
       "\t<li>10</li>\n",
       "\t<li>11</li>\n",
       "\t<li>12</li>\n",
       "\t<li>13</li>\n",
       "\t<li>14</li>\n",
       "\t<li>15</li>\n",
       "\t<li>16</li>\n",
       "\t<li>17</li>\n",
       "\t<li>18</li>\n",
       "\t<li>19</li>\n",
       "\t<li>20</li>\n",
       "</ol>\n"
      ],
      "text/latex": [
       "\\begin{enumerate*}\n",
       "\\item 1\n",
       "\\item 2\n",
       "\\item 3\n",
       "\\item 4\n",
       "\\item 5\n",
       "\\item 6\n",
       "\\item 7\n",
       "\\item 8\n",
       "\\item 9\n",
       "\\item 10\n",
       "\\item 11\n",
       "\\item 12\n",
       "\\item 13\n",
       "\\item 14\n",
       "\\item 15\n",
       "\\item 16\n",
       "\\item 17\n",
       "\\item 18\n",
       "\\item 19\n",
       "\\item 20\n",
       "\\end{enumerate*}\n"
      ],
      "text/markdown": [
       "1. 1\n",
       "2. 2\n",
       "3. 3\n",
       "4. 4\n",
       "5. 5\n",
       "6. 6\n",
       "7. 7\n",
       "8. 8\n",
       "9. 9\n",
       "10. 10\n",
       "11. 11\n",
       "12. 12\n",
       "13. 13\n",
       "14. 14\n",
       "15. 15\n",
       "16. 16\n",
       "17. 17\n",
       "18. 18\n",
       "19. 19\n",
       "20. 20\n",
       "\n",
       "\n"
      ],
      "text/plain": [
       " [1]  1  2  3  4  5  6  7  8  9 10 11 12 13 14 15 16 17 18 19 20"
      ]
     },
     "metadata": {},
     "output_type": "display_data"
    }
   ],
   "source": [
    "# Criando um vetor com uma sequência de números de 1 a 20\n",
    "x <- 1:20\n",
    "x"
   ]
  },
  {
   "cell_type": "code",
   "execution_count": 8,
   "metadata": {},
   "outputs": [
    {
     "data": {
      "text/html": [
       "<ol class=list-inline>\n",
       "\t<li>1,5</li>\n",
       "\t<li>1,70710678118655</li>\n",
       "\t<li>1,86602540378444</li>\n",
       "\t<li>2</li>\n",
       "\t<li>2,11803398874989</li>\n",
       "\t<li>2,22474487139159</li>\n",
       "\t<li>2,3228756555323</li>\n",
       "\t<li>2,41421356237309</li>\n",
       "\t<li>2,5</li>\n",
       "\t<li>2,58113883008419</li>\n",
       "\t<li>2,6583123951777</li>\n",
       "\t<li>2,73205080756888</li>\n",
       "\t<li>2,80277563773199</li>\n",
       "\t<li>2,87082869338697</li>\n",
       "\t<li>2,93649167310371</li>\n",
       "\t<li>3</li>\n",
       "\t<li>3,06155281280883</li>\n",
       "\t<li>3,12132034355964</li>\n",
       "\t<li>3,17944947177034</li>\n",
       "\t<li>3,23606797749979</li>\n",
       "</ol>\n"
      ],
      "text/latex": [
       "\\begin{enumerate*}\n",
       "\\item 1,5\n",
       "\\item 1,70710678118655\n",
       "\\item 1,86602540378444\n",
       "\\item 2\n",
       "\\item 2,11803398874989\n",
       "\\item 2,22474487139159\n",
       "\\item 2,3228756555323\n",
       "\\item 2,41421356237309\n",
       "\\item 2,5\n",
       "\\item 2,58113883008419\n",
       "\\item 2,6583123951777\n",
       "\\item 2,73205080756888\n",
       "\\item 2,80277563773199\n",
       "\\item 2,87082869338697\n",
       "\\item 2,93649167310371\n",
       "\\item 3\n",
       "\\item 3,06155281280883\n",
       "\\item 3,12132034355964\n",
       "\\item 3,17944947177034\n",
       "\\item 3,23606797749979\n",
       "\\end{enumerate*}\n"
      ],
      "text/markdown": [
       "1. 1,5\n",
       "2. 1,70710678118655\n",
       "3. 1,86602540378444\n",
       "4. 2\n",
       "5. 2,11803398874989\n",
       "6. 2,22474487139159\n",
       "7. 2,3228756555323\n",
       "8. 2,41421356237309\n",
       "9. 2,5\n",
       "10. 2,58113883008419\n",
       "11. 2,6583123951777\n",
       "12. 2,73205080756888\n",
       "13. 2,80277563773199\n",
       "14. 2,87082869338697\n",
       "15. 2,93649167310371\n",
       "16. 3\n",
       "17. 3,06155281280883\n",
       "18. 3,12132034355964\n",
       "19. 3,17944947177034\n",
       "20. 3,23606797749979\n",
       "\n",
       "\n"
      ],
      "text/plain": [
       " [1] 1,500000 1,707107 1,866025 2,000000 2,118034 2,224745 2,322876 2,414214\n",
       " [9] 2,500000 2,581139 2,658312 2,732051 2,802776 2,870829 2,936492 3,000000\n",
       "[17] 3,061553 3,121320 3,179449 3,236068"
      ]
     },
     "metadata": {},
     "output_type": "display_data"
    }
   ],
   "source": [
    "# Um vetor de pesos com os desvios padrões de cada observação\n",
    "w <- 1 + sqrt(x) / 2\n",
    "w"
   ]
  },
  {
   "cell_type": "code",
   "execution_count": 9,
   "metadata": {},
   "outputs": [
    {
     "data": {
      "text/html": [
       "<table>\n",
       "<thead><tr><th scope=col>x</th><th scope=col>y</th></tr></thead>\n",
       "<tbody>\n",
       "\t<tr><td> 1        </td><td> 1,3354727</td></tr>\n",
       "\t<tr><td> 2        </td><td> 2,0700112</td></tr>\n",
       "\t<tr><td> 3        </td><td> 0,6078324</td></tr>\n",
       "\t<tr><td> 4        </td><td> 4,0710856</td></tr>\n",
       "\t<tr><td> 5        </td><td> 5,2112037</td></tr>\n",
       "\t<tr><td> 6        </td><td> 7,6718021</td></tr>\n",
       "\t<tr><td> 7        </td><td> 5,0629071</td></tr>\n",
       "\t<tr><td> 8        </td><td> 8,5516959</td></tr>\n",
       "\t<tr><td> 9        </td><td> 8,9845010</td></tr>\n",
       "\t<tr><td>10        </td><td>11,1567387</td></tr>\n",
       "\t<tr><td>11        </td><td>14,1524519</td></tr>\n",
       "\t<tr><td>12        </td><td>22,0281029</td></tr>\n",
       "\t<tr><td>13        </td><td>13,4271974</td></tr>\n",
       "\t<tr><td>14        </td><td>17,0671941</td></tr>\n",
       "\t<tr><td>15        </td><td>16,0470180</td></tr>\n",
       "\t<tr><td>16        </td><td>11,9356401</td></tr>\n",
       "\t<tr><td>17        </td><td>18,1415769</td></tr>\n",
       "\t<tr><td>18        </td><td>20,1435632</td></tr>\n",
       "\t<tr><td>19        </td><td>24,8013330</td></tr>\n",
       "\t<tr><td>20        </td><td>18,4540710</td></tr>\n",
       "</tbody>\n",
       "</table>\n"
      ],
      "text/latex": [
       "\\begin{tabular}{r|ll}\n",
       " x & y\\\\\n",
       "\\hline\n",
       "\t  1         &  1,3354727\\\\\n",
       "\t  2         &  2,0700112\\\\\n",
       "\t  3         &  0,6078324\\\\\n",
       "\t  4         &  4,0710856\\\\\n",
       "\t  5         &  5,2112037\\\\\n",
       "\t  6         &  7,6718021\\\\\n",
       "\t  7         &  5,0629071\\\\\n",
       "\t  8         &  8,5516959\\\\\n",
       "\t  9         &  8,9845010\\\\\n",
       "\t 10         & 11,1567387\\\\\n",
       "\t 11         & 14,1524519\\\\\n",
       "\t 12         & 22,0281029\\\\\n",
       "\t 13         & 13,4271974\\\\\n",
       "\t 14         & 17,0671941\\\\\n",
       "\t 15         & 16,0470180\\\\\n",
       "\t 16         & 11,9356401\\\\\n",
       "\t 17         & 18,1415769\\\\\n",
       "\t 18         & 20,1435632\\\\\n",
       "\t 19         & 24,8013330\\\\\n",
       "\t 20         & 18,4540710\\\\\n",
       "\\end{tabular}\n"
      ],
      "text/markdown": [
       "\n",
       "x | y | \n",
       "|---|---|---|---|---|---|---|---|---|---|---|---|---|---|---|---|---|---|---|---|\n",
       "|  1         |  1,3354727 | \n",
       "|  2         |  2,0700112 | \n",
       "|  3         |  0,6078324 | \n",
       "|  4         |  4,0710856 | \n",
       "|  5         |  5,2112037 | \n",
       "|  6         |  7,6718021 | \n",
       "|  7         |  5,0629071 | \n",
       "|  8         |  8,5516959 | \n",
       "|  9         |  8,9845010 | \n",
       "| 10         | 11,1567387 | \n",
       "| 11         | 14,1524519 | \n",
       "| 12         | 22,0281029 | \n",
       "| 13         | 13,4271974 | \n",
       "| 14         | 17,0671941 | \n",
       "| 15         | 16,0470180 | \n",
       "| 16         | 11,9356401 | \n",
       "| 17         | 18,1415769 | \n",
       "| 18         | 20,1435632 | \n",
       "| 19         | 24,8013330 | \n",
       "| 20         | 18,4540710 | \n",
       "\n",
       "\n"
      ],
      "text/plain": [
       "   x  y         \n",
       "1   1  1,3354727\n",
       "2   2  2,0700112\n",
       "3   3  0,6078324\n",
       "4   4  4,0710856\n",
       "5   5  5,2112037\n",
       "6   6  7,6718021\n",
       "7   7  5,0629071\n",
       "8   8  8,5516959\n",
       "9   9  8,9845010\n",
       "10 10 11,1567387\n",
       "11 11 14,1524519\n",
       "12 12 22,0281029\n",
       "13 13 13,4271974\n",
       "14 14 17,0671941\n",
       "15 15 16,0470180\n",
       "16 16 11,9356401\n",
       "17 17 18,1415769\n",
       "18 18 20,1435632\n",
       "19 19 24,8013330\n",
       "20 20 18,4540710"
      ]
     },
     "metadata": {},
     "output_type": "display_data"
    }
   ],
   "source": [
    "# Montando um 'data-frame' de 2 colunas, x e y\n",
    "dummy <- data.frame(x = x, y = x + rnorm(x) * w)\n",
    "dummy"
   ]
  },
  {
   "cell_type": "code",
   "execution_count": 10,
   "metadata": {},
   "outputs": [
    {
     "name": "stderr",
     "output_type": "stream",
     "text": [
      "Warning message in printCoefmat(coefs, digits = digits, signif.stars = signif.stars, :\n",
      "“NAs introduzidos por coerção”"
     ]
    },
    {
     "data": {
      "text/plain": [
       "\n",
       "Call:\n",
       "lm(formula = y ~ x, data = dummy)\n",
       "\n",
       "Residuals:\n",
       "    Min      1Q  Median      3Q     Max \n",
       "-5,7618 -0,8917 -0,1909  0,6006  8,8044 \n",
       "\n",
       "Coefficients:\n",
       "            Estimate Std. Error t value Pr(>|t|)    \n",
       "(Intercept)  -0,1975     1,3958  -0,141    0,889    \n",
       "x             1,1184     0,1165   9,599 1,67e-08 ***\n",
       "---\n",
       "Signif. codes:  0 ‘***’ 0,001 ‘**’ 0,01 ‘*’ 0,05 ‘.’ 0,1 ‘ ’ 1\n",
       "\n",
       "Residual standard error: 3,005 on 18 degrees of freedom\n",
       "Multiple R-squared:  0,8366,\tAdjusted R-squared:  0,8275 \n",
       "F-statistic: 92,13 on 1 and 18 DF,  p-value: 1,671e-08\n"
      ]
     },
     "metadata": {},
     "output_type": "display_data"
    }
   ],
   "source": [
    "# Regressão linear simples de y em x e examinando os resultados\n",
    "fm <- lm(y ~ x, data = dummy)\n",
    "summary(fm)"
   ]
  },
  {
   "cell_type": "code",
   "execution_count": 11,
   "metadata": {},
   "outputs": [
    {
     "name": "stderr",
     "output_type": "stream",
     "text": [
      "Warning message in printCoefmat(coefs, digits = digits, signif.stars = signif.stars, :\n",
      "“NAs introduzidos por coerção”"
     ]
    },
    {
     "data": {
      "text/plain": [
       "\n",
       "Call:\n",
       "lm(formula = y ~ x, data = dummy, weights = 1/w^2)\n",
       "\n",
       "Weighted Residuals:\n",
       "    Min      1Q  Median      3Q     Max \n",
       "-1,9592 -0,3404 -0,0293  0,4459  3,2120 \n",
       "\n",
       "Coefficients:\n",
       "            Estimate Std. Error t value Pr(>|t|)    \n",
       "(Intercept)  -0,4293     0,9868  -0,435    0,669    \n",
       "x             1,1402     0,1006  11,331 1,26e-09 ***\n",
       "---\n",
       "Signif. codes:  0 ‘***’ 0,001 ‘**’ 0,01 ‘*’ 0,05 ‘.’ 0,1 ‘ ’ 1\n",
       "\n",
       "Residual standard error: 1,091 on 18 degrees of freedom\n",
       "Multiple R-squared:  0,877,\tAdjusted R-squared:  0,8702 \n",
       "F-statistic: 128,4 on 1 and 18 DF,  p-value: 1,264e-09\n"
      ]
     },
     "metadata": {},
     "output_type": "display_data"
    }
   ],
   "source": [
    "# Regressão ponderada\n",
    "fm1 <- lm(y ~ x, data = dummy, weight = 1 / w ^ 2)\n",
    "summary(fm1)"
   ]
  },
  {
   "cell_type": "code",
   "execution_count": 13,
   "metadata": {},
   "outputs": [
    {
     "name": "stderr",
     "output_type": "stream",
     "text": [
      "The following object is masked _by_ .GlobalEnv:\n",
      "\n",
      "    x\n",
      "\n",
      "The following objects are masked from dummy (pos = 3):\n",
      "\n",
      "    x, y\n",
      "\n"
     ]
    }
   ],
   "source": [
    "# Tornando visíveis as colunas do data-frame\n",
    "attach(dummy)"
   ]
  },
  {
   "cell_type": "code",
   "execution_count": 26,
   "metadata": {},
   "outputs": [
    {
     "data": {
      "image/png": "[encoded data removed]",
      "text/plain": [
       "plot without title"
      ]
     },
     "metadata": {},
     "output_type": "display_data"
    }
   ],
   "source": [
    "# Regressão local não-paramétrica, e visualizando o resultado\n",
    "lrf <- lowess(x, y)\n",
    "plot(x, y)\n",
    "lines(lrf)"
   ]
  },
  {
   "cell_type": "code",
   "execution_count": null,
   "metadata": {},
   "outputs": [],
   "source": []
  }
 ],
 "metadata": {
  "kernelspec": {
   "display_name": "R",
   "language": "R",
   "name": "ir"
  },
  "language_info": {
   "codemirror_mode": "r",
   "file_extension": ".r",
   "mimetype": "text/x-r-source",
   "name": "R",
   "pygments_lexer": "r",
   "version": "3.5.0"
  }
 },
 "nbformat": 4,
 "nbformat_minor": 2
}
