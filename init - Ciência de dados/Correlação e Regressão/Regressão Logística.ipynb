{
 "cells": [
  {
   "cell_type": "markdown",
   "metadata": {},
   "source": [
    "# Regressão Logística"
   ]
  },
  {
   "cell_type": "code",
   "execution_count": 1,
   "metadata": {},
   "outputs": [
    {
     "data": {
      "text/html": [
       "<table>\n",
       "<caption>A data.frame: 6 × 3</caption>\n",
       "<thead>\n",
       "\t<tr><th scope=col>CANDIDATO</th><th scope=col>SITUACAO</th><th scope=col>DESPESAS</th></tr>\n",
       "\t<tr><th scope=col>&lt;fct&gt;</th><th scope=col>&lt;int&gt;</th><th scope=col>&lt;int&gt;</th></tr>\n",
       "</thead>\n",
       "<tbody>\n",
       "\t<tr><td>George Turner </td><td>0</td><td>  10</td></tr>\n",
       "\t<tr><td>Victor Johnson</td><td>0</td><td> 100</td></tr>\n",
       "\t<tr><td>Jerry Perry   </td><td>1</td><td>1600</td></tr>\n",
       "\t<tr><td>Shirley Cook  </td><td>1</td><td>1500</td></tr>\n",
       "\t<tr><td>Carolyn Bailey</td><td>1</td><td>3300</td></tr>\n",
       "\t<tr><td>Susan Sanders </td><td>0</td><td> 200</td></tr>\n",
       "</tbody>\n",
       "</table>\n"
      ],
      "text/latex": [
       "A data.frame: 6 × 3\n",
       "\\begin{tabular}{r|lll}\n",
       " CANDIDATO & SITUACAO & DESPESAS\\\\\n",
       " <fct> & <int> & <int>\\\\\n",
       "\\hline\n",
       "\t George Turner  & 0 &   10\\\\\n",
       "\t Victor Johnson & 0 &  100\\\\\n",
       "\t Jerry Perry    & 1 & 1600\\\\\n",
       "\t Shirley Cook   & 1 & 1500\\\\\n",
       "\t Carolyn Bailey & 1 & 3300\\\\\n",
       "\t Susan Sanders  & 0 &  200\\\\\n",
       "\\end{tabular}\n"
      ],
      "text/markdown": [
       "\n",
       "A data.frame: 6 × 3\n",
       "\n",
       "| CANDIDATO &lt;fct&gt; | SITUACAO &lt;int&gt; | DESPESAS &lt;int&gt; |\n",
       "|---|---|---|\n",
       "| George Turner  | 0 |   10 |\n",
       "| Victor Johnson | 0 |  100 |\n",
       "| Jerry Perry    | 1 | 1600 |\n",
       "| Shirley Cook   | 1 | 1500 |\n",
       "| Carolyn Bailey | 1 | 3300 |\n",
       "| Susan Sanders  | 0 |  200 |\n",
       "\n"
      ],
      "text/plain": [
       "  CANDIDATO      SITUACAO DESPESAS\n",
       "1 George Turner  0          10    \n",
       "2 Victor Johnson 0         100    \n",
       "3 Jerry Perry    1        1600    \n",
       "4 Shirley Cook   1        1500    \n",
       "5 Carolyn Bailey 1        3300    \n",
       "6 Susan Sanders  0         200    "
      ]
     },
     "metadata": {},
     "output_type": "display_data"
    }
   ],
   "source": [
    "eleicao <- read.csv(\"dados/Eleicao.csv\", sep = \";\", header = TRUE)\n",
    "head(eleicao)"
   ]
  },
  {
   "cell_type": "code",
   "execution_count": 2,
   "metadata": {},
   "outputs": [
    {
     "data": {
      "image/png": "[encoded data removed]",
      "text/plain": [
       "plot without title"
      ]
     },
     "metadata": {},
     "output_type": "display_data"
    }
   ],
   "source": [
    "plot(eleicao$DESPESAS, eleicao$SITUACAO)"
   ]
  },
  {
   "cell_type": "code",
   "execution_count": 3,
   "metadata": {},
   "outputs": [
    {
     "data": {
      "text/plain": [
       "             CANDIDATO     SITUACAO         DESPESAS   \n",
       "  Gary Peterson   : 1   Min.   :0.0000   Min.   :  10  \n",
       "  Pamela Bryant   : 1   1st Qu.:0.0000   1st Qu.: 300  \n",
       " Andrea Washington: 1   Median :1.0000   Median : 800  \n",
       " Annie Brooks     : 1   Mean   :0.5106   Mean   :1086  \n",
       " Anthony Harris   : 1   3rd Qu.:1.0000   3rd Qu.:1700  \n",
       " Barbara White    : 1   Max.   :1.0000   Max.   :3300  \n",
       " (Other)          :41                                  "
      ]
     },
     "metadata": {},
     "output_type": "display_data"
    }
   ],
   "source": [
    "summary(eleicao)"
   ]
  },
  {
   "cell_type": "markdown",
   "metadata": {},
   "source": [
    "### Correlação"
   ]
  },
  {
   "cell_type": "code",
   "execution_count": 4,
   "metadata": {},
   "outputs": [
    {
     "data": {
      "text/html": [
       "0.812187165576407"
      ],
      "text/latex": [
       "0.812187165576407"
      ],
      "text/markdown": [
       "0.812187165576407"
      ],
      "text/plain": [
       "[1] 0.8121872"
      ]
     },
     "metadata": {},
     "output_type": "display_data"
    }
   ],
   "source": [
    "cor(eleicao$DESPESAS, eleicao$SITUACAO)"
   ]
  },
  {
   "cell_type": "markdown",
   "metadata": {},
   "source": [
    "### Modelo de regressão logística"
   ]
  },
  {
   "cell_type": "code",
   "execution_count": 5,
   "metadata": {},
   "outputs": [
    {
     "data": {
      "text/plain": [
       "\n",
       "Call:  glm(formula = SITUACAO ~ DESPESAS, family = \"binomial\", data = eleicao)\n",
       "\n",
       "Coefficients:\n",
       "(Intercept)     DESPESAS  \n",
       "  -4.602880     0.004984  \n",
       "\n",
       "Degrees of Freedom: 46 Total (i.e. Null);  45 Residual\n",
       "Null Deviance:\t    65.13 \n",
       "Residual Deviance: 18.54 \tAIC: 22.54"
      ]
     },
     "metadata": {},
     "output_type": "display_data"
    }
   ],
   "source": [
    "modelo <- glm(SITUACAO ~ DESPESAS, data = eleicao, family = \"binomial\")\n",
    "modelo"
   ]
  },
  {
   "cell_type": "code",
   "execution_count": 6,
   "metadata": {},
   "outputs": [
    {
     "data": {
      "text/plain": [
       "\n",
       "Call:\n",
       "glm(formula = SITUACAO ~ DESPESAS, family = \"binomial\", data = eleicao)\n",
       "\n",
       "Deviance Residuals: \n",
       "     Min        1Q    Median        3Q       Max  \n",
       "-1.79020  -0.29574   0.00379   0.20326   2.10968  \n",
       "\n",
       "Coefficients:\n",
       "             Estimate Std. Error z value Pr(>|z|)    \n",
       "(Intercept) -4.602880   1.315934  -3.498 0.000469 ***\n",
       "DESPESAS     0.004984   0.001404   3.550 0.000385 ***\n",
       "---\n",
       "Signif. codes:  0 ‘***’ 0.001 ‘**’ 0.01 ‘*’ 0.05 ‘.’ 0.1 ‘ ’ 1\n",
       "\n",
       "(Dispersion parameter for binomial family taken to be 1)\n",
       "\n",
       "    Null deviance: 65.135  on 46  degrees of freedom\n",
       "Residual deviance: 18.540  on 45  degrees of freedom\n",
       "AIC: 22.54\n",
       "\n",
       "Number of Fisher Scoring iterations: 7\n"
      ]
     },
     "metadata": {},
     "output_type": "display_data"
    }
   ],
   "source": [
    "summary(modelo)"
   ]
  },
  {
   "cell_type": "markdown",
   "metadata": {},
   "source": [
    "### Visualizando os dados e o ajuste do modelo"
   ]
  },
  {
   "cell_type": "code",
   "execution_count": 8,
   "metadata": {},
   "outputs": [
    {
     "data": {
      "image/png": "[encoded data removed]",
      "text/plain": [
       "plot without title"
      ]
     },
     "metadata": {},
     "output_type": "display_data"
    }
   ],
   "source": [
    "plot(eleicao$DESPESAS, eleicao$SITUACAO, col = \"blue\", pch = 20)\n",
    "points(eleicao$DESPESAS, modelo$fitted, pch = 5)"
   ]
  },
  {
   "cell_type": "markdown",
   "metadata": {},
   "source": [
    "### Prevendo a probabilidade dos novos candidatos serem eleitos"
   ]
  },
  {
   "cell_type": "code",
   "execution_count": 10,
   "metadata": {},
   "outputs": [
    {
     "data": {
      "text/html": [
       "<table>\n",
       "<caption>A data.frame: 7 × 2</caption>\n",
       "<thead>\n",
       "\t<tr><th scope=col>CANDIDATO</th><th scope=col>DESPESAS</th></tr>\n",
       "\t<tr><th scope=col>&lt;fct&gt;</th><th scope=col>&lt;int&gt;</th></tr>\n",
       "</thead>\n",
       "<tbody>\n",
       "\t<tr><td>A</td><td>   0</td></tr>\n",
       "\t<tr><td>B</td><td>  10</td></tr>\n",
       "\t<tr><td>C</td><td> 200</td></tr>\n",
       "\t<tr><td>D</td><td> 500</td></tr>\n",
       "\t<tr><td>E</td><td> 900</td></tr>\n",
       "\t<tr><td>F</td><td>1500</td></tr>\n",
       "\t<tr><td>G</td><td>3000</td></tr>\n",
       "</tbody>\n",
       "</table>\n"
      ],
      "text/latex": [
       "A data.frame: 7 × 2\n",
       "\\begin{tabular}{r|ll}\n",
       " CANDIDATO & DESPESAS\\\\\n",
       " <fct> & <int>\\\\\n",
       "\\hline\n",
       "\t A &    0\\\\\n",
       "\t B &   10\\\\\n",
       "\t C &  200\\\\\n",
       "\t D &  500\\\\\n",
       "\t E &  900\\\\\n",
       "\t F & 1500\\\\\n",
       "\t G & 3000\\\\\n",
       "\\end{tabular}\n"
      ],
      "text/markdown": [
       "\n",
       "A data.frame: 7 × 2\n",
       "\n",
       "| CANDIDATO &lt;fct&gt; | DESPESAS &lt;int&gt; |\n",
       "|---|---|\n",
       "| A |    0 |\n",
       "| B |   10 |\n",
       "| C |  200 |\n",
       "| D |  500 |\n",
       "| E |  900 |\n",
       "| F | 1500 |\n",
       "| G | 3000 |\n",
       "\n"
      ],
      "text/plain": [
       "  CANDIDATO DESPESAS\n",
       "1 A            0    \n",
       "2 B           10    \n",
       "3 C          200    \n",
       "4 D          500    \n",
       "5 E          900    \n",
       "6 F         1500    \n",
       "7 G         3000    "
      ]
     },
     "metadata": {},
     "output_type": "display_data"
    }
   ],
   "source": [
    "novaEleicao <- read.csv(\"dados/NovosCandidatos.csv\", sep = \";\", header = T)\n",
    "novaEleicao"
   ]
  },
  {
   "cell_type": "code",
   "execution_count": 11,
   "metadata": {},
   "outputs": [
    {
     "data": {
      "text/html": [
       "<table>\n",
       "<caption>A data.frame: 7 × 3</caption>\n",
       "<thead>\n",
       "\t<tr><th scope=col>CANDIDATO</th><th scope=col>DESPESAS</th><th scope=col>RESULTADO</th></tr>\n",
       "\t<tr><th scope=col>&lt;fct&gt;</th><th scope=col>&lt;int&gt;</th><th scope=col>&lt;dbl&gt;</th></tr>\n",
       "</thead>\n",
       "<tbody>\n",
       "\t<tr><td>A</td><td>   0</td><td>0.009923466</td></tr>\n",
       "\t<tr><td>B</td><td>  10</td><td>0.010425261</td></tr>\n",
       "\t<tr><td>C</td><td> 200</td><td>0.026438255</td></tr>\n",
       "\t<tr><td>D</td><td> 500</td><td>0.108027149</td></tr>\n",
       "\t<tr><td>E</td><td> 900</td><td>0.470635921</td></tr>\n",
       "\t<tr><td>F</td><td>1500</td><td>0.946475247</td></tr>\n",
       "\t<tr><td>G</td><td>3000</td><td>0.999967947</td></tr>\n",
       "</tbody>\n",
       "</table>\n"
      ],
      "text/latex": [
       "A data.frame: 7 × 3\n",
       "\\begin{tabular}{r|lll}\n",
       " CANDIDATO & DESPESAS & RESULTADO\\\\\n",
       " <fct> & <int> & <dbl>\\\\\n",
       "\\hline\n",
       "\t A &    0 & 0.009923466\\\\\n",
       "\t B &   10 & 0.010425261\\\\\n",
       "\t C &  200 & 0.026438255\\\\\n",
       "\t D &  500 & 0.108027149\\\\\n",
       "\t E &  900 & 0.470635921\\\\\n",
       "\t F & 1500 & 0.946475247\\\\\n",
       "\t G & 3000 & 0.999967947\\\\\n",
       "\\end{tabular}\n"
      ],
      "text/markdown": [
       "\n",
       "A data.frame: 7 × 3\n",
       "\n",
       "| CANDIDATO &lt;fct&gt; | DESPESAS &lt;int&gt; | RESULTADO &lt;dbl&gt; |\n",
       "|---|---|---|\n",
       "| A |    0 | 0.009923466 |\n",
       "| B |   10 | 0.010425261 |\n",
       "| C |  200 | 0.026438255 |\n",
       "| D |  500 | 0.108027149 |\n",
       "| E |  900 | 0.470635921 |\n",
       "| F | 1500 | 0.946475247 |\n",
       "| G | 3000 | 0.999967947 |\n",
       "\n"
      ],
      "text/plain": [
       "  CANDIDATO DESPESAS RESULTADO  \n",
       "1 A            0     0.009923466\n",
       "2 B           10     0.010425261\n",
       "3 C          200     0.026438255\n",
       "4 D          500     0.108027149\n",
       "5 E          900     0.470635921\n",
       "6 F         1500     0.946475247\n",
       "7 G         3000     0.999967947"
      ]
     },
     "metadata": {},
     "output_type": "display_data"
    }
   ],
   "source": [
    "novaEleicao$RESULTADO <- predict(modelo, newdata = novaEleicao, type = \"response\")\n",
    "novaEleicao"
   ]
  },
  {
   "cell_type": "code",
   "execution_count": null,
   "metadata": {},
   "outputs": [],
   "source": []
  }
 ],
 "metadata": {
  "kernelspec": {
   "display_name": "R",
   "language": "R",
   "name": "ir"
  },
  "language_info": {
   "codemirror_mode": "r",
   "file_extension": ".r",
   "mimetype": "text/x-r-source",
   "name": "R",
   "pygments_lexer": "r",
   "version": "3.6.1"
  }
 },
 "nbformat": 4,
 "nbformat_minor": 2
}
