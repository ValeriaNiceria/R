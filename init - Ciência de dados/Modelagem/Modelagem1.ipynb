{
 "cells": [
  {
   "cell_type": "markdown",
   "metadata": {},
   "source": [
    "# Modelagem"
   ]
  },
  {
   "cell_type": "markdown",
   "metadata": {},
   "source": [
    "## Aprendizado Estatístico"
   ]
  },
  {
   "cell_type": "markdown",
   "metadata": {},
   "source": [
    "- **Aprendizado supervisionado:** Envolve a construção de um modelo estatístico para prever ou estimar uma *resposta* de acordo com uma ou mais informações de entrada.\n",
    "- **Aprendizado não-supervisionado:** Existem variáveis de entrada mas não existe uma variável resposta.\n",
    "\n",
    "### O objetivo é entender a estrutura e a relação entre as variáveis."
   ]
  },
  {
   "cell_type": "markdown",
   "metadata": {},
   "source": [
    "## Aprendizado Supervisionado\n",
    "\n",
    "- Em aprendizado supervisionado é necessário em primeiro lugar definir qual é a sua variável resposta ou variável dependente (Frequentemente chamada de **Y**)"
   ]
  },
  {
   "cell_type": "markdown",
   "metadata": {},
   "source": [
    "### Exemplos de algoritmos:\n",
    "- Regressão linear\n",
    "- Regressão logística\n",
    "- Árvore de decisão\n",
    "- Florestas aleatórias (Random Forest)\n",
    "- Gradient Boosting\n",
    "- Redes neurais\n",
    "- Etc..."
   ]
  },
  {
   "cell_type": "markdown",
   "metadata": {},
   "source": [
    "### Exemplo: Regressão Linear\n",
    "- Utilizando como dados o *percentual de gordura corporal*"
   ]
  },
  {
   "cell_type": "code",
   "execution_count": 17,
   "metadata": {},
   "outputs": [],
   "source": [
    "# Carregando os pacotes\n",
    "library(readxl)\n",
    "library(dplyr)\n",
    "library(ggplot2)"
   ]
  },
  {
   "cell_type": "code",
   "execution_count": 2,
   "metadata": {},
   "outputs": [],
   "source": [
    "# Carregando o banco de dados\n",
    "bodyfat <- read_excel('dados/BodyFat.xls')"
   ]
  },
  {
   "cell_type": "code",
   "execution_count": 3,
   "metadata": {},
   "outputs": [
    {
     "data": {
      "text/html": [
       "<table>\n",
       "<thead><tr><th scope=col>IDNO</th><th scope=col>BODYFAT</th><th scope=col>DENSITY</th><th scope=col>AGE</th><th scope=col>WEIGHT</th><th scope=col>HEIGHT</th><th scope=col>ADIPOSITY</th><th scope=col>NECK</th><th scope=col>CHEST</th><th scope=col>ABDOMEN</th><th scope=col>HIP</th><th scope=col>THIGH</th><th scope=col>KNEE</th><th scope=col>ANKLE</th><th scope=col>BICEPS</th><th scope=col>FOREARM</th><th scope=col>WRIST</th></tr></thead>\n",
       "<tbody>\n",
       "\t<tr><td>1     </td><td>12.6  </td><td>1.0708</td><td>23    </td><td>154.25</td><td>67.75 </td><td>23.7  </td><td>36.2  </td><td> 93.1 </td><td> 85.2 </td><td> 94.5 </td><td>59.0  </td><td>37.3  </td><td>21.9  </td><td>32.0  </td><td>27.4  </td><td>17.1  </td></tr>\n",
       "\t<tr><td>2     </td><td> 6.9  </td><td>1.0853</td><td>22    </td><td>173.25</td><td>72.25 </td><td>23.4  </td><td>38.5  </td><td> 93.6 </td><td> 83.0 </td><td> 98.7 </td><td>58.7  </td><td>37.3  </td><td>23.4  </td><td>30.5  </td><td>28.9  </td><td>18.2  </td></tr>\n",
       "\t<tr><td>3     </td><td>24.6  </td><td>1.0414</td><td>22    </td><td>154.00</td><td>66.25 </td><td>24.7  </td><td>34.0  </td><td> 95.8 </td><td> 87.9 </td><td> 99.2 </td><td>59.6  </td><td>38.9  </td><td>24.0  </td><td>28.8  </td><td>25.2  </td><td>16.6  </td></tr>\n",
       "\t<tr><td>4     </td><td>10.9  </td><td>1.0751</td><td>26    </td><td>184.75</td><td>72.25 </td><td>24.9  </td><td>37.4  </td><td>101.8 </td><td> 86.4 </td><td>101.2 </td><td>60.1  </td><td>37.3  </td><td>22.8  </td><td>32.4  </td><td>29.4  </td><td>18.2  </td></tr>\n",
       "\t<tr><td>5     </td><td>27.8  </td><td>1.0340</td><td>24    </td><td>184.25</td><td>71.25 </td><td>25.6  </td><td>34.4  </td><td> 97.3 </td><td>100.0 </td><td>101.9 </td><td>63.2  </td><td>42.2  </td><td>24.0  </td><td>32.2  </td><td>27.7  </td><td>17.7  </td></tr>\n",
       "\t<tr><td>6     </td><td>20.6  </td><td>1.0502</td><td>24    </td><td>210.25</td><td>74.75 </td><td>26.5  </td><td>39.0  </td><td>104.5 </td><td> 94.4 </td><td>107.8 </td><td>66.0  </td><td>42.0  </td><td>25.6  </td><td>35.7  </td><td>30.6  </td><td>18.8  </td></tr>\n",
       "</tbody>\n",
       "</table>\n"
      ],
      "text/latex": [
       "\\begin{tabular}{r|lllllllllllllllll}\n",
       " IDNO & BODYFAT & DENSITY & AGE & WEIGHT & HEIGHT & ADIPOSITY & NECK & CHEST & ABDOMEN & HIP & THIGH & KNEE & ANKLE & BICEPS & FOREARM & WRIST\\\\\n",
       "\\hline\n",
       "\t 1      & 12.6   & 1.0708 & 23     & 154.25 & 67.75  & 23.7   & 36.2   &  93.1  &  85.2  &  94.5  & 59.0   & 37.3   & 21.9   & 32.0   & 27.4   & 17.1  \\\\\n",
       "\t 2      &  6.9   & 1.0853 & 22     & 173.25 & 72.25  & 23.4   & 38.5   &  93.6  &  83.0  &  98.7  & 58.7   & 37.3   & 23.4   & 30.5   & 28.9   & 18.2  \\\\\n",
       "\t 3      & 24.6   & 1.0414 & 22     & 154.00 & 66.25  & 24.7   & 34.0   &  95.8  &  87.9  &  99.2  & 59.6   & 38.9   & 24.0   & 28.8   & 25.2   & 16.6  \\\\\n",
       "\t 4      & 10.9   & 1.0751 & 26     & 184.75 & 72.25  & 24.9   & 37.4   & 101.8  &  86.4  & 101.2  & 60.1   & 37.3   & 22.8   & 32.4   & 29.4   & 18.2  \\\\\n",
       "\t 5      & 27.8   & 1.0340 & 24     & 184.25 & 71.25  & 25.6   & 34.4   &  97.3  & 100.0  & 101.9  & 63.2   & 42.2   & 24.0   & 32.2   & 27.7   & 17.7  \\\\\n",
       "\t 6      & 20.6   & 1.0502 & 24     & 210.25 & 74.75  & 26.5   & 39.0   & 104.5  &  94.4  & 107.8  & 66.0   & 42.0   & 25.6   & 35.7   & 30.6   & 18.8  \\\\\n",
       "\\end{tabular}\n"
      ],
      "text/markdown": [
       "\n",
       "| IDNO | BODYFAT | DENSITY | AGE | WEIGHT | HEIGHT | ADIPOSITY | NECK | CHEST | ABDOMEN | HIP | THIGH | KNEE | ANKLE | BICEPS | FOREARM | WRIST |\n",
       "|---|---|---|---|---|---|---|---|---|---|---|---|---|---|---|---|---|\n",
       "| 1      | 12.6   | 1.0708 | 23     | 154.25 | 67.75  | 23.7   | 36.2   |  93.1  |  85.2  |  94.5  | 59.0   | 37.3   | 21.9   | 32.0   | 27.4   | 17.1   |\n",
       "| 2      |  6.9   | 1.0853 | 22     | 173.25 | 72.25  | 23.4   | 38.5   |  93.6  |  83.0  |  98.7  | 58.7   | 37.3   | 23.4   | 30.5   | 28.9   | 18.2   |\n",
       "| 3      | 24.6   | 1.0414 | 22     | 154.00 | 66.25  | 24.7   | 34.0   |  95.8  |  87.9  |  99.2  | 59.6   | 38.9   | 24.0   | 28.8   | 25.2   | 16.6   |\n",
       "| 4      | 10.9   | 1.0751 | 26     | 184.75 | 72.25  | 24.9   | 37.4   | 101.8  |  86.4  | 101.2  | 60.1   | 37.3   | 22.8   | 32.4   | 29.4   | 18.2   |\n",
       "| 5      | 27.8   | 1.0340 | 24     | 184.25 | 71.25  | 25.6   | 34.4   |  97.3  | 100.0  | 101.9  | 63.2   | 42.2   | 24.0   | 32.2   | 27.7   | 17.7   |\n",
       "| 6      | 20.6   | 1.0502 | 24     | 210.25 | 74.75  | 26.5   | 39.0   | 104.5  |  94.4  | 107.8  | 66.0   | 42.0   | 25.6   | 35.7   | 30.6   | 18.8   |\n",
       "\n"
      ],
      "text/plain": [
       "  IDNO BODYFAT DENSITY AGE WEIGHT HEIGHT ADIPOSITY NECK CHEST ABDOMEN HIP  \n",
       "1 1    12.6    1.0708  23  154.25 67.75  23.7      36.2  93.1  85.2    94.5\n",
       "2 2     6.9    1.0853  22  173.25 72.25  23.4      38.5  93.6  83.0    98.7\n",
       "3 3    24.6    1.0414  22  154.00 66.25  24.7      34.0  95.8  87.9    99.2\n",
       "4 4    10.9    1.0751  26  184.75 72.25  24.9      37.4 101.8  86.4   101.2\n",
       "5 5    27.8    1.0340  24  184.25 71.25  25.6      34.4  97.3 100.0   101.9\n",
       "6 6    20.6    1.0502  24  210.25 74.75  26.5      39.0 104.5  94.4   107.8\n",
       "  THIGH KNEE ANKLE BICEPS FOREARM WRIST\n",
       "1 59.0  37.3 21.9  32.0   27.4    17.1 \n",
       "2 58.7  37.3 23.4  30.5   28.9    18.2 \n",
       "3 59.6  38.9 24.0  28.8   25.2    16.6 \n",
       "4 60.1  37.3 22.8  32.4   29.4    18.2 \n",
       "5 63.2  42.2 24.0  32.2   27.7    17.7 \n",
       "6 66.0  42.0 25.6  35.7   30.6    18.8 "
      ]
     },
     "metadata": {},
     "output_type": "display_data"
    }
   ],
   "source": [
    "head(bodyfat)"
   ]
  },
  {
   "cell_type": "code",
   "execution_count": 4,
   "metadata": {},
   "outputs": [
    {
     "data": {
      "image/png": "[encoded data removed]",
      "text/plain": [
       "plot without title"
      ]
     },
     "metadata": {},
     "output_type": "display_data"
    }
   ],
   "source": [
    "# Gráfico de dispersão\n",
    "ggplot(bodyfat, aes(x = WEIGHT, y = BODYFAT)) + geom_point()"
   ]
  },
  {
   "cell_type": "code",
   "execution_count": 5,
   "metadata": {},
   "outputs": [],
   "source": [
    "# Ajustando o modelo\n",
    "ajuste <- lm(BODYFAT ~ WEIGHT, data = bodyfat)"
   ]
  },
  {
   "cell_type": "code",
   "execution_count": 6,
   "metadata": {},
   "outputs": [
    {
     "data": {
      "text/plain": [
       "\n",
       "Call:\n",
       "lm(formula = BODYFAT ~ WEIGHT, data = bodyfat)\n",
       "\n",
       "Residuals:\n",
       "    Min      1Q  Median      3Q     Max \n",
       "-16.434  -4.315   0.079   4.540  19.681 \n",
       "\n",
       "Coefficients:\n",
       "            Estimate Std. Error t value Pr(>|t|)    \n",
       "(Intercept) -9.99515    2.38906  -4.184 3.97e-05 ***\n",
       "WEIGHT       0.16171    0.01318  12.273  < 2e-16 ***\n",
       "---\n",
       "Signif. codes:  0 '***' 0.001 '**' 0.01 '*' 0.05 '.' 0.1 ' ' 1\n",
       "\n",
       "Residual standard error: 6.135 on 250 degrees of freedom\n",
       "Multiple R-squared:  0.376,\tAdjusted R-squared:  0.3735 \n",
       "F-statistic: 150.6 on 1 and 250 DF,  p-value: < 2.2e-16\n"
      ]
     },
     "metadata": {},
     "output_type": "display_data"
    }
   ],
   "source": [
    "summary(ajuste)"
   ]
  },
  {
   "cell_type": "code",
   "execution_count": 7,
   "metadata": {},
   "outputs": [
    {
     "name": "stdout",
     "output_type": "stream",
     "text": [
      "List of 12\n",
      " $ coefficients : Named num [1:2] -9.995 0.162\n",
      "  ..- attr(*, \"names\")= chr [1:2] \"(Intercept)\" \"WEIGHT\"\n",
      " $ residuals    : Named num [1:252] -2.35 -11.12 9.69 -8.98 8 ...\n",
      "  ..- attr(*, \"names\")= chr [1:252] \"1\" \"2\" \"3\" \"4\" ...\n",
      " $ effects      : Named num [1:252] -300.64 75.29 10.38 -9.01 7.98 ...\n",
      "  ..- attr(*, \"names\")= chr [1:252] \"(Intercept)\" \"WEIGHT\" \"\" \"\" ...\n",
      " $ rank         : int 2\n",
      " $ fitted.values: Named num [1:252] 14.9 18 14.9 19.9 19.8 ...\n",
      "  ..- attr(*, \"names\")= chr [1:252] \"1\" \"2\" \"3\" \"4\" ...\n",
      " $ assign       : int [1:2] 0 1\n",
      " $ qr           :List of 5\n",
      "  ..- attr(*, \"class\")= chr \"qr\"\n",
      " $ df.residual  : int 250\n",
      " $ xlevels      : Named list()\n",
      " $ call         : language lm(formula = BODYFAT ~ WEIGHT, data = bodyfat)\n",
      " $ terms        :Classes 'terms', 'formula'  language BODYFAT ~ WEIGHT\n",
      "  .. ..- attr(*, \"variables\")= language list(BODYFAT, WEIGHT)\n",
      "  .. ..- attr(*, \"factors\")= int [1:2, 1] 0 1\n",
      "  .. .. ..- attr(*, \"dimnames\")=List of 2\n",
      "  .. ..- attr(*, \"term.labels\")= chr \"WEIGHT\"\n",
      "  .. ..- attr(*, \"order\")= int 1\n",
      "  .. ..- attr(*, \"intercept\")= int 1\n",
      "  .. ..- attr(*, \"response\")= int 1\n",
      "  .. ..- attr(*, \".Environment\")=<environment: R_GlobalEnv> \n",
      "  .. ..- attr(*, \"predvars\")= language list(BODYFAT, WEIGHT)\n",
      "  .. ..- attr(*, \"dataClasses\")= Named chr [1:2] \"numeric\" \"numeric\"\n",
      "  .. .. ..- attr(*, \"names\")= chr [1:2] \"BODYFAT\" \"WEIGHT\"\n",
      " $ model        :'data.frame':\t252 obs. of  2 variables:\n",
      "  ..- attr(*, \"terms\")=Classes 'terms', 'formula'  language BODYFAT ~ WEIGHT\n",
      "  .. .. ..- attr(*, \"variables\")= language list(BODYFAT, WEIGHT)\n",
      "  .. .. ..- attr(*, \"factors\")= int [1:2, 1] 0 1\n",
      "  .. .. .. ..- attr(*, \"dimnames\")=List of 2\n",
      "  .. .. ..- attr(*, \"term.labels\")= chr \"WEIGHT\"\n",
      "  .. .. ..- attr(*, \"order\")= int 1\n",
      "  .. .. ..- attr(*, \"intercept\")= int 1\n",
      "  .. .. ..- attr(*, \"response\")= int 1\n",
      "  .. .. ..- attr(*, \".Environment\")=<environment: R_GlobalEnv> \n",
      "  .. .. ..- attr(*, \"predvars\")= language list(BODYFAT, WEIGHT)\n",
      "  .. .. ..- attr(*, \"dataClasses\")= Named chr [1:2] \"numeric\" \"numeric\"\n",
      "  .. .. .. ..- attr(*, \"names\")= chr [1:2] \"BODYFAT\" \"WEIGHT\"\n",
      " - attr(*, \"class\")= chr \"lm\"\n"
     ]
    }
   ],
   "source": [
    "str(ajuste, max.level = 1)"
   ]
  },
  {
   "cell_type": "code",
   "execution_count": 8,
   "metadata": {},
   "outputs": [
    {
     "data": {
      "text/html": [
       "<dl class=dl-horizontal>\n",
       "\t<dt>(Intercept)</dt>\n",
       "\t\t<dd>-9.99515097421735</dd>\n",
       "\t<dt>WEIGHT</dt>\n",
       "\t\t<dd>0.161708756702092</dd>\n",
       "</dl>\n"
      ],
      "text/latex": [
       "\\begin{description*}\n",
       "\\item[(Intercept)] -9.99515097421735\n",
       "\\item[WEIGHT] 0.161708756702092\n",
       "\\end{description*}\n"
      ],
      "text/markdown": [
       "(Intercept)\n",
       ":   -9.99515097421735WEIGHT\n",
       ":   0.161708756702092\n",
       "\n"
      ],
      "text/plain": [
       "(Intercept)      WEIGHT \n",
       " -9.9951510   0.1617088 "
      ]
     },
     "metadata": {},
     "output_type": "display_data"
    }
   ],
   "source": [
    "# Acessando os coeficientes do modelo\n",
    "ajuste$coefficients"
   ]
  },
  {
   "cell_type": "code",
   "execution_count": 9,
   "metadata": {},
   "outputs": [
    {
     "data": {
      "text/plain": [
       "\n",
       "\n",
       "| WEIGHT| BODYFAT| predito_modelo1|\n",
       "|------:|-------:|---------------:|\n",
       "| 154.25|    12.6|        14.94842|\n",
       "| 173.25|     6.9|        18.02089|\n",
       "| 154.00|    24.6|        14.90800|\n",
       "| 184.75|    10.9|        19.88054|\n",
       "| 184.25|    27.8|        19.79969|\n",
       "| 210.25|    20.6|        24.00412|"
      ]
     },
     "metadata": {},
     "output_type": "display_data"
    }
   ],
   "source": [
    "bodyfat$predito_modelo1 <- predict(ajuste, newdata = bodyfat)\n",
    "bodyfat  %>% select(WEIGHT, BODYFAT, predito_modelo1)  %>% head()  %>% knitr::kable()"
   ]
  },
  {
   "cell_type": "code",
   "execution_count": 10,
   "metadata": {},
   "outputs": [
    {
     "data": {
      "text/html": [
       "37.3408860081708"
      ],
      "text/latex": [
       "37.3408860081708"
      ],
      "text/markdown": [
       "37.3408860081708"
      ],
      "text/plain": [
       "[1] 37.34089"
      ]
     },
     "metadata": {},
     "output_type": "display_data"
    }
   ],
   "source": [
    "# Calculando o erro quadrático médio do modelo\n",
    "mse <- mean((bodyfat$BODYFAT - bodyfat$predito_modelo1)^2)\n",
    "mse"
   ]
  },
  {
   "cell_type": "code",
   "execution_count": 11,
   "metadata": {},
   "outputs": [
    {
     "data": {
      "text/html": [
       "59.8373675673973"
      ],
      "text/latex": [
       "59.8373675673973"
      ],
      "text/markdown": [
       "59.8373675673973"
      ],
      "text/plain": [
       "[1] 59.83737"
      ]
     },
     "metadata": {},
     "output_type": "display_data"
    }
   ],
   "source": [
    "# Identificando se o erro é baixo ou não\n",
    "erro_usando_media <- mean((bodyfat$BODYFAT - mean(bodyfat$BODYFAT))^2)\n",
    "erro_usando_media"
   ]
  },
  {
   "cell_type": "code",
   "execution_count": 12,
   "metadata": {},
   "outputs": [
    {
     "name": "stdout",
     "output_type": "stream",
     "text": [
      "[1] 6.110719\n",
      "[1] 7.735462\n"
     ]
    }
   ],
   "source": [
    "print(sqrt(mse))\n",
    "print(sqrt(erro_usando_media))"
   ]
  },
  {
   "cell_type": "code",
   "execution_count": 13,
   "metadata": {},
   "outputs": [],
   "source": [
    "# Melhorando o modelo adicionando mais variáveis\n",
    "ajuste2 <- lm(BODYFAT ~ WEIGHT + HEIGHT + CHEST + ABDOMEN + NECK + KNEE, data = bodyfat)"
   ]
  },
  {
   "cell_type": "code",
   "execution_count": 14,
   "metadata": {},
   "outputs": [
    {
     "data": {
      "text/plain": [
       "\n",
       "Call:\n",
       "lm(formula = BODYFAT ~ WEIGHT + HEIGHT + CHEST + ABDOMEN + NECK + \n",
       "    KNEE, data = bodyfat)\n",
       "\n",
       "Residuals:\n",
       "    Min      1Q  Median      3Q     Max \n",
       "-10.898  -3.050  -0.097   2.870  10.216 \n",
       "\n",
       "Coefficients:\n",
       "             Estimate Std. Error t value Pr(>|t|)    \n",
       "(Intercept) -26.33580   10.92726  -2.410  0.01669 *  \n",
       "WEIGHT       -0.10530    0.03266  -3.224  0.00144 ** \n",
       "HEIGHT       -0.11242    0.08275  -1.358  0.17557    \n",
       "CHEST         0.01840    0.08792   0.209  0.83439    \n",
       "ABDOMEN       0.88199    0.06806  12.959  < 2e-16 ***\n",
       "NECK         -0.39079    0.19561  -1.998  0.04684 *  \n",
       "KNEE          0.08702    0.21077   0.413  0.68006    \n",
       "---\n",
       "Signif. codes:  0 '***' 0.001 '**' 0.01 '*' 0.05 '.' 0.1 ' ' 1\n",
       "\n",
       "Residual standard error: 4.107 on 245 degrees of freedom\n",
       "Multiple R-squared:  0.726,\tAdjusted R-squared:  0.7192 \n",
       "F-statistic: 108.2 on 6 and 245 DF,  p-value: < 2.2e-16\n"
      ]
     },
     "metadata": {},
     "output_type": "display_data"
    }
   ],
   "source": [
    "summary(ajuste2)"
   ]
  },
  {
   "cell_type": "code",
   "execution_count": 15,
   "metadata": {},
   "outputs": [
    {
     "data": {
      "text/html": [
       "<dl class=dl-horizontal>\n",
       "\t<dt>(Intercept)</dt>\n",
       "\t\t<dd>-26.3357966003562</dd>\n",
       "\t<dt>WEIGHT</dt>\n",
       "\t\t<dd>-0.105295168560593</dd>\n",
       "\t<dt>HEIGHT</dt>\n",
       "\t\t<dd>-0.112416987302196</dd>\n",
       "\t<dt>CHEST</dt>\n",
       "\t\t<dd>0.0184005997653293</dd>\n",
       "\t<dt>ABDOMEN</dt>\n",
       "\t\t<dd>0.881991044224811</dd>\n",
       "\t<dt>NECK</dt>\n",
       "\t\t<dd>-0.390787014320349</dd>\n",
       "\t<dt>KNEE</dt>\n",
       "\t\t<dd>0.0870199149222644</dd>\n",
       "</dl>\n"
      ],
      "text/latex": [
       "\\begin{description*}\n",
       "\\item[(Intercept)] -26.3357966003562\n",
       "\\item[WEIGHT] -0.105295168560593\n",
       "\\item[HEIGHT] -0.112416987302196\n",
       "\\item[CHEST] 0.0184005997653293\n",
       "\\item[ABDOMEN] 0.881991044224811\n",
       "\\item[NECK] -0.390787014320349\n",
       "\\item[KNEE] 0.0870199149222644\n",
       "\\end{description*}\n"
      ],
      "text/markdown": [
       "(Intercept)\n",
       ":   -26.3357966003562WEIGHT\n",
       ":   -0.105295168560593HEIGHT\n",
       ":   -0.112416987302196CHEST\n",
       ":   0.0184005997653293ABDOMEN\n",
       ":   0.881991044224811NECK\n",
       ":   -0.390787014320349KNEE\n",
       ":   0.0870199149222644\n",
       "\n"
      ],
      "text/plain": [
       " (Intercept)       WEIGHT       HEIGHT        CHEST      ABDOMEN         NECK \n",
       "-26.33579660  -0.10529517  -0.11241699   0.01840060   0.88199104  -0.39078701 \n",
       "        KNEE \n",
       "  0.08701991 "
      ]
     },
     "metadata": {},
     "output_type": "display_data"
    }
   ],
   "source": [
    "ajuste2$coefficients"
   ]
  },
  {
   "cell_type": "code",
   "execution_count": 16,
   "metadata": {},
   "outputs": [
    {
     "data": {
      "text/html": [
       "4.04945271827805"
      ],
      "text/latex": [
       "4.04945271827805"
      ],
      "text/markdown": [
       "4.04945271827805"
      ],
      "text/plain": [
       "[1] 4.049453"
      ]
     },
     "metadata": {},
     "output_type": "display_data"
    }
   ],
   "source": [
    "# Calculando o erro\n",
    "bodyfat$predito_modelo2 <- predict(ajuste2, newdata = bodyfat)\n",
    "mse <- mean((bodyfat$BODYFAT - bodyfat$predito_modelo2)^2)\n",
    "sqrt(mse)"
   ]
  },
  {
   "cell_type": "markdown",
   "metadata": {},
   "source": [
    "### Ajustar um modelo de regressão linear:\n",
    "- Usaremos a função **lm** que recebe um fórmula de especificação do modelo e um data.frame\n",
    "- A função **lm** retorna um objeto do tipo **lm**, que é um **list** que armazena diversas informações sobre o ajuste\n",
    "- A função **summary** e a função **str** ajudam a identificar o conteúdo do objeto do modelo\n",
    "- A função **predict** é usada para aplicar o modelo em um novo banco de dados"
   ]
  },
  {
   "cell_type": "markdown",
   "metadata": {},
   "source": [
    "----"
   ]
  },
  {
   "cell_type": "markdown",
   "metadata": {},
   "source": [
    "## Árvore de Decisão"
   ]
  },
  {
   "cell_type": "code",
   "execution_count": 22,
   "metadata": {},
   "outputs": [],
   "source": [
    "# install.packages(\"titanic\") \n",
    "library(titanic)"
   ]
  },
  {
   "cell_type": "code",
   "execution_count": 23,
   "metadata": {},
   "outputs": [],
   "source": [
    "data(\"titanic_train\")"
   ]
  },
  {
   "cell_type": "code",
   "execution_count": 24,
   "metadata": {},
   "outputs": [
    {
     "data": {
      "text/html": [
       "<table>\n",
       "<thead><tr><th scope=col>PassengerId</th><th scope=col>Survived</th><th scope=col>Pclass</th><th scope=col>Name</th><th scope=col>Sex</th><th scope=col>Age</th><th scope=col>SibSp</th><th scope=col>Parch</th><th scope=col>Ticket</th><th scope=col>Fare</th><th scope=col>Cabin</th><th scope=col>Embarked</th></tr></thead>\n",
       "<tbody>\n",
       "\t<tr><td> 1                                                       </td><td>0                                                        </td><td>3                                                        </td><td>Braund, Mr. Owen Harris                                  </td><td>male                                                     </td><td>22                                                       </td><td>1                                                        </td><td>0                                                        </td><td>A/5 21171                                                </td><td>  7.2500                                                 </td><td>                                                         </td><td>S                                                        </td></tr>\n",
       "\t<tr><td> 2                                                       </td><td>1                                                        </td><td>1                                                        </td><td>Cumings, Mrs. John Bradley (Florence Briggs Thayer)      </td><td>female                                                   </td><td>38                                                       </td><td>1                                                        </td><td>0                                                        </td><td>PC 17599                                                 </td><td> 71.2833                                                 </td><td>C85                                                      </td><td>C                                                        </td></tr>\n",
       "\t<tr><td> 3                                                       </td><td>1                                                        </td><td>3                                                        </td><td>Heikkinen, Miss. Laina                                   </td><td>female                                                   </td><td>26                                                       </td><td>0                                                        </td><td>0                                                        </td><td>STON/O2. 3101282                                         </td><td>  7.9250                                                 </td><td>                                                         </td><td>S                                                        </td></tr>\n",
       "\t<tr><td> 4                                                       </td><td>1                                                        </td><td>1                                                        </td><td>Futrelle, Mrs. Jacques Heath (Lily May Peel)             </td><td>female                                                   </td><td>35                                                       </td><td>1                                                        </td><td>0                                                        </td><td>113803                                                   </td><td> 53.1000                                                 </td><td>C123                                                     </td><td>S                                                        </td></tr>\n",
       "\t<tr><td> 5                                                       </td><td>0                                                        </td><td>3                                                        </td><td>Allen, Mr. William Henry                                 </td><td>male                                                     </td><td>35                                                       </td><td>0                                                        </td><td>0                                                        </td><td>373450                                                   </td><td>  8.0500                                                 </td><td>                                                         </td><td>S                                                        </td></tr>\n",
       "\t<tr><td> 6                                                       </td><td>0                                                        </td><td>3                                                        </td><td>Moran, Mr. James                                         </td><td>male                                                     </td><td>NA                                                       </td><td>0                                                        </td><td>0                                                        </td><td>330877                                                   </td><td>  8.4583                                                 </td><td>                                                         </td><td>Q                                                        </td></tr>\n",
       "\t<tr><td> 7                                                       </td><td>0                                                        </td><td>1                                                        </td><td>McCarthy, Mr. Timothy J                                  </td><td>male                                                     </td><td>54                                                       </td><td>0                                                        </td><td>0                                                        </td><td>17463                                                    </td><td> 51.8625                                                 </td><td>E46                                                      </td><td>S                                                        </td></tr>\n",
       "\t<tr><td> 8                                                       </td><td>0                                                        </td><td>3                                                        </td><td>Palsson, Master. Gosta Leonard                           </td><td>male                                                     </td><td> 2                                                       </td><td>3                                                        </td><td>1                                                        </td><td>349909                                                   </td><td> 21.0750                                                 </td><td>                                                         </td><td>S                                                        </td></tr>\n",
       "\t<tr><td> 9                                                       </td><td>1                                                        </td><td>3                                                        </td><td>Johnson, Mrs. Oscar W (Elisabeth Vilhelmina Berg)        </td><td>female                                                   </td><td>27                                                       </td><td>0                                                        </td><td>2                                                        </td><td>347742                                                   </td><td> 11.1333                                                 </td><td>                                                         </td><td>S                                                        </td></tr>\n",
       "\t<tr><td>10                                                       </td><td>1                                                        </td><td>2                                                        </td><td>Nasser, Mrs. Nicholas (Adele Achem)                      </td><td>female                                                   </td><td>14                                                       </td><td>1                                                        </td><td>0                                                        </td><td>237736                                                   </td><td> 30.0708                                                 </td><td>                                                         </td><td>C                                                        </td></tr>\n",
       "\t<tr><td>11                                                       </td><td>1                                                        </td><td>3                                                        </td><td>Sandstrom, Miss. Marguerite Rut                          </td><td>female                                                   </td><td> 4                                                       </td><td>1                                                        </td><td>1                                                        </td><td>PP 9549                                                  </td><td> 16.7000                                                 </td><td>G6                                                       </td><td>S                                                        </td></tr>\n",
       "\t<tr><td>12                                                       </td><td>1                                                        </td><td>1                                                        </td><td>Bonnell, Miss. Elizabeth                                 </td><td>female                                                   </td><td>58                                                       </td><td>0                                                        </td><td>0                                                        </td><td>113783                                                   </td><td> 26.5500                                                 </td><td>C103                                                     </td><td>S                                                        </td></tr>\n",
       "\t<tr><td>13                                                       </td><td>0                                                        </td><td>3                                                        </td><td>Saundercock, Mr. William Henry                           </td><td>male                                                     </td><td>20                                                       </td><td>0                                                        </td><td>0                                                        </td><td>A/5. 2151                                                </td><td>  8.0500                                                 </td><td>                                                         </td><td>S                                                        </td></tr>\n",
       "\t<tr><td>14                                                       </td><td>0                                                        </td><td>3                                                        </td><td>Andersson, Mr. Anders Johan                              </td><td>male                                                     </td><td>39                                                       </td><td>1                                                        </td><td>5                                                        </td><td>347082                                                   </td><td> 31.2750                                                 </td><td>                                                         </td><td>S                                                        </td></tr>\n",
       "\t<tr><td>15                                                       </td><td>0                                                        </td><td>3                                                        </td><td>Vestrom, Miss. Hulda Amanda Adolfina                     </td><td>female                                                   </td><td>14                                                       </td><td>0                                                        </td><td>0                                                        </td><td>350406                                                   </td><td>  7.8542                                                 </td><td>                                                         </td><td>S                                                        </td></tr>\n",
       "\t<tr><td>16                                                       </td><td>1                                                        </td><td>2                                                        </td><td>Hewlett, Mrs. (Mary D Kingcome)                          </td><td>female                                                   </td><td>55                                                       </td><td>0                                                        </td><td>0                                                        </td><td>248706                                                   </td><td> 16.0000                                                 </td><td>                                                         </td><td>S                                                        </td></tr>\n",
       "\t<tr><td>17                                                       </td><td>0                                                        </td><td>3                                                        </td><td>Rice, Master. Eugene                                     </td><td>male                                                     </td><td> 2                                                       </td><td>4                                                        </td><td>1                                                        </td><td>382652                                                   </td><td> 29.1250                                                 </td><td>                                                         </td><td>Q                                                        </td></tr>\n",
       "\t<tr><td>18                                                       </td><td>1                                                        </td><td>2                                                        </td><td>Williams, Mr. Charles Eugene                             </td><td>male                                                     </td><td>NA                                                       </td><td>0                                                        </td><td>0                                                        </td><td>244373                                                   </td><td> 13.0000                                                 </td><td>                                                         </td><td>S                                                        </td></tr>\n",
       "\t<tr><td>19                                                       </td><td>0                                                        </td><td>3                                                        </td><td>Vander Planke, Mrs. Julius (Emelia Maria Vandemoortele)  </td><td>female                                                   </td><td>31                                                       </td><td>1                                                        </td><td>0                                                        </td><td>345763                                                   </td><td> 18.0000                                                 </td><td>                                                         </td><td>S                                                        </td></tr>\n",
       "\t<tr><td>20                                                       </td><td>1                                                        </td><td>3                                                        </td><td>Masselmani, Mrs. Fatima                                  </td><td>female                                                   </td><td>NA                                                       </td><td>0                                                        </td><td>0                                                        </td><td>2649                                                     </td><td>  7.2250                                                 </td><td>                                                         </td><td>C                                                        </td></tr>\n",
       "\t<tr><td>21                                                       </td><td>0                                                        </td><td>2                                                        </td><td>Fynney, Mr. Joseph J                                     </td><td>male                                                     </td><td>35                                                       </td><td>0                                                        </td><td>0                                                        </td><td>239865                                                   </td><td> 26.0000                                                 </td><td>                                                         </td><td>S                                                        </td></tr>\n",
       "\t<tr><td>22                                                       </td><td>1                                                        </td><td>2                                                        </td><td>Beesley, Mr. Lawrence                                    </td><td>male                                                     </td><td>34                                                       </td><td>0                                                        </td><td>0                                                        </td><td>248698                                                   </td><td> 13.0000                                                 </td><td>D56                                                      </td><td>S                                                        </td></tr>\n",
       "\t<tr><td>23                                                       </td><td>1                                                        </td><td>3                                                        </td><td>McGowan, Miss. Anna \"Annie\"                              </td><td>female                                                   </td><td>15                                                       </td><td>0                                                        </td><td>0                                                        </td><td>330923                                                   </td><td>  8.0292                                                 </td><td>                                                         </td><td>Q                                                        </td></tr>\n",
       "\t<tr><td>24                                                       </td><td>1                                                        </td><td>1                                                        </td><td>Sloper, Mr. William Thompson                             </td><td>male                                                     </td><td>28                                                       </td><td>0                                                        </td><td>0                                                        </td><td>113788                                                   </td><td> 35.5000                                                 </td><td>A6                                                       </td><td>S                                                        </td></tr>\n",
       "\t<tr><td>25                                                       </td><td>0                                                        </td><td>3                                                        </td><td>Palsson, Miss. Torborg Danira                            </td><td>female                                                   </td><td> 8                                                       </td><td>3                                                        </td><td>1                                                        </td><td>349909                                                   </td><td> 21.0750                                                 </td><td>                                                         </td><td>S                                                        </td></tr>\n",
       "\t<tr><td>26                                                       </td><td>1                                                        </td><td>3                                                        </td><td>Asplund, Mrs. Carl Oscar (Selma Augusta Emilia Johansson)</td><td>female                                                   </td><td>38                                                       </td><td>1                                                        </td><td>5                                                        </td><td>347077                                                   </td><td> 31.3875                                                 </td><td>                                                         </td><td>S                                                        </td></tr>\n",
       "\t<tr><td>27                                                       </td><td>0                                                        </td><td>3                                                        </td><td>Emir, Mr. Farred Chehab                                  </td><td>male                                                     </td><td>NA                                                       </td><td>0                                                        </td><td>0                                                        </td><td>2631                                                     </td><td>  7.2250                                                 </td><td>                                                         </td><td>C                                                        </td></tr>\n",
       "\t<tr><td>28                                                       </td><td>0                                                        </td><td>1                                                        </td><td>Fortune, Mr. Charles Alexander                           </td><td>male                                                     </td><td>19                                                       </td><td>3                                                        </td><td>2                                                        </td><td>19950                                                    </td><td>263.0000                                                 </td><td>C23 C25 C27                                              </td><td>S                                                        </td></tr>\n",
       "\t<tr><td>29                                                       </td><td>1                                                        </td><td>3                                                        </td><td>O'Dwyer, Miss. Ellen \"Nellie\"                            </td><td>female                                                   </td><td>NA                                                       </td><td>0                                                        </td><td>0                                                        </td><td>330959                                                   </td><td>  7.8792                                                 </td><td>                                                         </td><td>Q                                                        </td></tr>\n",
       "\t<tr><td>30                                                       </td><td>0                                                        </td><td>3                                                        </td><td>Todoroff, Mr. Lalio                                      </td><td>male                                                     </td><td>NA                                                       </td><td>0                                                        </td><td>0                                                        </td><td>349216                                                   </td><td>  7.8958                                                 </td><td>                                                         </td><td>S                                                        </td></tr>\n",
       "\t<tr><td>...</td><td>...</td><td>...</td><td>...</td><td>...</td><td>...</td><td>...</td><td>...</td><td>...</td><td>...</td><td>...</td><td>...</td></tr>\n",
       "\t<tr><td>862                                                </td><td>0                                                  </td><td>2                                                  </td><td>Giles, Mr. Frederick Edward                        </td><td>male                                               </td><td>21                                                 </td><td>1                                                  </td><td>0                                                  </td><td>28134                                              </td><td>11.5000                                            </td><td>                                                   </td><td>S                                                  </td></tr>\n",
       "\t<tr><td>863                                                </td><td>1                                                  </td><td>1                                                  </td><td>Swift, Mrs. Frederick Joel (Margaret Welles Barron)</td><td>female                                             </td><td>48                                                 </td><td>0                                                  </td><td>0                                                  </td><td>17466                                              </td><td>25.9292                                            </td><td>D17                                                </td><td>S                                                  </td></tr>\n",
       "\t<tr><td>864                                                </td><td>0                                                  </td><td>3                                                  </td><td>Sage, Miss. Dorothy Edith \"Dolly\"                  </td><td>female                                             </td><td>NA                                                 </td><td>8                                                  </td><td>2                                                  </td><td>CA. 2343                                           </td><td>69.5500                                            </td><td>                                                   </td><td>S                                                  </td></tr>\n",
       "\t<tr><td>865                                                </td><td>0                                                  </td><td>2                                                  </td><td>Gill, Mr. John William                             </td><td>male                                               </td><td>24                                                 </td><td>0                                                  </td><td>0                                                  </td><td>233866                                             </td><td>13.0000                                            </td><td>                                                   </td><td>S                                                  </td></tr>\n",
       "\t<tr><td>866                                                </td><td>1                                                  </td><td>2                                                  </td><td>Bystrom, Mrs. (Karolina)                           </td><td>female                                             </td><td>42                                                 </td><td>0                                                  </td><td>0                                                  </td><td>236852                                             </td><td>13.0000                                            </td><td>                                                   </td><td>S                                                  </td></tr>\n",
       "\t<tr><td>867                                                </td><td>1                                                  </td><td>2                                                  </td><td>Duran y More, Miss. Asuncion                       </td><td>female                                             </td><td>27                                                 </td><td>1                                                  </td><td>0                                                  </td><td>SC/PARIS 2149                                      </td><td>13.8583                                            </td><td>                                                   </td><td>C                                                  </td></tr>\n",
       "\t<tr><td>868                                                </td><td>0                                                  </td><td>1                                                  </td><td>Roebling, Mr. Washington Augustus II               </td><td>male                                               </td><td>31                                                 </td><td>0                                                  </td><td>0                                                  </td><td>PC 17590                                           </td><td>50.4958                                            </td><td>A24                                                </td><td>S                                                  </td></tr>\n",
       "\t<tr><td>869                                                </td><td>0                                                  </td><td>3                                                  </td><td>van Melkebeke, Mr. Philemon                        </td><td>male                                               </td><td>NA                                                 </td><td>0                                                  </td><td>0                                                  </td><td>345777                                             </td><td> 9.5000                                            </td><td>                                                   </td><td>S                                                  </td></tr>\n",
       "\t<tr><td>870                                                </td><td>1                                                  </td><td>3                                                  </td><td>Johnson, Master. Harold Theodor                    </td><td>male                                               </td><td> 4                                                 </td><td>1                                                  </td><td>1                                                  </td><td>347742                                             </td><td>11.1333                                            </td><td>                                                   </td><td>S                                                  </td></tr>\n",
       "\t<tr><td>871                                                </td><td>0                                                  </td><td>3                                                  </td><td>Balkic, Mr. Cerin                                  </td><td>male                                               </td><td>26                                                 </td><td>0                                                  </td><td>0                                                  </td><td>349248                                             </td><td> 7.8958                                            </td><td>                                                   </td><td>S                                                  </td></tr>\n",
       "\t<tr><td>872                                                </td><td>1                                                  </td><td>1                                                  </td><td>Beckwith, Mrs. Richard Leonard (Sallie Monypeny)   </td><td>female                                             </td><td>47                                                 </td><td>1                                                  </td><td>1                                                  </td><td>11751                                              </td><td>52.5542                                            </td><td>D35                                                </td><td>S                                                  </td></tr>\n",
       "\t<tr><td>873                                                </td><td>0                                                  </td><td>1                                                  </td><td>Carlsson, Mr. Frans Olof                           </td><td>male                                               </td><td>33                                                 </td><td>0                                                  </td><td>0                                                  </td><td>695                                                </td><td> 5.0000                                            </td><td>B51 B53 B55                                        </td><td>S                                                  </td></tr>\n",
       "\t<tr><td>874                                                </td><td>0                                                  </td><td>3                                                  </td><td>Vander Cruyssen, Mr. Victor                        </td><td>male                                               </td><td>47                                                 </td><td>0                                                  </td><td>0                                                  </td><td>345765                                             </td><td> 9.0000                                            </td><td>                                                   </td><td>S                                                  </td></tr>\n",
       "\t<tr><td>875                                                </td><td>1                                                  </td><td>2                                                  </td><td>Abelson, Mrs. Samuel (Hannah Wizosky)              </td><td>female                                             </td><td>28                                                 </td><td>1                                                  </td><td>0                                                  </td><td>P/PP 3381                                          </td><td>24.0000                                            </td><td>                                                   </td><td>C                                                  </td></tr>\n",
       "\t<tr><td>876                                                </td><td>1                                                  </td><td>3                                                  </td><td>Najib, Miss. Adele Kiamie \"Jane\"                   </td><td>female                                             </td><td>15                                                 </td><td>0                                                  </td><td>0                                                  </td><td>2667                                               </td><td> 7.2250                                            </td><td>                                                   </td><td>C                                                  </td></tr>\n",
       "\t<tr><td>877                                                </td><td>0                                                  </td><td>3                                                  </td><td>Gustafsson, Mr. Alfred Ossian                      </td><td>male                                               </td><td>20                                                 </td><td>0                                                  </td><td>0                                                  </td><td>7534                                               </td><td> 9.8458                                            </td><td>                                                   </td><td>S                                                  </td></tr>\n",
       "\t<tr><td>878                                                </td><td>0                                                  </td><td>3                                                  </td><td>Petroff, Mr. Nedelio                               </td><td>male                                               </td><td>19                                                 </td><td>0                                                  </td><td>0                                                  </td><td>349212                                             </td><td> 7.8958                                            </td><td>                                                   </td><td>S                                                  </td></tr>\n",
       "\t<tr><td>879                                                </td><td>0                                                  </td><td>3                                                  </td><td>Laleff, Mr. Kristo                                 </td><td>male                                               </td><td>NA                                                 </td><td>0                                                  </td><td>0                                                  </td><td>349217                                             </td><td> 7.8958                                            </td><td>                                                   </td><td>S                                                  </td></tr>\n",
       "\t<tr><td>880                                                </td><td>1                                                  </td><td>1                                                  </td><td>Potter, Mrs. Thomas Jr (Lily Alexenia Wilson)      </td><td>female                                             </td><td>56                                                 </td><td>0                                                  </td><td>1                                                  </td><td>11767                                              </td><td>83.1583                                            </td><td>C50                                                </td><td>C                                                  </td></tr>\n",
       "\t<tr><td>881                                                </td><td>1                                                  </td><td>2                                                  </td><td>Shelley, Mrs. William (Imanita Parrish Hall)       </td><td>female                                             </td><td>25                                                 </td><td>0                                                  </td><td>1                                                  </td><td>230433                                             </td><td>26.0000                                            </td><td>                                                   </td><td>S                                                  </td></tr>\n",
       "\t<tr><td>882                                                </td><td>0                                                  </td><td>3                                                  </td><td>Markun, Mr. Johann                                 </td><td>male                                               </td><td>33                                                 </td><td>0                                                  </td><td>0                                                  </td><td>349257                                             </td><td> 7.8958                                            </td><td>                                                   </td><td>S                                                  </td></tr>\n",
       "\t<tr><td>883                                                </td><td>0                                                  </td><td>3                                                  </td><td>Dahlberg, Miss. Gerda Ulrika                       </td><td>female                                             </td><td>22                                                 </td><td>0                                                  </td><td>0                                                  </td><td>7552                                               </td><td>10.5167                                            </td><td>                                                   </td><td>S                                                  </td></tr>\n",
       "\t<tr><td>884                                                </td><td>0                                                  </td><td>2                                                  </td><td>Banfield, Mr. Frederick James                      </td><td>male                                               </td><td>28                                                 </td><td>0                                                  </td><td>0                                                  </td><td>C.A./SOTON 34068                                   </td><td>10.5000                                            </td><td>                                                   </td><td>S                                                  </td></tr>\n",
       "\t<tr><td>885                                                </td><td>0                                                  </td><td>3                                                  </td><td>Sutehall, Mr. Henry Jr                             </td><td>male                                               </td><td>25                                                 </td><td>0                                                  </td><td>0                                                  </td><td>SOTON/OQ 392076                                    </td><td> 7.0500                                            </td><td>                                                   </td><td>S                                                  </td></tr>\n",
       "\t<tr><td>886                                                </td><td>0                                                  </td><td>3                                                  </td><td>Rice, Mrs. William (Margaret Norton)               </td><td>female                                             </td><td>39                                                 </td><td>0                                                  </td><td>5                                                  </td><td>382652                                             </td><td>29.1250                                            </td><td>                                                   </td><td>Q                                                  </td></tr>\n",
       "\t<tr><td>887                                                </td><td>0                                                  </td><td>2                                                  </td><td>Montvila, Rev. Juozas                              </td><td>male                                               </td><td>27                                                 </td><td>0                                                  </td><td>0                                                  </td><td>211536                                             </td><td>13.0000                                            </td><td>                                                   </td><td>S                                                  </td></tr>\n",
       "\t<tr><td>888                                                </td><td>1                                                  </td><td>1                                                  </td><td>Graham, Miss. Margaret Edith                       </td><td>female                                             </td><td>19                                                 </td><td>0                                                  </td><td>0                                                  </td><td>112053                                             </td><td>30.0000                                            </td><td>B42                                                </td><td>S                                                  </td></tr>\n",
       "\t<tr><td>889                                                </td><td>0                                                  </td><td>3                                                  </td><td>Johnston, Miss. Catherine Helen \"Carrie\"           </td><td>female                                             </td><td>NA                                                 </td><td>1                                                  </td><td>2                                                  </td><td>W./C. 6607                                         </td><td>23.4500                                            </td><td>                                                   </td><td>S                                                  </td></tr>\n",
       "\t<tr><td>890                                                </td><td>1                                                  </td><td>1                                                  </td><td>Behr, Mr. Karl Howell                              </td><td>male                                               </td><td>26                                                 </td><td>0                                                  </td><td>0                                                  </td><td>111369                                             </td><td>30.0000                                            </td><td>C148                                               </td><td>C                                                  </td></tr>\n",
       "\t<tr><td>891                                                </td><td>0                                                  </td><td>3                                                  </td><td>Dooley, Mr. Patrick                                </td><td>male                                               </td><td>32                                                 </td><td>0                                                  </td><td>0                                                  </td><td>370376                                             </td><td> 7.7500                                            </td><td>                                                   </td><td>Q                                                  </td></tr>\n",
       "</tbody>\n",
       "</table>\n"
      ],
      "text/latex": [
       "\\begin{tabular}{r|llllllllllll}\n",
       " PassengerId & Survived & Pclass & Name & Sex & Age & SibSp & Parch & Ticket & Fare & Cabin & Embarked\\\\\n",
       "\\hline\n",
       "\t  1                                                        & 0                                                         & 3                                                         & Braund, Mr. Owen Harris                                   & male                                                      & 22                                                        & 1                                                         & 0                                                         & A/5 21171                                                 &   7.2500                                                  &                                                           & S                                                        \\\\\n",
       "\t  2                                                        & 1                                                         & 1                                                         & Cumings, Mrs. John Bradley (Florence Briggs Thayer)       & female                                                    & 38                                                        & 1                                                         & 0                                                         & PC 17599                                                  &  71.2833                                                  & C85                                                       & C                                                        \\\\\n",
       "\t  3                                                        & 1                                                         & 3                                                         & Heikkinen, Miss. Laina                                    & female                                                    & 26                                                        & 0                                                         & 0                                                         & STON/O2. 3101282                                          &   7.9250                                                  &                                                           & S                                                        \\\\\n",
       "\t  4                                                        & 1                                                         & 1                                                         & Futrelle, Mrs. Jacques Heath (Lily May Peel)              & female                                                    & 35                                                        & 1                                                         & 0                                                         & 113803                                                    &  53.1000                                                  & C123                                                      & S                                                        \\\\\n",
       "\t  5                                                        & 0                                                         & 3                                                         & Allen, Mr. William Henry                                  & male                                                      & 35                                                        & 0                                                         & 0                                                         & 373450                                                    &   8.0500                                                  &                                                           & S                                                        \\\\\n",
       "\t  6                                                        & 0                                                         & 3                                                         & Moran, Mr. James                                          & male                                                      & NA                                                        & 0                                                         & 0                                                         & 330877                                                    &   8.4583                                                  &                                                           & Q                                                        \\\\\n",
       "\t  7                                                        & 0                                                         & 1                                                         & McCarthy, Mr. Timothy J                                   & male                                                      & 54                                                        & 0                                                         & 0                                                         & 17463                                                     &  51.8625                                                  & E46                                                       & S                                                        \\\\\n",
       "\t  8                                                        & 0                                                         & 3                                                         & Palsson, Master. Gosta Leonard                            & male                                                      &  2                                                        & 3                                                         & 1                                                         & 349909                                                    &  21.0750                                                  &                                                           & S                                                        \\\\\n",
       "\t  9                                                        & 1                                                         & 3                                                         & Johnson, Mrs. Oscar W (Elisabeth Vilhelmina Berg)         & female                                                    & 27                                                        & 0                                                         & 2                                                         & 347742                                                    &  11.1333                                                  &                                                           & S                                                        \\\\\n",
       "\t 10                                                        & 1                                                         & 2                                                         & Nasser, Mrs. Nicholas (Adele Achem)                       & female                                                    & 14                                                        & 1                                                         & 0                                                         & 237736                                                    &  30.0708                                                  &                                                           & C                                                        \\\\\n",
       "\t 11                                                        & 1                                                         & 3                                                         & Sandstrom, Miss. Marguerite Rut                           & female                                                    &  4                                                        & 1                                                         & 1                                                         & PP 9549                                                   &  16.7000                                                  & G6                                                        & S                                                        \\\\\n",
       "\t 12                                                        & 1                                                         & 1                                                         & Bonnell, Miss. Elizabeth                                  & female                                                    & 58                                                        & 0                                                         & 0                                                         & 113783                                                    &  26.5500                                                  & C103                                                      & S                                                        \\\\\n",
       "\t 13                                                        & 0                                                         & 3                                                         & Saundercock, Mr. William Henry                            & male                                                      & 20                                                        & 0                                                         & 0                                                         & A/5. 2151                                                 &   8.0500                                                  &                                                           & S                                                        \\\\\n",
       "\t 14                                                        & 0                                                         & 3                                                         & Andersson, Mr. Anders Johan                               & male                                                      & 39                                                        & 1                                                         & 5                                                         & 347082                                                    &  31.2750                                                  &                                                           & S                                                        \\\\\n",
       "\t 15                                                        & 0                                                         & 3                                                         & Vestrom, Miss. Hulda Amanda Adolfina                      & female                                                    & 14                                                        & 0                                                         & 0                                                         & 350406                                                    &   7.8542                                                  &                                                           & S                                                        \\\\\n",
       "\t 16                                                        & 1                                                         & 2                                                         & Hewlett, Mrs. (Mary D Kingcome)                           & female                                                    & 55                                                        & 0                                                         & 0                                                         & 248706                                                    &  16.0000                                                  &                                                           & S                                                        \\\\\n",
       "\t 17                                                        & 0                                                         & 3                                                         & Rice, Master. Eugene                                      & male                                                      &  2                                                        & 4                                                         & 1                                                         & 382652                                                    &  29.1250                                                  &                                                           & Q                                                        \\\\\n",
       "\t 18                                                        & 1                                                         & 2                                                         & Williams, Mr. Charles Eugene                              & male                                                      & NA                                                        & 0                                                         & 0                                                         & 244373                                                    &  13.0000                                                  &                                                           & S                                                        \\\\\n",
       "\t 19                                                        & 0                                                         & 3                                                         & Vander Planke, Mrs. Julius (Emelia Maria Vandemoortele)   & female                                                    & 31                                                        & 1                                                         & 0                                                         & 345763                                                    &  18.0000                                                  &                                                           & S                                                        \\\\\n",
       "\t 20                                                        & 1                                                         & 3                                                         & Masselmani, Mrs. Fatima                                   & female                                                    & NA                                                        & 0                                                         & 0                                                         & 2649                                                      &   7.2250                                                  &                                                           & C                                                        \\\\\n",
       "\t 21                                                        & 0                                                         & 2                                                         & Fynney, Mr. Joseph J                                      & male                                                      & 35                                                        & 0                                                         & 0                                                         & 239865                                                    &  26.0000                                                  &                                                           & S                                                        \\\\\n",
       "\t 22                                                        & 1                                                         & 2                                                         & Beesley, Mr. Lawrence                                     & male                                                      & 34                                                        & 0                                                         & 0                                                         & 248698                                                    &  13.0000                                                  & D56                                                       & S                                                        \\\\\n",
       "\t 23                                                        & 1                                                         & 3                                                         & McGowan, Miss. Anna \"Annie\"                               & female                                                    & 15                                                        & 0                                                         & 0                                                         & 330923                                                    &   8.0292                                                  &                                                           & Q                                                        \\\\\n",
       "\t 24                                                        & 1                                                         & 1                                                         & Sloper, Mr. William Thompson                              & male                                                      & 28                                                        & 0                                                         & 0                                                         & 113788                                                    &  35.5000                                                  & A6                                                        & S                                                        \\\\\n",
       "\t 25                                                        & 0                                                         & 3                                                         & Palsson, Miss. Torborg Danira                             & female                                                    &  8                                                        & 3                                                         & 1                                                         & 349909                                                    &  21.0750                                                  &                                                           & S                                                        \\\\\n",
       "\t 26                                                        & 1                                                         & 3                                                         & Asplund, Mrs. Carl Oscar (Selma Augusta Emilia Johansson) & female                                                    & 38                                                        & 1                                                         & 5                                                         & 347077                                                    &  31.3875                                                  &                                                           & S                                                        \\\\\n",
       "\t 27                                                        & 0                                                         & 3                                                         & Emir, Mr. Farred Chehab                                   & male                                                      & NA                                                        & 0                                                         & 0                                                         & 2631                                                      &   7.2250                                                  &                                                           & C                                                        \\\\\n",
       "\t 28                                                        & 0                                                         & 1                                                         & Fortune, Mr. Charles Alexander                            & male                                                      & 19                                                        & 3                                                         & 2                                                         & 19950                                                     & 263.0000                                                  & C23 C25 C27                                               & S                                                        \\\\\n",
       "\t 29                                                        & 1                                                         & 3                                                         & O'Dwyer, Miss. Ellen \"Nellie\"                             & female                                                    & NA                                                        & 0                                                         & 0                                                         & 330959                                                    &   7.8792                                                  &                                                           & Q                                                        \\\\\n",
       "\t 30                                                        & 0                                                         & 3                                                         & Todoroff, Mr. Lalio                                       & male                                                      & NA                                                        & 0                                                         & 0                                                         & 349216                                                    &   7.8958                                                  &                                                           & S                                                        \\\\\n",
       "\t ... & ... & ... & ... & ... & ... & ... & ... & ... & ... & ... & ...\\\\\n",
       "\t 862                                                 & 0                                                   & 2                                                   & Giles, Mr. Frederick Edward                         & male                                                & 21                                                  & 1                                                   & 0                                                   & 28134                                               & 11.5000                                             &                                                     & S                                                  \\\\\n",
       "\t 863                                                 & 1                                                   & 1                                                   & Swift, Mrs. Frederick Joel (Margaret Welles Barron) & female                                              & 48                                                  & 0                                                   & 0                                                   & 17466                                               & 25.9292                                             & D17                                                 & S                                                  \\\\\n",
       "\t 864                                                 & 0                                                   & 3                                                   & Sage, Miss. Dorothy Edith \"Dolly\"                   & female                                              & NA                                                  & 8                                                   & 2                                                   & CA. 2343                                            & 69.5500                                             &                                                     & S                                                  \\\\\n",
       "\t 865                                                 & 0                                                   & 2                                                   & Gill, Mr. John William                              & male                                                & 24                                                  & 0                                                   & 0                                                   & 233866                                              & 13.0000                                             &                                                     & S                                                  \\\\\n",
       "\t 866                                                 & 1                                                   & 2                                                   & Bystrom, Mrs. (Karolina)                            & female                                              & 42                                                  & 0                                                   & 0                                                   & 236852                                              & 13.0000                                             &                                                     & S                                                  \\\\\n",
       "\t 867                                                 & 1                                                   & 2                                                   & Duran y More, Miss. Asuncion                        & female                                              & 27                                                  & 1                                                   & 0                                                   & SC/PARIS 2149                                       & 13.8583                                             &                                                     & C                                                  \\\\\n",
       "\t 868                                                 & 0                                                   & 1                                                   & Roebling, Mr. Washington Augustus II                & male                                                & 31                                                  & 0                                                   & 0                                                   & PC 17590                                            & 50.4958                                             & A24                                                 & S                                                  \\\\\n",
       "\t 869                                                 & 0                                                   & 3                                                   & van Melkebeke, Mr. Philemon                         & male                                                & NA                                                  & 0                                                   & 0                                                   & 345777                                              &  9.5000                                             &                                                     & S                                                  \\\\\n",
       "\t 870                                                 & 1                                                   & 3                                                   & Johnson, Master. Harold Theodor                     & male                                                &  4                                                  & 1                                                   & 1                                                   & 347742                                              & 11.1333                                             &                                                     & S                                                  \\\\\n",
       "\t 871                                                 & 0                                                   & 3                                                   & Balkic, Mr. Cerin                                   & male                                                & 26                                                  & 0                                                   & 0                                                   & 349248                                              &  7.8958                                             &                                                     & S                                                  \\\\\n",
       "\t 872                                                 & 1                                                   & 1                                                   & Beckwith, Mrs. Richard Leonard (Sallie Monypeny)    & female                                              & 47                                                  & 1                                                   & 1                                                   & 11751                                               & 52.5542                                             & D35                                                 & S                                                  \\\\\n",
       "\t 873                                                 & 0                                                   & 1                                                   & Carlsson, Mr. Frans Olof                            & male                                                & 33                                                  & 0                                                   & 0                                                   & 695                                                 &  5.0000                                             & B51 B53 B55                                         & S                                                  \\\\\n",
       "\t 874                                                 & 0                                                   & 3                                                   & Vander Cruyssen, Mr. Victor                         & male                                                & 47                                                  & 0                                                   & 0                                                   & 345765                                              &  9.0000                                             &                                                     & S                                                  \\\\\n",
       "\t 875                                                 & 1                                                   & 2                                                   & Abelson, Mrs. Samuel (Hannah Wizosky)               & female                                              & 28                                                  & 1                                                   & 0                                                   & P/PP 3381                                           & 24.0000                                             &                                                     & C                                                  \\\\\n",
       "\t 876                                                 & 1                                                   & 3                                                   & Najib, Miss. Adele Kiamie \"Jane\"                    & female                                              & 15                                                  & 0                                                   & 0                                                   & 2667                                                &  7.2250                                             &                                                     & C                                                  \\\\\n",
       "\t 877                                                 & 0                                                   & 3                                                   & Gustafsson, Mr. Alfred Ossian                       & male                                                & 20                                                  & 0                                                   & 0                                                   & 7534                                                &  9.8458                                             &                                                     & S                                                  \\\\\n",
       "\t 878                                                 & 0                                                   & 3                                                   & Petroff, Mr. Nedelio                                & male                                                & 19                                                  & 0                                                   & 0                                                   & 349212                                              &  7.8958                                             &                                                     & S                                                  \\\\\n",
       "\t 879                                                 & 0                                                   & 3                                                   & Laleff, Mr. Kristo                                  & male                                                & NA                                                  & 0                                                   & 0                                                   & 349217                                              &  7.8958                                             &                                                     & S                                                  \\\\\n",
       "\t 880                                                 & 1                                                   & 1                                                   & Potter, Mrs. Thomas Jr (Lily Alexenia Wilson)       & female                                              & 56                                                  & 0                                                   & 1                                                   & 11767                                               & 83.1583                                             & C50                                                 & C                                                  \\\\\n",
       "\t 881                                                 & 1                                                   & 2                                                   & Shelley, Mrs. William (Imanita Parrish Hall)        & female                                              & 25                                                  & 0                                                   & 1                                                   & 230433                                              & 26.0000                                             &                                                     & S                                                  \\\\\n",
       "\t 882                                                 & 0                                                   & 3                                                   & Markun, Mr. Johann                                  & male                                                & 33                                                  & 0                                                   & 0                                                   & 349257                                              &  7.8958                                             &                                                     & S                                                  \\\\\n",
       "\t 883                                                 & 0                                                   & 3                                                   & Dahlberg, Miss. Gerda Ulrika                        & female                                              & 22                                                  & 0                                                   & 0                                                   & 7552                                                & 10.5167                                             &                                                     & S                                                  \\\\\n",
       "\t 884                                                 & 0                                                   & 2                                                   & Banfield, Mr. Frederick James                       & male                                                & 28                                                  & 0                                                   & 0                                                   & C.A./SOTON 34068                                    & 10.5000                                             &                                                     & S                                                  \\\\\n",
       "\t 885                                                 & 0                                                   & 3                                                   & Sutehall, Mr. Henry Jr                              & male                                                & 25                                                  & 0                                                   & 0                                                   & SOTON/OQ 392076                                     &  7.0500                                             &                                                     & S                                                  \\\\\n",
       "\t 886                                                 & 0                                                   & 3                                                   & Rice, Mrs. William (Margaret Norton)                & female                                              & 39                                                  & 0                                                   & 5                                                   & 382652                                              & 29.1250                                             &                                                     & Q                                                  \\\\\n",
       "\t 887                                                 & 0                                                   & 2                                                   & Montvila, Rev. Juozas                               & male                                                & 27                                                  & 0                                                   & 0                                                   & 211536                                              & 13.0000                                             &                                                     & S                                                  \\\\\n",
       "\t 888                                                 & 1                                                   & 1                                                   & Graham, Miss. Margaret Edith                        & female                                              & 19                                                  & 0                                                   & 0                                                   & 112053                                              & 30.0000                                             & B42                                                 & S                                                  \\\\\n",
       "\t 889                                                 & 0                                                   & 3                                                   & Johnston, Miss. Catherine Helen \"Carrie\"            & female                                              & NA                                                  & 1                                                   & 2                                                   & W./C. 6607                                          & 23.4500                                             &                                                     & S                                                  \\\\\n",
       "\t 890                                                 & 1                                                   & 1                                                   & Behr, Mr. Karl Howell                               & male                                                & 26                                                  & 0                                                   & 0                                                   & 111369                                              & 30.0000                                             & C148                                                & C                                                  \\\\\n",
       "\t 891                                                 & 0                                                   & 3                                                   & Dooley, Mr. Patrick                                 & male                                                & 32                                                  & 0                                                   & 0                                                   & 370376                                              &  7.7500                                             &                                                     & Q                                                  \\\\\n",
       "\\end{tabular}\n"
      ],
      "text/markdown": [
       "\n",
       "| PassengerId | Survived | Pclass | Name | Sex | Age | SibSp | Parch | Ticket | Fare | Cabin | Embarked |\n",
       "|---|---|---|---|---|---|---|---|---|---|---|---|\n",
       "|  1                                                        | 0                                                         | 3                                                         | Braund, Mr. Owen Harris                                   | male                                                      | 22                                                        | 1                                                         | 0                                                         | A/5 21171                                                 |   7.2500                                                  |                                                           | S                                                         |\n",
       "|  2                                                        | 1                                                         | 1                                                         | Cumings, Mrs. John Bradley (Florence Briggs Thayer)       | female                                                    | 38                                                        | 1                                                         | 0                                                         | PC 17599                                                  |  71.2833                                                  | C85                                                       | C                                                         |\n",
       "|  3                                                        | 1                                                         | 3                                                         | Heikkinen, Miss. Laina                                    | female                                                    | 26                                                        | 0                                                         | 0                                                         | STON/O2. 3101282                                          |   7.9250                                                  |                                                           | S                                                         |\n",
       "|  4                                                        | 1                                                         | 1                                                         | Futrelle, Mrs. Jacques Heath (Lily May Peel)              | female                                                    | 35                                                        | 1                                                         | 0                                                         | 113803                                                    |  53.1000                                                  | C123                                                      | S                                                         |\n",
       "|  5                                                        | 0                                                         | 3                                                         | Allen, Mr. William Henry                                  | male                                                      | 35                                                        | 0                                                         | 0                                                         | 373450                                                    |   8.0500                                                  |                                                           | S                                                         |\n",
       "|  6                                                        | 0                                                         | 3                                                         | Moran, Mr. James                                          | male                                                      | NA                                                        | 0                                                         | 0                                                         | 330877                                                    |   8.4583                                                  |                                                           | Q                                                         |\n",
       "|  7                                                        | 0                                                         | 1                                                         | McCarthy, Mr. Timothy J                                   | male                                                      | 54                                                        | 0                                                         | 0                                                         | 17463                                                     |  51.8625                                                  | E46                                                       | S                                                         |\n",
       "|  8                                                        | 0                                                         | 3                                                         | Palsson, Master. Gosta Leonard                            | male                                                      |  2                                                        | 3                                                         | 1                                                         | 349909                                                    |  21.0750                                                  |                                                           | S                                                         |\n",
       "|  9                                                        | 1                                                         | 3                                                         | Johnson, Mrs. Oscar W (Elisabeth Vilhelmina Berg)         | female                                                    | 27                                                        | 0                                                         | 2                                                         | 347742                                                    |  11.1333                                                  |                                                           | S                                                         |\n",
       "| 10                                                        | 1                                                         | 2                                                         | Nasser, Mrs. Nicholas (Adele Achem)                       | female                                                    | 14                                                        | 1                                                         | 0                                                         | 237736                                                    |  30.0708                                                  |                                                           | C                                                         |\n",
       "| 11                                                        | 1                                                         | 3                                                         | Sandstrom, Miss. Marguerite Rut                           | female                                                    |  4                                                        | 1                                                         | 1                                                         | PP 9549                                                   |  16.7000                                                  | G6                                                        | S                                                         |\n",
       "| 12                                                        | 1                                                         | 1                                                         | Bonnell, Miss. Elizabeth                                  | female                                                    | 58                                                        | 0                                                         | 0                                                         | 113783                                                    |  26.5500                                                  | C103                                                      | S                                                         |\n",
       "| 13                                                        | 0                                                         | 3                                                         | Saundercock, Mr. William Henry                            | male                                                      | 20                                                        | 0                                                         | 0                                                         | A/5. 2151                                                 |   8.0500                                                  |                                                           | S                                                         |\n",
       "| 14                                                        | 0                                                         | 3                                                         | Andersson, Mr. Anders Johan                               | male                                                      | 39                                                        | 1                                                         | 5                                                         | 347082                                                    |  31.2750                                                  |                                                           | S                                                         |\n",
       "| 15                                                        | 0                                                         | 3                                                         | Vestrom, Miss. Hulda Amanda Adolfina                      | female                                                    | 14                                                        | 0                                                         | 0                                                         | 350406                                                    |   7.8542                                                  |                                                           | S                                                         |\n",
       "| 16                                                        | 1                                                         | 2                                                         | Hewlett, Mrs. (Mary D Kingcome)                           | female                                                    | 55                                                        | 0                                                         | 0                                                         | 248706                                                    |  16.0000                                                  |                                                           | S                                                         |\n",
       "| 17                                                        | 0                                                         | 3                                                         | Rice, Master. Eugene                                      | male                                                      |  2                                                        | 4                                                         | 1                                                         | 382652                                                    |  29.1250                                                  |                                                           | Q                                                         |\n",
       "| 18                                                        | 1                                                         | 2                                                         | Williams, Mr. Charles Eugene                              | male                                                      | NA                                                        | 0                                                         | 0                                                         | 244373                                                    |  13.0000                                                  |                                                           | S                                                         |\n",
       "| 19                                                        | 0                                                         | 3                                                         | Vander Planke, Mrs. Julius (Emelia Maria Vandemoortele)   | female                                                    | 31                                                        | 1                                                         | 0                                                         | 345763                                                    |  18.0000                                                  |                                                           | S                                                         |\n",
       "| 20                                                        | 1                                                         | 3                                                         | Masselmani, Mrs. Fatima                                   | female                                                    | NA                                                        | 0                                                         | 0                                                         | 2649                                                      |   7.2250                                                  |                                                           | C                                                         |\n",
       "| 21                                                        | 0                                                         | 2                                                         | Fynney, Mr. Joseph J                                      | male                                                      | 35                                                        | 0                                                         | 0                                                         | 239865                                                    |  26.0000                                                  |                                                           | S                                                         |\n",
       "| 22                                                        | 1                                                         | 2                                                         | Beesley, Mr. Lawrence                                     | male                                                      | 34                                                        | 0                                                         | 0                                                         | 248698                                                    |  13.0000                                                  | D56                                                       | S                                                         |\n",
       "| 23                                                        | 1                                                         | 3                                                         | McGowan, Miss. Anna \"Annie\"                               | female                                                    | 15                                                        | 0                                                         | 0                                                         | 330923                                                    |   8.0292                                                  |                                                           | Q                                                         |\n",
       "| 24                                                        | 1                                                         | 1                                                         | Sloper, Mr. William Thompson                              | male                                                      | 28                                                        | 0                                                         | 0                                                         | 113788                                                    |  35.5000                                                  | A6                                                        | S                                                         |\n",
       "| 25                                                        | 0                                                         | 3                                                         | Palsson, Miss. Torborg Danira                             | female                                                    |  8                                                        | 3                                                         | 1                                                         | 349909                                                    |  21.0750                                                  |                                                           | S                                                         |\n",
       "| 26                                                        | 1                                                         | 3                                                         | Asplund, Mrs. Carl Oscar (Selma Augusta Emilia Johansson) | female                                                    | 38                                                        | 1                                                         | 5                                                         | 347077                                                    |  31.3875                                                  |                                                           | S                                                         |\n",
       "| 27                                                        | 0                                                         | 3                                                         | Emir, Mr. Farred Chehab                                   | male                                                      | NA                                                        | 0                                                         | 0                                                         | 2631                                                      |   7.2250                                                  |                                                           | C                                                         |\n",
       "| 28                                                        | 0                                                         | 1                                                         | Fortune, Mr. Charles Alexander                            | male                                                      | 19                                                        | 3                                                         | 2                                                         | 19950                                                     | 263.0000                                                  | C23 C25 C27                                               | S                                                         |\n",
       "| 29                                                        | 1                                                         | 3                                                         | O'Dwyer, Miss. Ellen \"Nellie\"                             | female                                                    | NA                                                        | 0                                                         | 0                                                         | 330959                                                    |   7.8792                                                  |                                                           | Q                                                         |\n",
       "| 30                                                        | 0                                                         | 3                                                         | Todoroff, Mr. Lalio                                       | male                                                      | NA                                                        | 0                                                         | 0                                                         | 349216                                                    |   7.8958                                                  |                                                           | S                                                         |\n",
       "| ... | ... | ... | ... | ... | ... | ... | ... | ... | ... | ... | ... |\n",
       "| 862                                                 | 0                                                   | 2                                                   | Giles, Mr. Frederick Edward                         | male                                                | 21                                                  | 1                                                   | 0                                                   | 28134                                               | 11.5000                                             |                                                     | S                                                   |\n",
       "| 863                                                 | 1                                                   | 1                                                   | Swift, Mrs. Frederick Joel (Margaret Welles Barron) | female                                              | 48                                                  | 0                                                   | 0                                                   | 17466                                               | 25.9292                                             | D17                                                 | S                                                   |\n",
       "| 864                                                 | 0                                                   | 3                                                   | Sage, Miss. Dorothy Edith \"Dolly\"                   | female                                              | NA                                                  | 8                                                   | 2                                                   | CA. 2343                                            | 69.5500                                             |                                                     | S                                                   |\n",
       "| 865                                                 | 0                                                   | 2                                                   | Gill, Mr. John William                              | male                                                | 24                                                  | 0                                                   | 0                                                   | 233866                                              | 13.0000                                             |                                                     | S                                                   |\n",
       "| 866                                                 | 1                                                   | 2                                                   | Bystrom, Mrs. (Karolina)                            | female                                              | 42                                                  | 0                                                   | 0                                                   | 236852                                              | 13.0000                                             |                                                     | S                                                   |\n",
       "| 867                                                 | 1                                                   | 2                                                   | Duran y More, Miss. Asuncion                        | female                                              | 27                                                  | 1                                                   | 0                                                   | SC/PARIS 2149                                       | 13.8583                                             |                                                     | C                                                   |\n",
       "| 868                                                 | 0                                                   | 1                                                   | Roebling, Mr. Washington Augustus II                | male                                                | 31                                                  | 0                                                   | 0                                                   | PC 17590                                            | 50.4958                                             | A24                                                 | S                                                   |\n",
       "| 869                                                 | 0                                                   | 3                                                   | van Melkebeke, Mr. Philemon                         | male                                                | NA                                                  | 0                                                   | 0                                                   | 345777                                              |  9.5000                                             |                                                     | S                                                   |\n",
       "| 870                                                 | 1                                                   | 3                                                   | Johnson, Master. Harold Theodor                     | male                                                |  4                                                  | 1                                                   | 1                                                   | 347742                                              | 11.1333                                             |                                                     | S                                                   |\n",
       "| 871                                                 | 0                                                   | 3                                                   | Balkic, Mr. Cerin                                   | male                                                | 26                                                  | 0                                                   | 0                                                   | 349248                                              |  7.8958                                             |                                                     | S                                                   |\n",
       "| 872                                                 | 1                                                   | 1                                                   | Beckwith, Mrs. Richard Leonard (Sallie Monypeny)    | female                                              | 47                                                  | 1                                                   | 1                                                   | 11751                                               | 52.5542                                             | D35                                                 | S                                                   |\n",
       "| 873                                                 | 0                                                   | 1                                                   | Carlsson, Mr. Frans Olof                            | male                                                | 33                                                  | 0                                                   | 0                                                   | 695                                                 |  5.0000                                             | B51 B53 B55                                         | S                                                   |\n",
       "| 874                                                 | 0                                                   | 3                                                   | Vander Cruyssen, Mr. Victor                         | male                                                | 47                                                  | 0                                                   | 0                                                   | 345765                                              |  9.0000                                             |                                                     | S                                                   |\n",
       "| 875                                                 | 1                                                   | 2                                                   | Abelson, Mrs. Samuel (Hannah Wizosky)               | female                                              | 28                                                  | 1                                                   | 0                                                   | P/PP 3381                                           | 24.0000                                             |                                                     | C                                                   |\n",
       "| 876                                                 | 1                                                   | 3                                                   | Najib, Miss. Adele Kiamie \"Jane\"                    | female                                              | 15                                                  | 0                                                   | 0                                                   | 2667                                                |  7.2250                                             |                                                     | C                                                   |\n",
       "| 877                                                 | 0                                                   | 3                                                   | Gustafsson, Mr. Alfred Ossian                       | male                                                | 20                                                  | 0                                                   | 0                                                   | 7534                                                |  9.8458                                             |                                                     | S                                                   |\n",
       "| 878                                                 | 0                                                   | 3                                                   | Petroff, Mr. Nedelio                                | male                                                | 19                                                  | 0                                                   | 0                                                   | 349212                                              |  7.8958                                             |                                                     | S                                                   |\n",
       "| 879                                                 | 0                                                   | 3                                                   | Laleff, Mr. Kristo                                  | male                                                | NA                                                  | 0                                                   | 0                                                   | 349217                                              |  7.8958                                             |                                                     | S                                                   |\n",
       "| 880                                                 | 1                                                   | 1                                                   | Potter, Mrs. Thomas Jr (Lily Alexenia Wilson)       | female                                              | 56                                                  | 0                                                   | 1                                                   | 11767                                               | 83.1583                                             | C50                                                 | C                                                   |\n",
       "| 881                                                 | 1                                                   | 2                                                   | Shelley, Mrs. William (Imanita Parrish Hall)        | female                                              | 25                                                  | 0                                                   | 1                                                   | 230433                                              | 26.0000                                             |                                                     | S                                                   |\n",
       "| 882                                                 | 0                                                   | 3                                                   | Markun, Mr. Johann                                  | male                                                | 33                                                  | 0                                                   | 0                                                   | 349257                                              |  7.8958                                             |                                                     | S                                                   |\n",
       "| 883                                                 | 0                                                   | 3                                                   | Dahlberg, Miss. Gerda Ulrika                        | female                                              | 22                                                  | 0                                                   | 0                                                   | 7552                                                | 10.5167                                             |                                                     | S                                                   |\n",
       "| 884                                                 | 0                                                   | 2                                                   | Banfield, Mr. Frederick James                       | male                                                | 28                                                  | 0                                                   | 0                                                   | C.A./SOTON 34068                                    | 10.5000                                             |                                                     | S                                                   |\n",
       "| 885                                                 | 0                                                   | 3                                                   | Sutehall, Mr. Henry Jr                              | male                                                | 25                                                  | 0                                                   | 0                                                   | SOTON/OQ 392076                                     |  7.0500                                             |                                                     | S                                                   |\n",
       "| 886                                                 | 0                                                   | 3                                                   | Rice, Mrs. William (Margaret Norton)                | female                                              | 39                                                  | 0                                                   | 5                                                   | 382652                                              | 29.1250                                             |                                                     | Q                                                   |\n",
       "| 887                                                 | 0                                                   | 2                                                   | Montvila, Rev. Juozas                               | male                                                | 27                                                  | 0                                                   | 0                                                   | 211536                                              | 13.0000                                             |                                                     | S                                                   |\n",
       "| 888                                                 | 1                                                   | 1                                                   | Graham, Miss. Margaret Edith                        | female                                              | 19                                                  | 0                                                   | 0                                                   | 112053                                              | 30.0000                                             | B42                                                 | S                                                   |\n",
       "| 889                                                 | 0                                                   | 3                                                   | Johnston, Miss. Catherine Helen \"Carrie\"            | female                                              | NA                                                  | 1                                                   | 2                                                   | W./C. 6607                                          | 23.4500                                             |                                                     | S                                                   |\n",
       "| 890                                                 | 1                                                   | 1                                                   | Behr, Mr. Karl Howell                               | male                                                | 26                                                  | 0                                                   | 0                                                   | 111369                                              | 30.0000                                             | C148                                                | C                                                   |\n",
       "| 891                                                 | 0                                                   | 3                                                   | Dooley, Mr. Patrick                                 | male                                                | 32                                                  | 0                                                   | 0                                                   | 370376                                              |  7.7500                                             |                                                     | Q                                                   |\n",
       "\n"
      ],
      "text/plain": [
       "    PassengerId Survived Pclass\n",
       "1    1          0        3     \n",
       "2    2          1        1     \n",
       "3    3          1        3     \n",
       "4    4          1        1     \n",
       "5    5          0        3     \n",
       "6    6          0        3     \n",
       "7    7          0        1     \n",
       "8    8          0        3     \n",
       "9    9          1        3     \n",
       "10  10          1        2     \n",
       "11  11          1        3     \n",
       "12  12          1        1     \n",
       "13  13          0        3     \n",
       "14  14          0        3     \n",
       "15  15          0        3     \n",
       "16  16          1        2     \n",
       "17  17          0        3     \n",
       "18  18          1        2     \n",
       "19  19          0        3     \n",
       "20  20          1        3     \n",
       "21  21          0        2     \n",
       "22  22          1        2     \n",
       "23  23          1        3     \n",
       "24  24          1        1     \n",
       "25  25          0        3     \n",
       "26  26          1        3     \n",
       "27  27          0        3     \n",
       "28  28          0        1     \n",
       "29  29          1        3     \n",
       "30  30          0        3     \n",
       "... ...         ...      ...   \n",
       "862 862         0        2     \n",
       "863 863         1        1     \n",
       "864 864         0        3     \n",
       "865 865         0        2     \n",
       "866 866         1        2     \n",
       "867 867         1        2     \n",
       "868 868         0        1     \n",
       "869 869         0        3     \n",
       "870 870         1        3     \n",
       "871 871         0        3     \n",
       "872 872         1        1     \n",
       "873 873         0        1     \n",
       "874 874         0        3     \n",
       "875 875         1        2     \n",
       "876 876         1        3     \n",
       "877 877         0        3     \n",
       "878 878         0        3     \n",
       "879 879         0        3     \n",
       "880 880         1        1     \n",
       "881 881         1        2     \n",
       "882 882         0        3     \n",
       "883 883         0        3     \n",
       "884 884         0        2     \n",
       "885 885         0        3     \n",
       "886 886         0        3     \n",
       "887 887         0        2     \n",
       "888 888         1        1     \n",
       "889 889         0        3     \n",
       "890 890         1        1     \n",
       "891 891         0        3     \n",
       "    Name                                                      Sex    Age SibSp\n",
       "1   Braund, Mr. Owen Harris                                   male   22  1    \n",
       "2   Cumings, Mrs. John Bradley (Florence Briggs Thayer)       female 38  1    \n",
       "3   Heikkinen, Miss. Laina                                    female 26  0    \n",
       "4   Futrelle, Mrs. Jacques Heath (Lily May Peel)              female 35  1    \n",
       "5   Allen, Mr. William Henry                                  male   35  0    \n",
       "6   Moran, Mr. James                                          male   NA  0    \n",
       "7   McCarthy, Mr. Timothy J                                   male   54  0    \n",
       "8   Palsson, Master. Gosta Leonard                            male    2  3    \n",
       "9   Johnson, Mrs. Oscar W (Elisabeth Vilhelmina Berg)         female 27  0    \n",
       "10  Nasser, Mrs. Nicholas (Adele Achem)                       female 14  1    \n",
       "11  Sandstrom, Miss. Marguerite Rut                           female  4  1    \n",
       "12  Bonnell, Miss. Elizabeth                                  female 58  0    \n",
       "13  Saundercock, Mr. William Henry                            male   20  0    \n",
       "14  Andersson, Mr. Anders Johan                               male   39  1    \n",
       "15  Vestrom, Miss. Hulda Amanda Adolfina                      female 14  0    \n",
       "16  Hewlett, Mrs. (Mary D Kingcome)                           female 55  0    \n",
       "17  Rice, Master. Eugene                                      male    2  4    \n",
       "18  Williams, Mr. Charles Eugene                              male   NA  0    \n",
       "19  Vander Planke, Mrs. Julius (Emelia Maria Vandemoortele)   female 31  1    \n",
       "20  Masselmani, Mrs. Fatima                                   female NA  0    \n",
       "21  Fynney, Mr. Joseph J                                      male   35  0    \n",
       "22  Beesley, Mr. Lawrence                                     male   34  0    \n",
       "23  McGowan, Miss. Anna \"Annie\"                               female 15  0    \n",
       "24  Sloper, Mr. William Thompson                              male   28  0    \n",
       "25  Palsson, Miss. Torborg Danira                             female  8  3    \n",
       "26  Asplund, Mrs. Carl Oscar (Selma Augusta Emilia Johansson) female 38  1    \n",
       "27  Emir, Mr. Farred Chehab                                   male   NA  0    \n",
       "28  Fortune, Mr. Charles Alexander                            male   19  3    \n",
       "29  O'Dwyer, Miss. Ellen \"Nellie\"                             female NA  0    \n",
       "30  Todoroff, Mr. Lalio                                       male   NA  0    \n",
       "... ...                                                       ...    ... ...  \n",
       "862 Giles, Mr. Frederick Edward                               male   21  1    \n",
       "863 Swift, Mrs. Frederick Joel (Margaret Welles Barron)       female 48  0    \n",
       "864 Sage, Miss. Dorothy Edith \"Dolly\"                         female NA  8    \n",
       "865 Gill, Mr. John William                                    male   24  0    \n",
       "866 Bystrom, Mrs. (Karolina)                                  female 42  0    \n",
       "867 Duran y More, Miss. Asuncion                              female 27  1    \n",
       "868 Roebling, Mr. Washington Augustus II                      male   31  0    \n",
       "869 van Melkebeke, Mr. Philemon                               male   NA  0    \n",
       "870 Johnson, Master. Harold Theodor                           male    4  1    \n",
       "871 Balkic, Mr. Cerin                                         male   26  0    \n",
       "872 Beckwith, Mrs. Richard Leonard (Sallie Monypeny)          female 47  1    \n",
       "873 Carlsson, Mr. Frans Olof                                  male   33  0    \n",
       "874 Vander Cruyssen, Mr. Victor                               male   47  0    \n",
       "875 Abelson, Mrs. Samuel (Hannah Wizosky)                     female 28  1    \n",
       "876 Najib, Miss. Adele Kiamie \"Jane\"                          female 15  0    \n",
       "877 Gustafsson, Mr. Alfred Ossian                             male   20  0    \n",
       "878 Petroff, Mr. Nedelio                                      male   19  0    \n",
       "879 Laleff, Mr. Kristo                                        male   NA  0    \n",
       "880 Potter, Mrs. Thomas Jr (Lily Alexenia Wilson)             female 56  0    \n",
       "881 Shelley, Mrs. William (Imanita Parrish Hall)              female 25  0    \n",
       "882 Markun, Mr. Johann                                        male   33  0    \n",
       "883 Dahlberg, Miss. Gerda Ulrika                              female 22  0    \n",
       "884 Banfield, Mr. Frederick James                             male   28  0    \n",
       "885 Sutehall, Mr. Henry Jr                                    male   25  0    \n",
       "886 Rice, Mrs. William (Margaret Norton)                      female 39  0    \n",
       "887 Montvila, Rev. Juozas                                     male   27  0    \n",
       "888 Graham, Miss. Margaret Edith                              female 19  0    \n",
       "889 Johnston, Miss. Catherine Helen \"Carrie\"                  female NA  1    \n",
       "890 Behr, Mr. Karl Howell                                     male   26  0    \n",
       "891 Dooley, Mr. Patrick                                       male   32  0    \n",
       "    Parch Ticket           Fare     Cabin       Embarked\n",
       "1   0     A/5 21171          7.2500             S       \n",
       "2   0     PC 17599          71.2833 C85         C       \n",
       "3   0     STON/O2. 3101282   7.9250             S       \n",
       "4   0     113803            53.1000 C123        S       \n",
       "5   0     373450             8.0500             S       \n",
       "6   0     330877             8.4583             Q       \n",
       "7   0     17463             51.8625 E46         S       \n",
       "8   1     349909            21.0750             S       \n",
       "9   2     347742            11.1333             S       \n",
       "10  0     237736            30.0708             C       \n",
       "11  1     PP 9549           16.7000 G6          S       \n",
       "12  0     113783            26.5500 C103        S       \n",
       "13  0     A/5. 2151          8.0500             S       \n",
       "14  5     347082            31.2750             S       \n",
       "15  0     350406             7.8542             S       \n",
       "16  0     248706            16.0000             S       \n",
       "17  1     382652            29.1250             Q       \n",
       "18  0     244373            13.0000             S       \n",
       "19  0     345763            18.0000             S       \n",
       "20  0     2649               7.2250             C       \n",
       "21  0     239865            26.0000             S       \n",
       "22  0     248698            13.0000 D56         S       \n",
       "23  0     330923             8.0292             Q       \n",
       "24  0     113788            35.5000 A6          S       \n",
       "25  1     349909            21.0750             S       \n",
       "26  5     347077            31.3875             S       \n",
       "27  0     2631               7.2250             C       \n",
       "28  2     19950            263.0000 C23 C25 C27 S       \n",
       "29  0     330959             7.8792             Q       \n",
       "30  0     349216             7.8958             S       \n",
       "... ...   ...              ...      ...         ...     \n",
       "862 0     28134            11.5000              S       \n",
       "863 0     17466            25.9292  D17         S       \n",
       "864 2     CA. 2343         69.5500              S       \n",
       "865 0     233866           13.0000              S       \n",
       "866 0     236852           13.0000              S       \n",
       "867 0     SC/PARIS 2149    13.8583              C       \n",
       "868 0     PC 17590         50.4958  A24         S       \n",
       "869 0     345777            9.5000              S       \n",
       "870 1     347742           11.1333              S       \n",
       "871 0     349248            7.8958              S       \n",
       "872 1     11751            52.5542  D35         S       \n",
       "873 0     695               5.0000  B51 B53 B55 S       \n",
       "874 0     345765            9.0000              S       \n",
       "875 0     P/PP 3381        24.0000              C       \n",
       "876 0     2667              7.2250              C       \n",
       "877 0     7534              9.8458              S       \n",
       "878 0     349212            7.8958              S       \n",
       "879 0     349217            7.8958              S       \n",
       "880 1     11767            83.1583  C50         C       \n",
       "881 1     230433           26.0000              S       \n",
       "882 0     349257            7.8958              S       \n",
       "883 0     7552             10.5167              S       \n",
       "884 0     C.A./SOTON 34068 10.5000              S       \n",
       "885 0     SOTON/OQ 392076   7.0500              S       \n",
       "886 5     382652           29.1250              Q       \n",
       "887 0     211536           13.0000              S       \n",
       "888 0     112053           30.0000  B42         S       \n",
       "889 2     W./C. 6607       23.4500              S       \n",
       "890 0     111369           30.0000  C148        C       \n",
       "891 0     370376            7.7500              Q       "
      ]
     },
     "metadata": {},
     "output_type": "display_data"
    }
   ],
   "source": [
    "titanic_train"
   ]
  },
  {
   "cell_type": "code",
   "execution_count": 26,
   "metadata": {},
   "outputs": [],
   "source": [
    "titanic_train$Survived <- as.factor(titanic_train$Survived)"
   ]
  },
  {
   "cell_type": "code",
   "execution_count": 27,
   "metadata": {},
   "outputs": [],
   "source": [
    "library(rpart)"
   ]
  },
  {
   "cell_type": "code",
   "execution_count": 28,
   "metadata": {},
   "outputs": [],
   "source": [
    "arvore <- rpart(Survived ~ Sex + Age + Pclass, data = titanic_train)"
   ]
  },
  {
   "cell_type": "code",
   "execution_count": 29,
   "metadata": {},
   "outputs": [
    {
     "name": "stdout",
     "output_type": "stream",
     "text": [
      "Call:\n",
      "rpart(formula = Survived ~ Sex + Age + Pclass, data = titanic_train)\n",
      "  n= 891 \n",
      "\n",
      "          CP nsplit rel error    xerror       xstd\n",
      "1 0.44444444      0 1.0000000 1.0000000 0.04244576\n",
      "2 0.02339181      1 0.5555556 0.5555556 0.03574957\n",
      "3 0.01461988      2 0.5321637 0.5672515 0.03602071\n",
      "4 0.01169591      4 0.5029240 0.5672515 0.03602071\n",
      "5 0.01000000      6 0.4795322 0.5438596 0.03547203\n",
      "\n",
      "Variable importance\n",
      "   Sex Pclass    Age \n",
      "    70     18     12 \n",
      "\n",
      "Node number 1: 891 observations,    complexity param=0.4444444\n",
      "  predicted class=0  expected loss=0.3838384  P(node) =1\n",
      "    class counts:   549   342\n",
      "   probabilities: 0.616 0.384 \n",
      "  left son=2 (577 obs) right son=3 (314 obs)\n",
      "  Primary splits:\n",
      "      Sex    splits as  RL,       improve=124.426300, (0 missing)\n",
      "      Pclass < 2.5  to the right, improve= 43.781830, (0 missing)\n",
      "      Age    < 6.5  to the right, improve=  8.814172, (177 missing)\n",
      "\n",
      "Node number 2: 577 observations,    complexity param=0.02339181\n",
      "  predicted class=0  expected loss=0.1889081  P(node) =0.647587\n",
      "    class counts:   468   109\n",
      "   probabilities: 0.811 0.189 \n",
      "  left son=4 (553 obs) right son=5 (24 obs)\n",
      "  Primary splits:\n",
      "      Age    < 6.5  to the right, improve=10.78893, (124 missing)\n",
      "      Pclass < 1.5  to the right, improve=10.01914, (0 missing)\n",
      "\n",
      "Node number 3: 314 observations,    complexity param=0.01461988\n",
      "  predicted class=1  expected loss=0.2579618  P(node) =0.352413\n",
      "    class counts:    81   233\n",
      "   probabilities: 0.258 0.742 \n",
      "  left son=6 (144 obs) right son=7 (170 obs)\n",
      "  Primary splits:\n",
      "      Pclass < 2.5  to the right, improve=31.163130, (0 missing)\n",
      "      Age    < 12   to the left,  improve= 1.891684, (53 missing)\n",
      "  Surrogate splits:\n",
      "      Age < 18.5 to the left,  agree=0.564, adj=0.049, (0 split)\n",
      "\n",
      "Node number 4: 553 observations\n",
      "  predicted class=0  expected loss=0.1681736  P(node) =0.620651\n",
      "    class counts:   460    93\n",
      "   probabilities: 0.832 0.168 \n",
      "\n",
      "Node number 5: 24 observations\n",
      "  predicted class=1  expected loss=0.3333333  P(node) =0.02693603\n",
      "    class counts:     8    16\n",
      "   probabilities: 0.333 0.667 \n",
      "\n",
      "Node number 6: 144 observations,    complexity param=0.01461988\n",
      "  predicted class=0  expected loss=0.5  P(node) =0.1616162\n",
      "    class counts:    72    72\n",
      "   probabilities: 0.500 0.500 \n",
      "  left son=12 (12 obs) right son=13 (132 obs)\n",
      "  Primary splits:\n",
      "      Age < 38.5 to the right, improve=3.875163, (42 missing)\n",
      "\n",
      "Node number 7: 170 observations\n",
      "  predicted class=1  expected loss=0.05294118  P(node) =0.1907969\n",
      "    class counts:     9   161\n",
      "   probabilities: 0.053 0.947 \n",
      "\n",
      "Node number 12: 12 observations\n",
      "  predicted class=0  expected loss=0.08333333  P(node) =0.01346801\n",
      "    class counts:    11     1\n",
      "   probabilities: 0.917 0.083 \n",
      "\n",
      "Node number 13: 132 observations,    complexity param=0.01169591\n",
      "  predicted class=1  expected loss=0.4621212  P(node) =0.1481481\n",
      "    class counts:    61    71\n",
      "   probabilities: 0.462 0.538 \n",
      "  left son=26 (117 obs) right son=27 (15 obs)\n",
      "  Primary splits:\n",
      "      Age < 5.5  to the right, improve=1.777778, (42 missing)\n",
      "\n",
      "Node number 26: 117 observations,    complexity param=0.01169591\n",
      "  predicted class=1  expected loss=0.4871795  P(node) =0.1313131\n",
      "    class counts:    57    60\n",
      "   probabilities: 0.487 0.513 \n",
      "  left son=52 (8 obs) right son=53 (109 obs)\n",
      "  Primary splits:\n",
      "      Age < 12   to the left,  improve=3.900498, (42 missing)\n",
      "\n",
      "Node number 27: 15 observations\n",
      "  predicted class=1  expected loss=0.2666667  P(node) =0.01683502\n",
      "    class counts:     4    11\n",
      "   probabilities: 0.267 0.733 \n",
      "\n",
      "Node number 52: 8 observations\n",
      "  predicted class=0  expected loss=0  P(node) =0.008978676\n",
      "    class counts:     8     0\n",
      "   probabilities: 1.000 0.000 \n",
      "\n",
      "Node number 53: 109 observations\n",
      "  predicted class=1  expected loss=0.4495413  P(node) =0.1223345\n",
      "    class counts:    49    60\n",
      "   probabilities: 0.450 0.550 \n",
      "\n"
     ]
    }
   ],
   "source": [
    "summary(arvore)"
   ]
  },
  {
   "cell_type": "code",
   "execution_count": 32,
   "metadata": {},
   "outputs": [],
   "source": [
    "# install.packages(\"rpart.plot\")\n",
    "library(rpart.plot)"
   ]
  },
  {
   "cell_type": "code",
   "execution_count": 33,
   "metadata": {},
   "outputs": [
    {
     "data": {
      "image/png": "[encoded data removed]",
      "text/plain": [
       "plot without title"
      ]
     },
     "metadata": {},
     "output_type": "display_data"
    }
   ],
   "source": [
    "rpart.plot(arvore)"
   ]
  },
  {
   "cell_type": "code",
   "execution_count": null,
   "metadata": {},
   "outputs": [],
   "source": []
  }
 ],
 "metadata": {
  "kernelspec": {
   "display_name": "R",
   "language": "R",
   "name": "ir"
  },
  "language_info": {
   "codemirror_mode": "r",
   "file_extension": ".r",
   "mimetype": "text/x-r-source",
   "name": "R",
   "pygments_lexer": "r",
   "version": "3.6.0"
  }
 },
 "nbformat": 4,
 "nbformat_minor": 2
}
