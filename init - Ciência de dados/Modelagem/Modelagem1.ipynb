{
 "cells": [
  {
   "cell_type": "markdown",
   "metadata": {},
   "source": [
    "# Modelagem"
   ]
  },
  {
   "cell_type": "markdown",
   "metadata": {},
   "source": [
    "## Aprendizado Estatístico"
   ]
  },
  {
   "cell_type": "markdown",
   "metadata": {},
   "source": [
    "- **Aprendizado supervisionado:** Envolve a construção de um modelo estatístico para prever ou estimar uma *resposta* de acordo com uma ou mais informações de entrada.\n",
    "- **Aprendizado não-supervisionado:** Existem variáveis de entrada mas não existe uma variável resposta.\n",
    "\n",
    "### O objetivo é entender a estrutura e a relação entre as variáveis."
   ]
  },
  {
   "cell_type": "markdown",
   "metadata": {},
   "source": [
    "## Aprendizado Supervisionado\n",
    "\n",
    "- Em aprendizado supervisionado é necessário em primeiro lugar definir qual é a sua variável resposta ou variável dependente (Frequentemente chamada de **Y**)"
   ]
  },
  {
   "cell_type": "markdown",
   "metadata": {},
   "source": [
    "### Exemplos de algoritmos:\n",
    "- Regressão linear\n",
    "- Regressão logística\n",
    "- Árvore de decisão\n",
    "- Florestas aleatórias (Random Forest)\n",
    "- Gradient Boosting\n",
    "- Redes neurais\n",
    "- Etc..."
   ]
  },
  {
   "cell_type": "markdown",
   "metadata": {},
   "source": [
    "### Exemplo: Regressão Linear\n",
    "- Utilizando como dados o *percentual de gordura corporal*"
   ]
  },
  {
   "cell_type": "code",
   "execution_count": 5,
   "metadata": {},
   "outputs": [],
   "source": [
    "# Carregando os pacotes\n",
    "library(readxl)\n",
    "library(dplyr)\n",
    "library(ggplot2)"
   ]
  },
  {
   "cell_type": "code",
   "execution_count": 6,
   "metadata": {},
   "outputs": [],
   "source": [
    "# Carregando o banco de dados\n",
    "bodyfat <- read_excel('dados/BodyFat.xls')"
   ]
  },
  {
   "cell_type": "code",
   "execution_count": 7,
   "metadata": {},
   "outputs": [
    {
     "data": {
      "text/html": [
       "<table>\n",
       "<thead><tr><th scope=col>IDNO</th><th scope=col>BODYFAT</th><th scope=col>DENSITY</th><th scope=col>AGE</th><th scope=col>WEIGHT</th><th scope=col>HEIGHT</th><th scope=col>ADIPOSITY</th><th scope=col>NECK</th><th scope=col>CHEST</th><th scope=col>ABDOMEN</th><th scope=col>HIP</th><th scope=col>THIGH</th><th scope=col>KNEE</th><th scope=col>ANKLE</th><th scope=col>BICEPS</th><th scope=col>FOREARM</th><th scope=col>WRIST</th></tr></thead>\n",
       "<tbody>\n",
       "\t<tr><td>1     </td><td>12.6  </td><td>1.0708</td><td>23    </td><td>154.25</td><td>67.75 </td><td>23.7  </td><td>36.2  </td><td> 93.1 </td><td> 85.2 </td><td> 94.5 </td><td>59.0  </td><td>37.3  </td><td>21.9  </td><td>32.0  </td><td>27.4  </td><td>17.1  </td></tr>\n",
       "\t<tr><td>2     </td><td> 6.9  </td><td>1.0853</td><td>22    </td><td>173.25</td><td>72.25 </td><td>23.4  </td><td>38.5  </td><td> 93.6 </td><td> 83.0 </td><td> 98.7 </td><td>58.7  </td><td>37.3  </td><td>23.4  </td><td>30.5  </td><td>28.9  </td><td>18.2  </td></tr>\n",
       "\t<tr><td>3     </td><td>24.6  </td><td>1.0414</td><td>22    </td><td>154.00</td><td>66.25 </td><td>24.7  </td><td>34.0  </td><td> 95.8 </td><td> 87.9 </td><td> 99.2 </td><td>59.6  </td><td>38.9  </td><td>24.0  </td><td>28.8  </td><td>25.2  </td><td>16.6  </td></tr>\n",
       "\t<tr><td>4     </td><td>10.9  </td><td>1.0751</td><td>26    </td><td>184.75</td><td>72.25 </td><td>24.9  </td><td>37.4  </td><td>101.8 </td><td> 86.4 </td><td>101.2 </td><td>60.1  </td><td>37.3  </td><td>22.8  </td><td>32.4  </td><td>29.4  </td><td>18.2  </td></tr>\n",
       "\t<tr><td>5     </td><td>27.8  </td><td>1.0340</td><td>24    </td><td>184.25</td><td>71.25 </td><td>25.6  </td><td>34.4  </td><td> 97.3 </td><td>100.0 </td><td>101.9 </td><td>63.2  </td><td>42.2  </td><td>24.0  </td><td>32.2  </td><td>27.7  </td><td>17.7  </td></tr>\n",
       "\t<tr><td>6     </td><td>20.6  </td><td>1.0502</td><td>24    </td><td>210.25</td><td>74.75 </td><td>26.5  </td><td>39.0  </td><td>104.5 </td><td> 94.4 </td><td>107.8 </td><td>66.0  </td><td>42.0  </td><td>25.6  </td><td>35.7  </td><td>30.6  </td><td>18.8  </td></tr>\n",
       "</tbody>\n",
       "</table>\n"
      ],
      "text/latex": [
       "\\begin{tabular}{r|lllllllllllllllll}\n",
       " IDNO & BODYFAT & DENSITY & AGE & WEIGHT & HEIGHT & ADIPOSITY & NECK & CHEST & ABDOMEN & HIP & THIGH & KNEE & ANKLE & BICEPS & FOREARM & WRIST\\\\\n",
       "\\hline\n",
       "\t 1      & 12.6   & 1.0708 & 23     & 154.25 & 67.75  & 23.7   & 36.2   &  93.1  &  85.2  &  94.5  & 59.0   & 37.3   & 21.9   & 32.0   & 27.4   & 17.1  \\\\\n",
       "\t 2      &  6.9   & 1.0853 & 22     & 173.25 & 72.25  & 23.4   & 38.5   &  93.6  &  83.0  &  98.7  & 58.7   & 37.3   & 23.4   & 30.5   & 28.9   & 18.2  \\\\\n",
       "\t 3      & 24.6   & 1.0414 & 22     & 154.00 & 66.25  & 24.7   & 34.0   &  95.8  &  87.9  &  99.2  & 59.6   & 38.9   & 24.0   & 28.8   & 25.2   & 16.6  \\\\\n",
       "\t 4      & 10.9   & 1.0751 & 26     & 184.75 & 72.25  & 24.9   & 37.4   & 101.8  &  86.4  & 101.2  & 60.1   & 37.3   & 22.8   & 32.4   & 29.4   & 18.2  \\\\\n",
       "\t 5      & 27.8   & 1.0340 & 24     & 184.25 & 71.25  & 25.6   & 34.4   &  97.3  & 100.0  & 101.9  & 63.2   & 42.2   & 24.0   & 32.2   & 27.7   & 17.7  \\\\\n",
       "\t 6      & 20.6   & 1.0502 & 24     & 210.25 & 74.75  & 26.5   & 39.0   & 104.5  &  94.4  & 107.8  & 66.0   & 42.0   & 25.6   & 35.7   & 30.6   & 18.8  \\\\\n",
       "\\end{tabular}\n"
      ],
      "text/markdown": [
       "\n",
       "| IDNO | BODYFAT | DENSITY | AGE | WEIGHT | HEIGHT | ADIPOSITY | NECK | CHEST | ABDOMEN | HIP | THIGH | KNEE | ANKLE | BICEPS | FOREARM | WRIST |\n",
       "|---|---|---|---|---|---|---|---|---|---|---|---|---|---|---|---|---|\n",
       "| 1      | 12.6   | 1.0708 | 23     | 154.25 | 67.75  | 23.7   | 36.2   |  93.1  |  85.2  |  94.5  | 59.0   | 37.3   | 21.9   | 32.0   | 27.4   | 17.1   |\n",
       "| 2      |  6.9   | 1.0853 | 22     | 173.25 | 72.25  | 23.4   | 38.5   |  93.6  |  83.0  |  98.7  | 58.7   | 37.3   | 23.4   | 30.5   | 28.9   | 18.2   |\n",
       "| 3      | 24.6   | 1.0414 | 22     | 154.00 | 66.25  | 24.7   | 34.0   |  95.8  |  87.9  |  99.2  | 59.6   | 38.9   | 24.0   | 28.8   | 25.2   | 16.6   |\n",
       "| 4      | 10.9   | 1.0751 | 26     | 184.75 | 72.25  | 24.9   | 37.4   | 101.8  |  86.4  | 101.2  | 60.1   | 37.3   | 22.8   | 32.4   | 29.4   | 18.2   |\n",
       "| 5      | 27.8   | 1.0340 | 24     | 184.25 | 71.25  | 25.6   | 34.4   |  97.3  | 100.0  | 101.9  | 63.2   | 42.2   | 24.0   | 32.2   | 27.7   | 17.7   |\n",
       "| 6      | 20.6   | 1.0502 | 24     | 210.25 | 74.75  | 26.5   | 39.0   | 104.5  |  94.4  | 107.8  | 66.0   | 42.0   | 25.6   | 35.7   | 30.6   | 18.8   |\n",
       "\n"
      ],
      "text/plain": [
       "  IDNO BODYFAT DENSITY AGE WEIGHT HEIGHT ADIPOSITY NECK CHEST ABDOMEN HIP  \n",
       "1 1    12.6    1.0708  23  154.25 67.75  23.7      36.2  93.1  85.2    94.5\n",
       "2 2     6.9    1.0853  22  173.25 72.25  23.4      38.5  93.6  83.0    98.7\n",
       "3 3    24.6    1.0414  22  154.00 66.25  24.7      34.0  95.8  87.9    99.2\n",
       "4 4    10.9    1.0751  26  184.75 72.25  24.9      37.4 101.8  86.4   101.2\n",
       "5 5    27.8    1.0340  24  184.25 71.25  25.6      34.4  97.3 100.0   101.9\n",
       "6 6    20.6    1.0502  24  210.25 74.75  26.5      39.0 104.5  94.4   107.8\n",
       "  THIGH KNEE ANKLE BICEPS FOREARM WRIST\n",
       "1 59.0  37.3 21.9  32.0   27.4    17.1 \n",
       "2 58.7  37.3 23.4  30.5   28.9    18.2 \n",
       "3 59.6  38.9 24.0  28.8   25.2    16.6 \n",
       "4 60.1  37.3 22.8  32.4   29.4    18.2 \n",
       "5 63.2  42.2 24.0  32.2   27.7    17.7 \n",
       "6 66.0  42.0 25.6  35.7   30.6    18.8 "
      ]
     },
     "metadata": {},
     "output_type": "display_data"
    }
   ],
   "source": [
    "head(bodyfat)"
   ]
  },
  {
   "cell_type": "code",
   "execution_count": 8,
   "metadata": {},
   "outputs": [
    {
     "data": {
      "image/png": "[encoded data removed]",
      "text/plain": [
       "plot without title"
      ]
     },
     "metadata": {},
     "output_type": "display_data"
    }
   ],
   "source": [
    "# Gráfico de dispersão\n",
    "ggplot(bodyfat, aes(x = WEIGHT, y = BODYFAT)) + geom_point()"
   ]
  },
  {
   "cell_type": "code",
   "execution_count": 9,
   "metadata": {},
   "outputs": [],
   "source": [
    "# Ajustando o modelo\n",
    "ajuste <- lm(BODYFAT ~ WEIGHT, data = bodyfat)"
   ]
  },
  {
   "cell_type": "code",
   "execution_count": 10,
   "metadata": {},
   "outputs": [
    {
     "data": {
      "text/plain": [
       "\n",
       "Call:\n",
       "lm(formula = BODYFAT ~ WEIGHT, data = bodyfat)\n",
       "\n",
       "Residuals:\n",
       "    Min      1Q  Median      3Q     Max \n",
       "-16.434  -4.315   0.079   4.540  19.681 \n",
       "\n",
       "Coefficients:\n",
       "            Estimate Std. Error t value Pr(>|t|)    \n",
       "(Intercept) -9.99515    2.38906  -4.184 3.97e-05 ***\n",
       "WEIGHT       0.16171    0.01318  12.273  < 2e-16 ***\n",
       "---\n",
       "Signif. codes:  0 '***' 0.001 '**' 0.01 '*' 0.05 '.' 0.1 ' ' 1\n",
       "\n",
       "Residual standard error: 6.135 on 250 degrees of freedom\n",
       "Multiple R-squared:  0.376,\tAdjusted R-squared:  0.3735 \n",
       "F-statistic: 150.6 on 1 and 250 DF,  p-value: < 2.2e-16\n"
      ]
     },
     "metadata": {},
     "output_type": "display_data"
    }
   ],
   "source": [
    "summary(ajuste)"
   ]
  },
  {
   "cell_type": "code",
   "execution_count": 12,
   "metadata": {},
   "outputs": [
    {
     "name": "stdout",
     "output_type": "stream",
     "text": [
      "List of 12\n",
      " $ coefficients : Named num [1:2] -9.995 0.162\n",
      "  ..- attr(*, \"names\")= chr [1:2] \"(Intercept)\" \"WEIGHT\"\n",
      " $ residuals    : Named num [1:252] -2.35 -11.12 9.69 -8.98 8 ...\n",
      "  ..- attr(*, \"names\")= chr [1:252] \"1\" \"2\" \"3\" \"4\" ...\n",
      " $ effects      : Named num [1:252] -300.64 75.29 10.38 -9.01 7.98 ...\n",
      "  ..- attr(*, \"names\")= chr [1:252] \"(Intercept)\" \"WEIGHT\" \"\" \"\" ...\n",
      " $ rank         : int 2\n",
      " $ fitted.values: Named num [1:252] 14.9 18 14.9 19.9 19.8 ...\n",
      "  ..- attr(*, \"names\")= chr [1:252] \"1\" \"2\" \"3\" \"4\" ...\n",
      " $ assign       : int [1:2] 0 1\n",
      " $ qr           :List of 5\n",
      "  ..- attr(*, \"class\")= chr \"qr\"\n",
      " $ df.residual  : int 250\n",
      " $ xlevels      : Named list()\n",
      " $ call         : language lm(formula = BODYFAT ~ WEIGHT, data = bodyfat)\n",
      " $ terms        :Classes 'terms', 'formula'  language BODYFAT ~ WEIGHT\n",
      "  .. ..- attr(*, \"variables\")= language list(BODYFAT, WEIGHT)\n",
      "  .. ..- attr(*, \"factors\")= int [1:2, 1] 0 1\n",
      "  .. .. ..- attr(*, \"dimnames\")=List of 2\n",
      "  .. ..- attr(*, \"term.labels\")= chr \"WEIGHT\"\n",
      "  .. ..- attr(*, \"order\")= int 1\n",
      "  .. ..- attr(*, \"intercept\")= int 1\n",
      "  .. ..- attr(*, \"response\")= int 1\n",
      "  .. ..- attr(*, \".Environment\")=<environment: R_GlobalEnv> \n",
      "  .. ..- attr(*, \"predvars\")= language list(BODYFAT, WEIGHT)\n",
      "  .. ..- attr(*, \"dataClasses\")= Named chr [1:2] \"numeric\" \"numeric\"\n",
      "  .. .. ..- attr(*, \"names\")= chr [1:2] \"BODYFAT\" \"WEIGHT\"\n",
      " $ model        :'data.frame':\t252 obs. of  2 variables:\n",
      "  ..- attr(*, \"terms\")=Classes 'terms', 'formula'  language BODYFAT ~ WEIGHT\n",
      "  .. .. ..- attr(*, \"variables\")= language list(BODYFAT, WEIGHT)\n",
      "  .. .. ..- attr(*, \"factors\")= int [1:2, 1] 0 1\n",
      "  .. .. .. ..- attr(*, \"dimnames\")=List of 2\n",
      "  .. .. ..- attr(*, \"term.labels\")= chr \"WEIGHT\"\n",
      "  .. .. ..- attr(*, \"order\")= int 1\n",
      "  .. .. ..- attr(*, \"intercept\")= int 1\n",
      "  .. .. ..- attr(*, \"response\")= int 1\n",
      "  .. .. ..- attr(*, \".Environment\")=<environment: R_GlobalEnv> \n",
      "  .. .. ..- attr(*, \"predvars\")= language list(BODYFAT, WEIGHT)\n",
      "  .. .. ..- attr(*, \"dataClasses\")= Named chr [1:2] \"numeric\" \"numeric\"\n",
      "  .. .. .. ..- attr(*, \"names\")= chr [1:2] \"BODYFAT\" \"WEIGHT\"\n",
      " - attr(*, \"class\")= chr \"lm\"\n"
     ]
    }
   ],
   "source": [
    "str(ajuste, max.level = 1)"
   ]
  },
  {
   "cell_type": "code",
   "execution_count": 13,
   "metadata": {},
   "outputs": [
    {
     "data": {
      "text/html": [
       "<dl class=dl-horizontal>\n",
       "\t<dt>(Intercept)</dt>\n",
       "\t\t<dd>-9.99515097421735</dd>\n",
       "\t<dt>WEIGHT</dt>\n",
       "\t\t<dd>0.161708756702092</dd>\n",
       "</dl>\n"
      ],
      "text/latex": [
       "\\begin{description*}\n",
       "\\item[(Intercept)] -9.99515097421735\n",
       "\\item[WEIGHT] 0.161708756702092\n",
       "\\end{description*}\n"
      ],
      "text/markdown": [
       "(Intercept)\n",
       ":   -9.99515097421735WEIGHT\n",
       ":   0.161708756702092\n",
       "\n"
      ],
      "text/plain": [
       "(Intercept)      WEIGHT \n",
       " -9.9951510   0.1617088 "
      ]
     },
     "metadata": {},
     "output_type": "display_data"
    }
   ],
   "source": [
    "# Acessando os coeficientes do modelo\n",
    "ajuste$coefficients"
   ]
  },
  {
   "cell_type": "code",
   "execution_count": 14,
   "metadata": {},
   "outputs": [
    {
     "data": {
      "text/plain": [
       "\n",
       "\n",
       "| WEIGHT| BODYFAT| predito_modelo1|\n",
       "|------:|-------:|---------------:|\n",
       "| 154.25|    12.6|        14.94842|\n",
       "| 173.25|     6.9|        18.02089|\n",
       "| 154.00|    24.6|        14.90800|\n",
       "| 184.75|    10.9|        19.88054|\n",
       "| 184.25|    27.8|        19.79969|\n",
       "| 210.25|    20.6|        24.00412|"
      ]
     },
     "metadata": {},
     "output_type": "display_data"
    }
   ],
   "source": [
    "bodyfat$predito_modelo1 <- predict(ajuste, newdata = bodyfat)\n",
    "bodyfat  %>% select(WEIGHT, BODYFAT, predito_modelo1)  %>% head()  %>% knitr::kable()"
   ]
  },
  {
   "cell_type": "code",
   "execution_count": 15,
   "metadata": {},
   "outputs": [
    {
     "data": {
      "text/html": [
       "37.3408860081708"
      ],
      "text/latex": [
       "37.3408860081708"
      ],
      "text/markdown": [
       "37.3408860081708"
      ],
      "text/plain": [
       "[1] 37.34089"
      ]
     },
     "metadata": {},
     "output_type": "display_data"
    }
   ],
   "source": [
    "# Calculando o erro quadrático médio do modelo\n",
    "mse <- mean((bodyfat$BODYFAT - bodyfat$predito_modelo1)^2)\n",
    "mse"
   ]
  },
  {
   "cell_type": "code",
   "execution_count": 16,
   "metadata": {},
   "outputs": [
    {
     "data": {
      "text/html": [
       "59.8373675673973"
      ],
      "text/latex": [
       "59.8373675673973"
      ],
      "text/markdown": [
       "59.8373675673973"
      ],
      "text/plain": [
       "[1] 59.83737"
      ]
     },
     "metadata": {},
     "output_type": "display_data"
    }
   ],
   "source": [
    "# Identificando se o erro é baixo ou não\n",
    "erro_usando_media <- mean((bodyfat$BODYFAT - mean(bodyfat$BODYFAT))^2)\n",
    "erro_usando_media"
   ]
  },
  {
   "cell_type": "code",
   "execution_count": 17,
   "metadata": {},
   "outputs": [
    {
     "name": "stdout",
     "output_type": "stream",
     "text": [
      "[1] 6.110719\n",
      "[1] 7.735462\n"
     ]
    }
   ],
   "source": [
    "print(sqrt(mse))\n",
    "print(sqrt(erro_usando_media))"
   ]
  },
  {
   "cell_type": "code",
   "execution_count": 19,
   "metadata": {},
   "outputs": [],
   "source": [
    "# Melhorando o modelo adicionando mais variáveis\n",
    "ajuste2 <- lm(BODYFAT ~ WEIGHT + HEIGHT + CHEST + ABDOMEN + NECK + KNEE, data = bodyfat)"
   ]
  },
  {
   "cell_type": "code",
   "execution_count": 20,
   "metadata": {},
   "outputs": [
    {
     "data": {
      "text/plain": [
       "\n",
       "Call:\n",
       "lm(formula = BODYFAT ~ WEIGHT + HEIGHT + CHEST + ABDOMEN + NECK + \n",
       "    KNEE, data = bodyfat)\n",
       "\n",
       "Residuals:\n",
       "    Min      1Q  Median      3Q     Max \n",
       "-10.898  -3.050  -0.097   2.870  10.216 \n",
       "\n",
       "Coefficients:\n",
       "             Estimate Std. Error t value Pr(>|t|)    \n",
       "(Intercept) -26.33580   10.92726  -2.410  0.01669 *  \n",
       "WEIGHT       -0.10530    0.03266  -3.224  0.00144 ** \n",
       "HEIGHT       -0.11242    0.08275  -1.358  0.17557    \n",
       "CHEST         0.01840    0.08792   0.209  0.83439    \n",
       "ABDOMEN       0.88199    0.06806  12.959  < 2e-16 ***\n",
       "NECK         -0.39079    0.19561  -1.998  0.04684 *  \n",
       "KNEE          0.08702    0.21077   0.413  0.68006    \n",
       "---\n",
       "Signif. codes:  0 '***' 0.001 '**' 0.01 '*' 0.05 '.' 0.1 ' ' 1\n",
       "\n",
       "Residual standard error: 4.107 on 245 degrees of freedom\n",
       "Multiple R-squared:  0.726,\tAdjusted R-squared:  0.7192 \n",
       "F-statistic: 108.2 on 6 and 245 DF,  p-value: < 2.2e-16\n"
      ]
     },
     "metadata": {},
     "output_type": "display_data"
    }
   ],
   "source": [
    "summary(ajuste2)"
   ]
  },
  {
   "cell_type": "code",
   "execution_count": 21,
   "metadata": {},
   "outputs": [
    {
     "data": {
      "text/html": [
       "<dl class=dl-horizontal>\n",
       "\t<dt>(Intercept)</dt>\n",
       "\t\t<dd>-26.3357966003562</dd>\n",
       "\t<dt>WEIGHT</dt>\n",
       "\t\t<dd>-0.105295168560593</dd>\n",
       "\t<dt>HEIGHT</dt>\n",
       "\t\t<dd>-0.112416987302196</dd>\n",
       "\t<dt>CHEST</dt>\n",
       "\t\t<dd>0.0184005997653293</dd>\n",
       "\t<dt>ABDOMEN</dt>\n",
       "\t\t<dd>0.881991044224811</dd>\n",
       "\t<dt>NECK</dt>\n",
       "\t\t<dd>-0.390787014320349</dd>\n",
       "\t<dt>KNEE</dt>\n",
       "\t\t<dd>0.0870199149222644</dd>\n",
       "</dl>\n"
      ],
      "text/latex": [
       "\\begin{description*}\n",
       "\\item[(Intercept)] -26.3357966003562\n",
       "\\item[WEIGHT] -0.105295168560593\n",
       "\\item[HEIGHT] -0.112416987302196\n",
       "\\item[CHEST] 0.0184005997653293\n",
       "\\item[ABDOMEN] 0.881991044224811\n",
       "\\item[NECK] -0.390787014320349\n",
       "\\item[KNEE] 0.0870199149222644\n",
       "\\end{description*}\n"
      ],
      "text/markdown": [
       "(Intercept)\n",
       ":   -26.3357966003562WEIGHT\n",
       ":   -0.105295168560593HEIGHT\n",
       ":   -0.112416987302196CHEST\n",
       ":   0.0184005997653293ABDOMEN\n",
       ":   0.881991044224811NECK\n",
       ":   -0.390787014320349KNEE\n",
       ":   0.0870199149222644\n",
       "\n"
      ],
      "text/plain": [
       " (Intercept)       WEIGHT       HEIGHT        CHEST      ABDOMEN         NECK \n",
       "-26.33579660  -0.10529517  -0.11241699   0.01840060   0.88199104  -0.39078701 \n",
       "        KNEE \n",
       "  0.08701991 "
      ]
     },
     "metadata": {},
     "output_type": "display_data"
    }
   ],
   "source": [
    "ajuste2$coefficients"
   ]
  },
  {
   "cell_type": "code",
   "execution_count": 23,
   "metadata": {},
   "outputs": [
    {
     "data": {
      "text/html": [
       "4.04945271827805"
      ],
      "text/latex": [
       "4.04945271827805"
      ],
      "text/markdown": [
       "4.04945271827805"
      ],
      "text/plain": [
       "[1] 4.049453"
      ]
     },
     "metadata": {},
     "output_type": "display_data"
    }
   ],
   "source": [
    "# Calculando o erro\n",
    "bodyfat$predito_modelo2 <- predict(ajuste2, newdata = bodyfat)\n",
    "mse <- mean((bodyfat$BODYFAT - bodyfat$predito_modelo2)^2)\n",
    "sqrt(mse)"
   ]
  },
  {
   "cell_type": "markdown",
   "metadata": {},
   "source": [
    "### Ajustar um modelo de regressão linear:\n",
    "- Usaremos a função **lm** que recebe um fórmula de especificação do modelo e um data.frame\n",
    "- A função **lm** retorna um objeto do tipo **lm**, que é um **list** que armazena diversas informações sobre o ajuste\n",
    "- A função **summary** e a função **str** ajudam a identificar o conteúdo do objeto do modelo\n",
    "- A função **predict** é usada para aplicar o modelo em um novo banco de dados"
   ]
  },
  {
   "cell_type": "markdown",
   "metadata": {},
   "source": [
    "----"
   ]
  },
  {
   "cell_type": "code",
   "execution_count": null,
   "metadata": {},
   "outputs": [],
   "source": []
  }
 ],
 "metadata": {
  "kernelspec": {
   "display_name": "R",
   "language": "R",
   "name": "ir"
  },
  "language_info": {
   "codemirror_mode": "r",
   "file_extension": ".r",
   "mimetype": "text/x-r-source",
   "name": "R",
   "pygments_lexer": "r",
   "version": "3.6.0"
  }
 },
 "nbformat": 4,
 "nbformat_minor": 2
}
