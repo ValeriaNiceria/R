{
 "cells": [
  {
   "cell_type": "markdown",
   "metadata": {},
   "source": [
    "# Visualização dos dados"
   ]
  },
  {
   "cell_type": "code",
   "execution_count": 10,
   "metadata": {},
   "outputs": [
    {
     "ename": "ERROR",
     "evalue": "Error in read.table(\"painel-saneamento-brasil-2017.csv\", header = TRUE, : more columns than column names\n",
     "output_type": "error",
     "traceback": [
      "Error in read.table(\"painel-saneamento-brasil-2017.csv\", header = TRUE, : more columns than column names\nTraceback:\n",
      "1. read.table(\"painel-saneamento-brasil-2017.csv\", header = TRUE, \n .     sep = \",\")",
      "2. stop(\"more columns than column names\")"
     ]
    }
   ],
   "source": [
    "# Lendo os dados\n",
    "dados <- read.table('painel-saneamento-brasil-2017.csv', header = TRUE, sep = \",\")"
   ]
  },
  {
   "cell_type": "code",
   "execution_count": null,
   "metadata": {},
   "outputs": [],
   "source": [
    "dados"
   ]
  },
  {
   "cell_type": "code",
   "execution_count": null,
   "metadata": {},
   "outputs": [],
   "source": []
  }
 ],
 "metadata": {
  "kernelspec": {
   "display_name": "R",
   "language": "R",
   "name": "ir"
  },
  "language_info": {
   "codemirror_mode": "r",
   "file_extension": ".r",
   "mimetype": "text/x-r-source",
   "name": "R",
   "pygments_lexer": "r",
   "version": "3.6.0"
  }
 },
 "nbformat": 4,
 "nbformat_minor": 2
}
