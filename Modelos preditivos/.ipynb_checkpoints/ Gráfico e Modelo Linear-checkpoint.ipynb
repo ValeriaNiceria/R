{
 "cells": [
  {
   "cell_type": "markdown",
   "metadata": {},
   "source": [
    "# Gráfico e Modelo Linear"
   ]
  },
  {
   "cell_type": "code",
   "execution_count": 10,
   "metadata": {},
   "outputs": [
    {
     "name": "stderr",
     "output_type": "stream",
     "text": [
      "Updating HTML index of packages in '.Library'\n",
      "Making 'packages.html' ... done\n",
      "\n",
      "Attaching package: ‘openxlsx’\n",
      "\n",
      "The following objects are masked from ‘package:xlsx’:\n",
      "\n",
      "    createWorkbook, loadWorkbook, read.xlsx, saveWorkbook, write.xlsx\n",
      "\n"
     ]
    }
   ],
   "source": [
    "# instalado pacotes\n",
    "# install.packages('openxlsx')\n",
    "\n",
    "# Carregando pacotes\n",
    "library(openxlsx)"
   ]
  },
  {
   "cell_type": "code",
   "execution_count": 12,
   "metadata": {},
   "outputs": [],
   "source": [
    "# Lendo os dados\n",
    "aulas <- read.xlsx('dados/aulas.xlsx')\n",
    "cursos <- read.csv('dados/cursos.csv')\n",
    "duracao <- read.csv('dados/duracao.csv')"
   ]
  },
  {
   "cell_type": "code",
   "execution_count": 15,
   "metadata": {},
   "outputs": [
    {
     "data": {
      "text/html": [
       "<table>\n",
       "<thead><tr><th scope=col>user_id</th><th scope=col>course_id</th><th scope=col>section_id</th></tr></thead>\n",
       "<tbody>\n",
       "\t<tr><td> 18 </td><td> 88 </td><td>1815</td></tr>\n",
       "\t<tr><td> 19 </td><td>104 </td><td>1941</td></tr>\n",
       "\t<tr><td> 19 </td><td>215 </td><td>3526</td></tr>\n",
       "\t<tr><td> 19 </td><td>215 </td><td>3527</td></tr>\n",
       "\t<tr><td> 18 </td><td> 88 </td><td>1816</td></tr>\n",
       "\t<tr><td>114 </td><td> 37 </td><td> 584</td></tr>\n",
       "</tbody>\n",
       "</table>\n"
      ],
      "text/latex": [
       "\\begin{tabular}{r|lll}\n",
       " user\\_id & course\\_id & section\\_id\\\\\n",
       "\\hline\n",
       "\t  18  &  88  & 1815\\\\\n",
       "\t  19  & 104  & 1941\\\\\n",
       "\t  19  & 215  & 3526\\\\\n",
       "\t  19  & 215  & 3527\\\\\n",
       "\t  18  &  88  & 1816\\\\\n",
       "\t 114  &  37  &  584\\\\\n",
       "\\end{tabular}\n"
      ],
      "text/markdown": [
       "\n",
       "user_id | course_id | section_id | \n",
       "|---|---|---|---|---|---|\n",
       "|  18  |  88  | 1815 | \n",
       "|  19  | 104  | 1941 | \n",
       "|  19  | 215  | 3526 | \n",
       "|  19  | 215  | 3527 | \n",
       "|  18  |  88  | 1816 | \n",
       "| 114  |  37  |  584 | \n",
       "\n",
       "\n"
      ],
      "text/plain": [
       "  user_id course_id section_id\n",
       "1  18      88       1815      \n",
       "2  19     104       1941      \n",
       "3  19     215       3526      \n",
       "4  19     215       3527      \n",
       "5  18      88       1816      \n",
       "6 114      37        584      "
      ]
     },
     "metadata": {},
     "output_type": "display_data"
    }
   ],
   "source": [
    "# Vendo as primeiras linhas do dado\n",
    "head(aulas)"
   ]
  },
  {
   "cell_type": "code",
   "execution_count": 16,
   "metadata": {},
   "outputs": [
    {
     "data": {
      "text/html": [
       "<table>\n",
       "<thead><tr><th scope=col>X</th><th scope=col>id</th><th scope=col>user_id</th><th scope=col>course_id</th></tr></thead>\n",
       "<tbody>\n",
       "\t<tr><td>1  </td><td>1  </td><td> 18</td><td> 88</td></tr>\n",
       "\t<tr><td>2  </td><td>2  </td><td> 19</td><td>104</td></tr>\n",
       "\t<tr><td>3  </td><td>3  </td><td> 19</td><td>215</td></tr>\n",
       "\t<tr><td>4  </td><td>4  </td><td> 19</td><td>215</td></tr>\n",
       "\t<tr><td>5  </td><td>5  </td><td> 18</td><td> 88</td></tr>\n",
       "\t<tr><td>6  </td><td>6  </td><td>114</td><td> 37</td></tr>\n",
       "</tbody>\n",
       "</table>\n"
      ],
      "text/latex": [
       "\\begin{tabular}{r|llll}\n",
       " X & id & user\\_id & course\\_id\\\\\n",
       "\\hline\n",
       "\t 1   & 1   &  18 &  88\\\\\n",
       "\t 2   & 2   &  19 & 104\\\\\n",
       "\t 3   & 3   &  19 & 215\\\\\n",
       "\t 4   & 4   &  19 & 215\\\\\n",
       "\t 5   & 5   &  18 &  88\\\\\n",
       "\t 6   & 6   & 114 &  37\\\\\n",
       "\\end{tabular}\n"
      ],
      "text/markdown": [
       "\n",
       "X | id | user_id | course_id | \n",
       "|---|---|---|---|---|---|\n",
       "| 1   | 1   |  18 |  88 | \n",
       "| 2   | 2   |  19 | 104 | \n",
       "| 3   | 3   |  19 | 215 | \n",
       "| 4   | 4   |  19 | 215 | \n",
       "| 5   | 5   |  18 |  88 | \n",
       "| 6   | 6   | 114 |  37 | \n",
       "\n",
       "\n"
      ],
      "text/plain": [
       "  X id user_id course_id\n",
       "1 1 1   18      88      \n",
       "2 2 2   19     104      \n",
       "3 3 3   19     215      \n",
       "4 4 4   19     215      \n",
       "5 5 5   18      88      \n",
       "6 6 6  114      37      "
      ]
     },
     "metadata": {},
     "output_type": "display_data"
    }
   ],
   "source": [
    "# Vendo as primeiras linhas do dado\n",
    "head(cursos)"
   ]
  },
  {
   "cell_type": "code",
   "execution_count": 17,
   "metadata": {},
   "outputs": [
    {
     "data": {
      "text/html": [
       "<table>\n",
       "<thead><tr><th scope=col>user_id</th><th scope=col>course_id</th><th scope=col>timeToFinish</th></tr></thead>\n",
       "<tbody>\n",
       "\t<tr><td>477</td><td> 19</td><td>0  </td></tr>\n",
       "\t<tr><td>110</td><td>251</td><td>0  </td></tr>\n",
       "\t<tr><td>474</td><td>149</td><td>0  </td></tr>\n",
       "\t<tr><td>474</td><td>140</td><td>0  </td></tr>\n",
       "\t<tr><td>474</td><td>167</td><td>0  </td></tr>\n",
       "\t<tr><td> 30</td><td>213</td><td>0  </td></tr>\n",
       "</tbody>\n",
       "</table>\n"
      ],
      "text/latex": [
       "\\begin{tabular}{r|lll}\n",
       " user\\_id & course\\_id & timeToFinish\\\\\n",
       "\\hline\n",
       "\t 477 &  19 & 0  \\\\\n",
       "\t 110 & 251 & 0  \\\\\n",
       "\t 474 & 149 & 0  \\\\\n",
       "\t 474 & 140 & 0  \\\\\n",
       "\t 474 & 167 & 0  \\\\\n",
       "\t  30 & 213 & 0  \\\\\n",
       "\\end{tabular}\n"
      ],
      "text/markdown": [
       "\n",
       "user_id | course_id | timeToFinish | \n",
       "|---|---|---|---|---|---|\n",
       "| 477 |  19 | 0   | \n",
       "| 110 | 251 | 0   | \n",
       "| 474 | 149 | 0   | \n",
       "| 474 | 140 | 0   | \n",
       "| 474 | 167 | 0   | \n",
       "|  30 | 213 | 0   | \n",
       "\n",
       "\n"
      ],
      "text/plain": [
       "  user_id course_id timeToFinish\n",
       "1 477      19       0           \n",
       "2 110     251       0           \n",
       "3 474     149       0           \n",
       "4 474     140       0           \n",
       "5 474     167       0           \n",
       "6  30     213       0           "
      ]
     },
     "metadata": {},
     "output_type": "display_data"
    }
   ],
   "source": [
    "# Vendo as primeiras linhas do dado\n",
    "head(duracao)"
   ]
  },
  {
   "cell_type": "code",
   "execution_count": null,
   "metadata": {},
   "outputs": [],
   "source": []
  }
 ],
 "metadata": {
  "kernelspec": {
   "display_name": "R",
   "language": "R",
   "name": "ir"
  },
  "language_info": {
   "codemirror_mode": "r",
   "file_extension": ".r",
   "mimetype": "text/x-r-source",
   "name": "R",
   "pygments_lexer": "r",
   "version": "3.5.0"
  }
 },
 "nbformat": 4,
 "nbformat_minor": 2
}
